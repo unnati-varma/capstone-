{
 "cells": [
  {
   "cell_type": "code",
   "execution_count": 1,
   "id": "f43c7143",
   "metadata": {},
   "outputs": [],
   "source": [
    "import pandas as pd\n",
    "import numpy as np\n",
    "import matplotlib.pyplot as plt\n",
    "%matplotlib inline\n",
    "import seaborn as sns\n",
    "\n",
    "#to display all columns in the dataset\n",
    "pd.pandas.set_option('display.max_columns',None)"
   ]
  },
  {
   "cell_type": "code",
   "execution_count": 2,
   "id": "906889dd",
   "metadata": {},
   "outputs": [
    {
     "data": {
      "text/html": [
       "<div>\n",
       "<style scoped>\n",
       "    .dataframe tbody tr th:only-of-type {\n",
       "        vertical-align: middle;\n",
       "    }\n",
       "\n",
       "    .dataframe tbody tr th {\n",
       "        vertical-align: top;\n",
       "    }\n",
       "\n",
       "    .dataframe thead th {\n",
       "        text-align: right;\n",
       "    }\n",
       "</style>\n",
       "<table border=\"1\" class=\"dataframe\">\n",
       "  <thead>\n",
       "    <tr style=\"text-align: right;\">\n",
       "      <th></th>\n",
       "      <th>id</th>\n",
       "      <th>user_id</th>\n",
       "      <th>vehicle_model_id</th>\n",
       "      <th>package_id</th>\n",
       "      <th>travel_type_id</th>\n",
       "      <th>from_area_id</th>\n",
       "      <th>to_area_id</th>\n",
       "      <th>from_city_id</th>\n",
       "      <th>to_city_id</th>\n",
       "      <th>from_date</th>\n",
       "      <th>to_date</th>\n",
       "      <th>online_booking</th>\n",
       "      <th>mobile_site_booking</th>\n",
       "      <th>booking_created</th>\n",
       "      <th>from_lat</th>\n",
       "      <th>from_long</th>\n",
       "      <th>to_lat</th>\n",
       "      <th>to_long</th>\n",
       "      <th>Car_Cancellation</th>\n",
       "    </tr>\n",
       "  </thead>\n",
       "  <tbody>\n",
       "    <tr>\n",
       "      <th>0</th>\n",
       "      <td>132512</td>\n",
       "      <td>22177</td>\n",
       "      <td>28</td>\n",
       "      <td>NaN</td>\n",
       "      <td>2</td>\n",
       "      <td>83.0</td>\n",
       "      <td>448.0</td>\n",
       "      <td>NaN</td>\n",
       "      <td>NaN</td>\n",
       "      <td>1/1/2013 2:00</td>\n",
       "      <td>NaN</td>\n",
       "      <td>0</td>\n",
       "      <td>0</td>\n",
       "      <td>1/1/2013 1:39</td>\n",
       "      <td>12.924150</td>\n",
       "      <td>77.672290</td>\n",
       "      <td>12.927320</td>\n",
       "      <td>77.635750</td>\n",
       "      <td>0</td>\n",
       "    </tr>\n",
       "    <tr>\n",
       "      <th>1</th>\n",
       "      <td>132513</td>\n",
       "      <td>21413</td>\n",
       "      <td>12</td>\n",
       "      <td>NaN</td>\n",
       "      <td>2</td>\n",
       "      <td>1010.0</td>\n",
       "      <td>540.0</td>\n",
       "      <td>NaN</td>\n",
       "      <td>NaN</td>\n",
       "      <td>1/1/2013 9:00</td>\n",
       "      <td>NaN</td>\n",
       "      <td>0</td>\n",
       "      <td>0</td>\n",
       "      <td>1/1/2013 2:25</td>\n",
       "      <td>12.966910</td>\n",
       "      <td>77.749350</td>\n",
       "      <td>12.927680</td>\n",
       "      <td>77.626640</td>\n",
       "      <td>0</td>\n",
       "    </tr>\n",
       "    <tr>\n",
       "      <th>2</th>\n",
       "      <td>132514</td>\n",
       "      <td>22178</td>\n",
       "      <td>12</td>\n",
       "      <td>NaN</td>\n",
       "      <td>2</td>\n",
       "      <td>1301.0</td>\n",
       "      <td>1034.0</td>\n",
       "      <td>NaN</td>\n",
       "      <td>NaN</td>\n",
       "      <td>1/1/2013 3:30</td>\n",
       "      <td>NaN</td>\n",
       "      <td>0</td>\n",
       "      <td>0</td>\n",
       "      <td>1/1/2013 3:08</td>\n",
       "      <td>12.937222</td>\n",
       "      <td>77.626915</td>\n",
       "      <td>13.047926</td>\n",
       "      <td>77.597766</td>\n",
       "      <td>0</td>\n",
       "    </tr>\n",
       "    <tr>\n",
       "      <th>3</th>\n",
       "      <td>132515</td>\n",
       "      <td>13034</td>\n",
       "      <td>12</td>\n",
       "      <td>NaN</td>\n",
       "      <td>2</td>\n",
       "      <td>768.0</td>\n",
       "      <td>398.0</td>\n",
       "      <td>NaN</td>\n",
       "      <td>NaN</td>\n",
       "      <td>1/1/2013 5:45</td>\n",
       "      <td>NaN</td>\n",
       "      <td>0</td>\n",
       "      <td>0</td>\n",
       "      <td>1/1/2013 4:39</td>\n",
       "      <td>12.989990</td>\n",
       "      <td>77.553320</td>\n",
       "      <td>12.971430</td>\n",
       "      <td>77.639140</td>\n",
       "      <td>0</td>\n",
       "    </tr>\n",
       "    <tr>\n",
       "      <th>4</th>\n",
       "      <td>132517</td>\n",
       "      <td>22180</td>\n",
       "      <td>12</td>\n",
       "      <td>NaN</td>\n",
       "      <td>2</td>\n",
       "      <td>1365.0</td>\n",
       "      <td>849.0</td>\n",
       "      <td>NaN</td>\n",
       "      <td>NaN</td>\n",
       "      <td>1/1/2013 9:00</td>\n",
       "      <td>NaN</td>\n",
       "      <td>0</td>\n",
       "      <td>0</td>\n",
       "      <td>1/1/2013 7:53</td>\n",
       "      <td>12.845653</td>\n",
       "      <td>77.677925</td>\n",
       "      <td>12.954340</td>\n",
       "      <td>77.600720</td>\n",
       "      <td>0</td>\n",
       "    </tr>\n",
       "  </tbody>\n",
       "</table>\n",
       "</div>"
      ],
      "text/plain": [
       "       id  user_id  vehicle_model_id  package_id  travel_type_id  \\\n",
       "0  132512    22177                28         NaN               2   \n",
       "1  132513    21413                12         NaN               2   \n",
       "2  132514    22178                12         NaN               2   \n",
       "3  132515    13034                12         NaN               2   \n",
       "4  132517    22180                12         NaN               2   \n",
       "\n",
       "   from_area_id  to_area_id  from_city_id  to_city_id      from_date  to_date  \\\n",
       "0          83.0       448.0           NaN         NaN  1/1/2013 2:00      NaN   \n",
       "1        1010.0       540.0           NaN         NaN  1/1/2013 9:00      NaN   \n",
       "2        1301.0      1034.0           NaN         NaN  1/1/2013 3:30      NaN   \n",
       "3         768.0       398.0           NaN         NaN  1/1/2013 5:45      NaN   \n",
       "4        1365.0       849.0           NaN         NaN  1/1/2013 9:00      NaN   \n",
       "\n",
       "   online_booking  mobile_site_booking booking_created   from_lat  from_long  \\\n",
       "0               0                    0   1/1/2013 1:39  12.924150  77.672290   \n",
       "1               0                    0   1/1/2013 2:25  12.966910  77.749350   \n",
       "2               0                    0   1/1/2013 3:08  12.937222  77.626915   \n",
       "3               0                    0   1/1/2013 4:39  12.989990  77.553320   \n",
       "4               0                    0   1/1/2013 7:53  12.845653  77.677925   \n",
       "\n",
       "      to_lat    to_long  Car_Cancellation  \n",
       "0  12.927320  77.635750                 0  \n",
       "1  12.927680  77.626640                 0  \n",
       "2  13.047926  77.597766                 0  \n",
       "3  12.971430  77.639140                 0  \n",
       "4  12.954340  77.600720                 0  "
      ]
     },
     "execution_count": 2,
     "metadata": {},
     "output_type": "execute_result"
    }
   ],
   "source": [
    "# importing the data\n",
    "data = pd.read_csv('YourCabs.csv')\n",
    "\n",
    "#displaying first few rows of data\n",
    "data.head()"
   ]
  },
  {
   "cell_type": "code",
   "execution_count": 3,
   "id": "d28273ea",
   "metadata": {},
   "outputs": [
    {
     "name": "stdout",
     "output_type": "stream",
     "text": [
      "number of rows : 43431\n",
      "number of columns : 19\n"
     ]
    }
   ],
   "source": [
    "# checking the number of rows and columns\n",
    "\n",
    "print('number of rows :',data.shape[0])\n",
    "print('number of columns :',data.shape[1])"
   ]
  },
  {
   "cell_type": "code",
   "execution_count": 4,
   "id": "ef7b6e5d",
   "metadata": {},
   "outputs": [
    {
     "name": "stdout",
     "output_type": "stream",
     "text": [
      "<class 'pandas.core.frame.DataFrame'>\n",
      "RangeIndex: 43431 entries, 0 to 43430\n",
      "Data columns (total 19 columns):\n",
      " #   Column               Non-Null Count  Dtype  \n",
      "---  ------               --------------  -----  \n",
      " 0   id                   43431 non-null  int64  \n",
      " 1   user_id              43431 non-null  int64  \n",
      " 2   vehicle_model_id     43431 non-null  int64  \n",
      " 3   package_id           7550 non-null   float64\n",
      " 4   travel_type_id       43431 non-null  int64  \n",
      " 5   from_area_id         43343 non-null  float64\n",
      " 6   to_area_id           34293 non-null  float64\n",
      " 7   from_city_id         16345 non-null  float64\n",
      " 8   to_city_id           1588 non-null   float64\n",
      " 9   from_date            43431 non-null  object \n",
      " 10  to_date              25541 non-null  float64\n",
      " 11  online_booking       43431 non-null  int64  \n",
      " 12  mobile_site_booking  43431 non-null  int64  \n",
      " 13  booking_created      43431 non-null  object \n",
      " 14  from_lat             43338 non-null  float64\n",
      " 15  from_long            43338 non-null  float64\n",
      " 16  to_lat               34293 non-null  float64\n",
      " 17  to_long              34293 non-null  float64\n",
      " 18  Car_Cancellation     43431 non-null  int64  \n",
      "dtypes: float64(10), int64(7), object(2)\n",
      "memory usage: 6.3+ MB\n"
     ]
    }
   ],
   "source": [
    "# information about the data\n",
    "\n",
    "data.info()"
   ]
  },
  {
   "cell_type": "code",
   "execution_count": 5,
   "id": "546a721c",
   "metadata": {},
   "outputs": [],
   "source": [
    "#!pip install pandas_profiling"
   ]
  },
  {
   "cell_type": "code",
   "execution_count": 6,
   "id": "3c9e63e2",
   "metadata": {},
   "outputs": [
    {
     "name": "stderr",
     "output_type": "stream",
     "text": [
      "C:\\Users\\LingrajRipplr\\AppData\\Local\\Temp\\ipykernel_8224\\2289324396.py:2: DeprecationWarning: `import pandas_profiling` is going to be deprecated by April 1st. Please use `import ydata_profiling` instead.\n",
      "  import pandas_profiling\n"
     ]
    }
   ],
   "source": [
    "# profile report\n",
    "import pandas_profiling"
   ]
  },
  {
   "cell_type": "code",
   "execution_count": 7,
   "id": "66f094da",
   "metadata": {},
   "outputs": [],
   "source": [
    "#profile_report = pandas_profiling.ProfileReport(data)"
   ]
  },
  {
   "cell_type": "code",
   "execution_count": 8,
   "id": "d4fcdcec",
   "metadata": {},
   "outputs": [],
   "source": [
    "#profile_report.to_file('profile_report.html')"
   ]
  },
  {
   "cell_type": "code",
   "execution_count": 9,
   "id": "6a374c3a",
   "metadata": {},
   "outputs": [],
   "source": [
    "# based on profile report following features can be dropped due to high correlation and constant values.\n",
    "\n",
    "# id, package_id, to_area_id, from_city_id, to_city_id, to_date, booking_created, to_lat, to_long"
   ]
  },
  {
   "cell_type": "code",
   "execution_count": 10,
   "id": "a7ef04cc",
   "metadata": {},
   "outputs": [],
   "source": [
    "# Data Preperation - 1"
   ]
  },
  {
   "cell_type": "code",
   "execution_count": 11,
   "id": "caa36f2c",
   "metadata": {},
   "outputs": [
    {
     "data": {
      "text/plain": [
       "Index(['id', 'user_id', 'vehicle_model_id', 'package_id', 'travel_type_id',\n",
       "       'from_area_id', 'to_area_id', 'from_city_id', 'to_city_id', 'from_date',\n",
       "       'to_date', 'online_booking', 'mobile_site_booking', 'booking_created',\n",
       "       'from_lat', 'from_long', 'to_lat', 'to_long', 'Car_Cancellation'],\n",
       "      dtype='object')"
      ]
     },
     "execution_count": 11,
     "metadata": {},
     "output_type": "execute_result"
    }
   ],
   "source": [
    "# checking variable names are appropriate or ot\n",
    "data.columns"
   ]
  },
  {
   "cell_type": "code",
   "execution_count": 12,
   "id": "65227ff9",
   "metadata": {},
   "outputs": [],
   "source": [
    "# we can se all the varibale names are appropriate"
   ]
  },
  {
   "cell_type": "code",
   "execution_count": 13,
   "id": "2f7e4a6e",
   "metadata": {},
   "outputs": [],
   "source": [
    "# based on profile report dropping columns\n",
    "data.drop(columns=['id', 'package_id', 'to_area_id', 'from_city_id', 'to_city_id', 'to_date', \n",
    "                   'booking_created', 'to_lat', 'to_long'], axis=1, inplace=True)"
   ]
  },
  {
   "cell_type": "code",
   "execution_count": 14,
   "id": "5e0e7997",
   "metadata": {
    "scrolled": false
   },
   "outputs": [
    {
     "data": {
      "text/plain": [
       "Index(['user_id', 'vehicle_model_id', 'travel_type_id', 'from_area_id',\n",
       "       'from_date', 'online_booking', 'mobile_site_booking', 'from_lat',\n",
       "       'from_long', 'Car_Cancellation'],\n",
       "      dtype='object')"
      ]
     },
     "execution_count": 14,
     "metadata": {},
     "output_type": "execute_result"
    }
   ],
   "source": [
    "data.columns"
   ]
  },
  {
   "cell_type": "code",
   "execution_count": 15,
   "id": "2c79162a",
   "metadata": {},
   "outputs": [
    {
     "data": {
      "text/plain": [
       "user_id                  int64\n",
       "vehicle_model_id         int64\n",
       "travel_type_id           int64\n",
       "from_area_id           float64\n",
       "from_date               object\n",
       "online_booking           int64\n",
       "mobile_site_booking      int64\n",
       "from_lat               float64\n",
       "from_long              float64\n",
       "Car_Cancellation         int64\n",
       "dtype: object"
      ]
     },
     "execution_count": 15,
     "metadata": {},
     "output_type": "execute_result"
    }
   ],
   "source": [
    "# Type casting of variables\n",
    "\n",
    "# checking any mismatch in the data types\n",
    "\n",
    "data.dtypes"
   ]
  },
  {
   "cell_type": "code",
   "execution_count": 16,
   "id": "b56aefa1",
   "metadata": {},
   "outputs": [
    {
     "data": {
      "text/html": [
       "<div>\n",
       "<style scoped>\n",
       "    .dataframe tbody tr th:only-of-type {\n",
       "        vertical-align: middle;\n",
       "    }\n",
       "\n",
       "    .dataframe tbody tr th {\n",
       "        vertical-align: top;\n",
       "    }\n",
       "\n",
       "    .dataframe thead th {\n",
       "        text-align: right;\n",
       "    }\n",
       "</style>\n",
       "<table border=\"1\" class=\"dataframe\">\n",
       "  <thead>\n",
       "    <tr style=\"text-align: right;\">\n",
       "      <th></th>\n",
       "      <th>user_id</th>\n",
       "      <th>vehicle_model_id</th>\n",
       "      <th>travel_type_id</th>\n",
       "      <th>from_area_id</th>\n",
       "      <th>from_date</th>\n",
       "      <th>online_booking</th>\n",
       "      <th>mobile_site_booking</th>\n",
       "      <th>from_lat</th>\n",
       "      <th>from_long</th>\n",
       "      <th>Car_Cancellation</th>\n",
       "    </tr>\n",
       "  </thead>\n",
       "  <tbody>\n",
       "    <tr>\n",
       "      <th>0</th>\n",
       "      <td>22177</td>\n",
       "      <td>28</td>\n",
       "      <td>2</td>\n",
       "      <td>83.0</td>\n",
       "      <td>1/1/2013 2:00</td>\n",
       "      <td>0</td>\n",
       "      <td>0</td>\n",
       "      <td>12.924150</td>\n",
       "      <td>77.672290</td>\n",
       "      <td>0</td>\n",
       "    </tr>\n",
       "    <tr>\n",
       "      <th>1</th>\n",
       "      <td>21413</td>\n",
       "      <td>12</td>\n",
       "      <td>2</td>\n",
       "      <td>1010.0</td>\n",
       "      <td>1/1/2013 9:00</td>\n",
       "      <td>0</td>\n",
       "      <td>0</td>\n",
       "      <td>12.966910</td>\n",
       "      <td>77.749350</td>\n",
       "      <td>0</td>\n",
       "    </tr>\n",
       "    <tr>\n",
       "      <th>2</th>\n",
       "      <td>22178</td>\n",
       "      <td>12</td>\n",
       "      <td>2</td>\n",
       "      <td>1301.0</td>\n",
       "      <td>1/1/2013 3:30</td>\n",
       "      <td>0</td>\n",
       "      <td>0</td>\n",
       "      <td>12.937222</td>\n",
       "      <td>77.626915</td>\n",
       "      <td>0</td>\n",
       "    </tr>\n",
       "    <tr>\n",
       "      <th>3</th>\n",
       "      <td>13034</td>\n",
       "      <td>12</td>\n",
       "      <td>2</td>\n",
       "      <td>768.0</td>\n",
       "      <td>1/1/2013 5:45</td>\n",
       "      <td>0</td>\n",
       "      <td>0</td>\n",
       "      <td>12.989990</td>\n",
       "      <td>77.553320</td>\n",
       "      <td>0</td>\n",
       "    </tr>\n",
       "    <tr>\n",
       "      <th>4</th>\n",
       "      <td>22180</td>\n",
       "      <td>12</td>\n",
       "      <td>2</td>\n",
       "      <td>1365.0</td>\n",
       "      <td>1/1/2013 9:00</td>\n",
       "      <td>0</td>\n",
       "      <td>0</td>\n",
       "      <td>12.845653</td>\n",
       "      <td>77.677925</td>\n",
       "      <td>0</td>\n",
       "    </tr>\n",
       "  </tbody>\n",
       "</table>\n",
       "</div>"
      ],
      "text/plain": [
       "   user_id  vehicle_model_id  travel_type_id  from_area_id      from_date  \\\n",
       "0    22177                28               2          83.0  1/1/2013 2:00   \n",
       "1    21413                12               2        1010.0  1/1/2013 9:00   \n",
       "2    22178                12               2        1301.0  1/1/2013 3:30   \n",
       "3    13034                12               2         768.0  1/1/2013 5:45   \n",
       "4    22180                12               2        1365.0  1/1/2013 9:00   \n",
       "\n",
       "   online_booking  mobile_site_booking   from_lat  from_long  Car_Cancellation  \n",
       "0               0                    0  12.924150  77.672290                 0  \n",
       "1               0                    0  12.966910  77.749350                 0  \n",
       "2               0                    0  12.937222  77.626915                 0  \n",
       "3               0                    0  12.989990  77.553320                 0  \n",
       "4               0                    0  12.845653  77.677925                 0  "
      ]
     },
     "execution_count": 16,
     "metadata": {},
     "output_type": "execute_result"
    }
   ],
   "source": [
    "data.head(5)"
   ]
  },
  {
   "cell_type": "code",
   "execution_count": 17,
   "id": "a8495e36",
   "metadata": {},
   "outputs": [],
   "source": [
    "# we can see that variable from_date is having mismatched datatype"
   ]
  },
  {
   "cell_type": "code",
   "execution_count": 18,
   "id": "27b74cc8",
   "metadata": {},
   "outputs": [],
   "source": [
    "# converting to correct datatype\n",
    "data['from_date'] =  pd.to_datetime(data['from_date'], infer_datetime_format=True)"
   ]
  },
  {
   "cell_type": "code",
   "execution_count": 19,
   "id": "a6d4359f",
   "metadata": {},
   "outputs": [
    {
     "data": {
      "text/plain": [
       "user_id                         int64\n",
       "vehicle_model_id                int64\n",
       "travel_type_id                  int64\n",
       "from_area_id                  float64\n",
       "from_date              datetime64[ns]\n",
       "online_booking                  int64\n",
       "mobile_site_booking             int64\n",
       "from_lat                      float64\n",
       "from_long                     float64\n",
       "Car_Cancellation                int64\n",
       "dtype: object"
      ]
     },
     "execution_count": 19,
     "metadata": {},
     "output_type": "execute_result"
    }
   ],
   "source": [
    "# confirming variable from_date have correct datatype\n",
    "data.dtypes"
   ]
  },
  {
   "cell_type": "code",
   "execution_count": 20,
   "id": "0aedc97a",
   "metadata": {},
   "outputs": [
    {
     "data": {
      "text/plain": [
       "user_id                 0\n",
       "vehicle_model_id        0\n",
       "travel_type_id          0\n",
       "from_area_id           88\n",
       "from_date               0\n",
       "online_booking          0\n",
       "mobile_site_booking     0\n",
       "from_lat               93\n",
       "from_long              93\n",
       "Car_Cancellation        0\n",
       "dtype: int64"
      ]
     },
     "execution_count": 20,
     "metadata": {},
     "output_type": "execute_result"
    }
   ],
   "source": [
    "# we can see there are very less records with null entries\n",
    "data.isnull().sum()"
   ]
  },
  {
   "cell_type": "code",
   "execution_count": 21,
   "id": "09dba6fe",
   "metadata": {},
   "outputs": [],
   "source": [
    "# since there are less null records we can either drop the null records or replace with mean."
   ]
  },
  {
   "cell_type": "code",
   "execution_count": 22,
   "id": "ad1c8856",
   "metadata": {},
   "outputs": [],
   "source": [
    "# dropping the null records\n",
    "data = data.dropna(subset=['from_area_id','from_lat','from_long'])"
   ]
  },
  {
   "cell_type": "code",
   "execution_count": 23,
   "id": "75fea3e4",
   "metadata": {},
   "outputs": [
    {
     "data": {
      "text/html": [
       "<div>\n",
       "<style scoped>\n",
       "    .dataframe tbody tr th:only-of-type {\n",
       "        vertical-align: middle;\n",
       "    }\n",
       "\n",
       "    .dataframe tbody tr th {\n",
       "        vertical-align: top;\n",
       "    }\n",
       "\n",
       "    .dataframe thead th {\n",
       "        text-align: right;\n",
       "    }\n",
       "</style>\n",
       "<table border=\"1\" class=\"dataframe\">\n",
       "  <thead>\n",
       "    <tr style=\"text-align: right;\">\n",
       "      <th></th>\n",
       "      <th>user_id</th>\n",
       "      <th>vehicle_model_id</th>\n",
       "      <th>travel_type_id</th>\n",
       "      <th>from_area_id</th>\n",
       "      <th>online_booking</th>\n",
       "      <th>mobile_site_booking</th>\n",
       "      <th>from_lat</th>\n",
       "      <th>from_long</th>\n",
       "      <th>Car_Cancellation</th>\n",
       "    </tr>\n",
       "  </thead>\n",
       "  <tbody>\n",
       "    <tr>\n",
       "      <th>count</th>\n",
       "      <td>43338.000000</td>\n",
       "      <td>43338.000000</td>\n",
       "      <td>43338.000000</td>\n",
       "      <td>43338.000000</td>\n",
       "      <td>43338.000000</td>\n",
       "      <td>43338.000000</td>\n",
       "      <td>43338.000000</td>\n",
       "      <td>43338.000000</td>\n",
       "      <td>43338.000000</td>\n",
       "    </tr>\n",
       "    <tr>\n",
       "      <th>mean</th>\n",
       "      <td>30728.944298</td>\n",
       "      <td>25.684872</td>\n",
       "      <td>2.139693</td>\n",
       "      <td>714.465827</td>\n",
       "      <td>0.350847</td>\n",
       "      <td>0.043288</td>\n",
       "      <td>12.982461</td>\n",
       "      <td>77.636255</td>\n",
       "      <td>0.072223</td>\n",
       "    </tr>\n",
       "    <tr>\n",
       "      <th>std</th>\n",
       "      <td>10995.983150</td>\n",
       "      <td>26.781399</td>\n",
       "      <td>0.434996</td>\n",
       "      <td>419.843890</td>\n",
       "      <td>0.477241</td>\n",
       "      <td>0.203506</td>\n",
       "      <td>0.085933</td>\n",
       "      <td>0.059391</td>\n",
       "      <td>0.258860</td>\n",
       "    </tr>\n",
       "    <tr>\n",
       "      <th>min</th>\n",
       "      <td>16.000000</td>\n",
       "      <td>1.000000</td>\n",
       "      <td>1.000000</td>\n",
       "      <td>2.000000</td>\n",
       "      <td>0.000000</td>\n",
       "      <td>0.000000</td>\n",
       "      <td>12.776630</td>\n",
       "      <td>77.386930</td>\n",
       "      <td>0.000000</td>\n",
       "    </tr>\n",
       "    <tr>\n",
       "      <th>25%</th>\n",
       "      <td>24603.250000</td>\n",
       "      <td>12.000000</td>\n",
       "      <td>2.000000</td>\n",
       "      <td>393.000000</td>\n",
       "      <td>0.000000</td>\n",
       "      <td>0.000000</td>\n",
       "      <td>12.926450</td>\n",
       "      <td>77.593661</td>\n",
       "      <td>0.000000</td>\n",
       "    </tr>\n",
       "    <tr>\n",
       "      <th>50%</th>\n",
       "      <td>31608.500000</td>\n",
       "      <td>12.000000</td>\n",
       "      <td>2.000000</td>\n",
       "      <td>590.000000</td>\n",
       "      <td>0.000000</td>\n",
       "      <td>0.000000</td>\n",
       "      <td>12.968887</td>\n",
       "      <td>77.635750</td>\n",
       "      <td>0.000000</td>\n",
       "    </tr>\n",
       "    <tr>\n",
       "      <th>75%</th>\n",
       "      <td>39162.750000</td>\n",
       "      <td>24.000000</td>\n",
       "      <td>2.000000</td>\n",
       "      <td>1089.000000</td>\n",
       "      <td>1.000000</td>\n",
       "      <td>0.000000</td>\n",
       "      <td>13.007750</td>\n",
       "      <td>77.688900</td>\n",
       "      <td>0.000000</td>\n",
       "    </tr>\n",
       "    <tr>\n",
       "      <th>max</th>\n",
       "      <td>48730.000000</td>\n",
       "      <td>91.000000</td>\n",
       "      <td>3.000000</td>\n",
       "      <td>1403.000000</td>\n",
       "      <td>1.000000</td>\n",
       "      <td>1.000000</td>\n",
       "      <td>13.366072</td>\n",
       "      <td>77.786420</td>\n",
       "      <td>1.000000</td>\n",
       "    </tr>\n",
       "  </tbody>\n",
       "</table>\n",
       "</div>"
      ],
      "text/plain": [
       "            user_id  vehicle_model_id  travel_type_id  from_area_id  \\\n",
       "count  43338.000000      43338.000000    43338.000000  43338.000000   \n",
       "mean   30728.944298         25.684872        2.139693    714.465827   \n",
       "std    10995.983150         26.781399        0.434996    419.843890   \n",
       "min       16.000000          1.000000        1.000000      2.000000   \n",
       "25%    24603.250000         12.000000        2.000000    393.000000   \n",
       "50%    31608.500000         12.000000        2.000000    590.000000   \n",
       "75%    39162.750000         24.000000        2.000000   1089.000000   \n",
       "max    48730.000000         91.000000        3.000000   1403.000000   \n",
       "\n",
       "       online_booking  mobile_site_booking      from_lat     from_long  \\\n",
       "count    43338.000000         43338.000000  43338.000000  43338.000000   \n",
       "mean         0.350847             0.043288     12.982461     77.636255   \n",
       "std          0.477241             0.203506      0.085933      0.059391   \n",
       "min          0.000000             0.000000     12.776630     77.386930   \n",
       "25%          0.000000             0.000000     12.926450     77.593661   \n",
       "50%          0.000000             0.000000     12.968887     77.635750   \n",
       "75%          1.000000             0.000000     13.007750     77.688900   \n",
       "max          1.000000             1.000000     13.366072     77.786420   \n",
       "\n",
       "       Car_Cancellation  \n",
       "count      43338.000000  \n",
       "mean           0.072223  \n",
       "std            0.258860  \n",
       "min            0.000000  \n",
       "25%            0.000000  \n",
       "50%            0.000000  \n",
       "75%            0.000000  \n",
       "max            1.000000  "
      ]
     },
     "execution_count": 23,
     "metadata": {},
     "output_type": "execute_result"
    }
   ],
   "source": [
    "# handing for outliers\n",
    "\n",
    "data.describe()"
   ]
  },
  {
   "cell_type": "code",
   "execution_count": 24,
   "id": "34d381fa",
   "metadata": {},
   "outputs": [],
   "source": [
    "def outlier_treat(x):\n",
    "    if ((x.dtype=='int') | (x.dtype=='float')):\n",
    "        x = x.clip(lower=x.quantile(0.03), upper=x.quantile(0.97))\n",
    "    else:\n",
    "        x = x\n",
    "    return x"
   ]
  },
  {
   "cell_type": "code",
   "execution_count": 25,
   "id": "dc05e9bb",
   "metadata": {},
   "outputs": [],
   "source": [
    "data = data.apply(outlier_treat)"
   ]
  },
  {
   "cell_type": "code",
   "execution_count": 26,
   "id": "01a3fa32",
   "metadata": {},
   "outputs": [
    {
     "data": {
      "text/html": [
       "<div>\n",
       "<style scoped>\n",
       "    .dataframe tbody tr th:only-of-type {\n",
       "        vertical-align: middle;\n",
       "    }\n",
       "\n",
       "    .dataframe tbody tr th {\n",
       "        vertical-align: top;\n",
       "    }\n",
       "\n",
       "    .dataframe thead th {\n",
       "        text-align: right;\n",
       "    }\n",
       "</style>\n",
       "<table border=\"1\" class=\"dataframe\">\n",
       "  <thead>\n",
       "    <tr style=\"text-align: right;\">\n",
       "      <th></th>\n",
       "      <th>user_id</th>\n",
       "      <th>vehicle_model_id</th>\n",
       "      <th>travel_type_id</th>\n",
       "      <th>from_area_id</th>\n",
       "      <th>online_booking</th>\n",
       "      <th>mobile_site_booking</th>\n",
       "      <th>from_lat</th>\n",
       "      <th>from_long</th>\n",
       "      <th>Car_Cancellation</th>\n",
       "    </tr>\n",
       "  </thead>\n",
       "  <tbody>\n",
       "    <tr>\n",
       "      <th>count</th>\n",
       "      <td>43338.000000</td>\n",
       "      <td>43338.000000</td>\n",
       "      <td>43338.000000</td>\n",
       "      <td>43338.000000</td>\n",
       "      <td>43338.000000</td>\n",
       "      <td>43338.000000</td>\n",
       "      <td>43338.000000</td>\n",
       "      <td>43338.000000</td>\n",
       "      <td>43338.000000</td>\n",
       "    </tr>\n",
       "    <tr>\n",
       "      <th>mean</th>\n",
       "      <td>30728.944298</td>\n",
       "      <td>25.684872</td>\n",
       "      <td>2.139693</td>\n",
       "      <td>715.175989</td>\n",
       "      <td>0.350847</td>\n",
       "      <td>0.043288</td>\n",
       "      <td>12.982690</td>\n",
       "      <td>77.636723</td>\n",
       "      <td>0.072223</td>\n",
       "    </tr>\n",
       "    <tr>\n",
       "      <th>std</th>\n",
       "      <td>10995.983150</td>\n",
       "      <td>26.781399</td>\n",
       "      <td>0.434996</td>\n",
       "      <td>418.271303</td>\n",
       "      <td>0.477241</td>\n",
       "      <td>0.203506</td>\n",
       "      <td>0.085317</td>\n",
       "      <td>0.056829</td>\n",
       "      <td>0.258860</td>\n",
       "    </tr>\n",
       "    <tr>\n",
       "      <th>min</th>\n",
       "      <td>16.000000</td>\n",
       "      <td>1.000000</td>\n",
       "      <td>1.000000</td>\n",
       "      <td>83.000000</td>\n",
       "      <td>0.000000</td>\n",
       "      <td>0.000000</td>\n",
       "      <td>12.849482</td>\n",
       "      <td>77.533286</td>\n",
       "      <td>0.000000</td>\n",
       "    </tr>\n",
       "    <tr>\n",
       "      <th>25%</th>\n",
       "      <td>24603.250000</td>\n",
       "      <td>12.000000</td>\n",
       "      <td>2.000000</td>\n",
       "      <td>393.000000</td>\n",
       "      <td>0.000000</td>\n",
       "      <td>0.000000</td>\n",
       "      <td>12.926450</td>\n",
       "      <td>77.593661</td>\n",
       "      <td>0.000000</td>\n",
       "    </tr>\n",
       "    <tr>\n",
       "      <th>50%</th>\n",
       "      <td>31608.500000</td>\n",
       "      <td>12.000000</td>\n",
       "      <td>2.000000</td>\n",
       "      <td>590.000000</td>\n",
       "      <td>0.000000</td>\n",
       "      <td>0.000000</td>\n",
       "      <td>12.968887</td>\n",
       "      <td>77.635750</td>\n",
       "      <td>0.000000</td>\n",
       "    </tr>\n",
       "    <tr>\n",
       "      <th>75%</th>\n",
       "      <td>39162.750000</td>\n",
       "      <td>24.000000</td>\n",
       "      <td>2.000000</td>\n",
       "      <td>1089.000000</td>\n",
       "      <td>1.000000</td>\n",
       "      <td>0.000000</td>\n",
       "      <td>13.007750</td>\n",
       "      <td>77.688900</td>\n",
       "      <td>0.000000</td>\n",
       "    </tr>\n",
       "    <tr>\n",
       "      <th>max</th>\n",
       "      <td>48730.000000</td>\n",
       "      <td>91.000000</td>\n",
       "      <td>3.000000</td>\n",
       "      <td>1383.000000</td>\n",
       "      <td>1.000000</td>\n",
       "      <td>1.000000</td>\n",
       "      <td>13.199560</td>\n",
       "      <td>77.735245</td>\n",
       "      <td>1.000000</td>\n",
       "    </tr>\n",
       "  </tbody>\n",
       "</table>\n",
       "</div>"
      ],
      "text/plain": [
       "            user_id  vehicle_model_id  travel_type_id  from_area_id  \\\n",
       "count  43338.000000      43338.000000    43338.000000  43338.000000   \n",
       "mean   30728.944298         25.684872        2.139693    715.175989   \n",
       "std    10995.983150         26.781399        0.434996    418.271303   \n",
       "min       16.000000          1.000000        1.000000     83.000000   \n",
       "25%    24603.250000         12.000000        2.000000    393.000000   \n",
       "50%    31608.500000         12.000000        2.000000    590.000000   \n",
       "75%    39162.750000         24.000000        2.000000   1089.000000   \n",
       "max    48730.000000         91.000000        3.000000   1383.000000   \n",
       "\n",
       "       online_booking  mobile_site_booking      from_lat     from_long  \\\n",
       "count    43338.000000         43338.000000  43338.000000  43338.000000   \n",
       "mean         0.350847             0.043288     12.982690     77.636723   \n",
       "std          0.477241             0.203506      0.085317      0.056829   \n",
       "min          0.000000             0.000000     12.849482     77.533286   \n",
       "25%          0.000000             0.000000     12.926450     77.593661   \n",
       "50%          0.000000             0.000000     12.968887     77.635750   \n",
       "75%          1.000000             0.000000     13.007750     77.688900   \n",
       "max          1.000000             1.000000     13.199560     77.735245   \n",
       "\n",
       "       Car_Cancellation  \n",
       "count      43338.000000  \n",
       "mean           0.072223  \n",
       "std            0.258860  \n",
       "min            0.000000  \n",
       "25%            0.000000  \n",
       "50%            0.000000  \n",
       "75%            0.000000  \n",
       "max            1.000000  "
      ]
     },
     "execution_count": 26,
     "metadata": {},
     "output_type": "execute_result"
    }
   ],
   "source": [
    "data.describe()"
   ]
  },
  {
   "cell_type": "code",
   "execution_count": 27,
   "id": "94be0d30",
   "metadata": {},
   "outputs": [
    {
     "name": "stdout",
     "output_type": "stream",
     "text": [
      "categorical variable count 0\n"
     ]
    }
   ],
   "source": [
    "# checking weather encoding is required\n",
    "\n",
    "cat_var = [feature for feature in data.columns if data[feature].dtype=='O']\n",
    "\n",
    "print('categorical variable count {}'.format(len(cat_var)))\n",
    "\n",
    "# display of data with categorical features\n"
   ]
  },
  {
   "cell_type": "code",
   "execution_count": 28,
   "id": "c7948897",
   "metadata": {},
   "outputs": [],
   "source": [
    "# we can see that there are no categorical variable hence encoding is not required"
   ]
  },
  {
   "cell_type": "code",
   "execution_count": 29,
   "id": "f1403578",
   "metadata": {},
   "outputs": [
    {
     "data": {
      "text/html": [
       "<div>\n",
       "<style scoped>\n",
       "    .dataframe tbody tr th:only-of-type {\n",
       "        vertical-align: middle;\n",
       "    }\n",
       "\n",
       "    .dataframe tbody tr th {\n",
       "        vertical-align: top;\n",
       "    }\n",
       "\n",
       "    .dataframe thead th {\n",
       "        text-align: right;\n",
       "    }\n",
       "</style>\n",
       "<table border=\"1\" class=\"dataframe\">\n",
       "  <thead>\n",
       "    <tr style=\"text-align: right;\">\n",
       "      <th></th>\n",
       "      <th>user_id</th>\n",
       "      <th>vehicle_model_id</th>\n",
       "      <th>travel_type_id</th>\n",
       "      <th>from_area_id</th>\n",
       "      <th>from_date</th>\n",
       "      <th>online_booking</th>\n",
       "      <th>mobile_site_booking</th>\n",
       "      <th>from_lat</th>\n",
       "      <th>from_long</th>\n",
       "      <th>Car_Cancellation</th>\n",
       "    </tr>\n",
       "  </thead>\n",
       "  <tbody>\n",
       "    <tr>\n",
       "      <th>0</th>\n",
       "      <td>22177</td>\n",
       "      <td>28</td>\n",
       "      <td>2</td>\n",
       "      <td>83.0</td>\n",
       "      <td>2013-01-01 02:00:00</td>\n",
       "      <td>0</td>\n",
       "      <td>0</td>\n",
       "      <td>12.924150</td>\n",
       "      <td>77.672290</td>\n",
       "      <td>0</td>\n",
       "    </tr>\n",
       "    <tr>\n",
       "      <th>1</th>\n",
       "      <td>21413</td>\n",
       "      <td>12</td>\n",
       "      <td>2</td>\n",
       "      <td>1010.0</td>\n",
       "      <td>2013-01-01 09:00:00</td>\n",
       "      <td>0</td>\n",
       "      <td>0</td>\n",
       "      <td>12.966910</td>\n",
       "      <td>77.735245</td>\n",
       "      <td>0</td>\n",
       "    </tr>\n",
       "    <tr>\n",
       "      <th>2</th>\n",
       "      <td>22178</td>\n",
       "      <td>12</td>\n",
       "      <td>2</td>\n",
       "      <td>1301.0</td>\n",
       "      <td>2013-01-01 03:30:00</td>\n",
       "      <td>0</td>\n",
       "      <td>0</td>\n",
       "      <td>12.937222</td>\n",
       "      <td>77.626915</td>\n",
       "      <td>0</td>\n",
       "    </tr>\n",
       "    <tr>\n",
       "      <th>3</th>\n",
       "      <td>13034</td>\n",
       "      <td>12</td>\n",
       "      <td>2</td>\n",
       "      <td>768.0</td>\n",
       "      <td>2013-01-01 05:45:00</td>\n",
       "      <td>0</td>\n",
       "      <td>0</td>\n",
       "      <td>12.989990</td>\n",
       "      <td>77.553320</td>\n",
       "      <td>0</td>\n",
       "    </tr>\n",
       "    <tr>\n",
       "      <th>4</th>\n",
       "      <td>22180</td>\n",
       "      <td>12</td>\n",
       "      <td>2</td>\n",
       "      <td>1365.0</td>\n",
       "      <td>2013-01-01 09:00:00</td>\n",
       "      <td>0</td>\n",
       "      <td>0</td>\n",
       "      <td>12.849482</td>\n",
       "      <td>77.677925</td>\n",
       "      <td>0</td>\n",
       "    </tr>\n",
       "  </tbody>\n",
       "</table>\n",
       "</div>"
      ],
      "text/plain": [
       "   user_id  vehicle_model_id  travel_type_id  from_area_id  \\\n",
       "0    22177                28               2          83.0   \n",
       "1    21413                12               2        1010.0   \n",
       "2    22178                12               2        1301.0   \n",
       "3    13034                12               2         768.0   \n",
       "4    22180                12               2        1365.0   \n",
       "\n",
       "            from_date  online_booking  mobile_site_booking   from_lat  \\\n",
       "0 2013-01-01 02:00:00               0                    0  12.924150   \n",
       "1 2013-01-01 09:00:00               0                    0  12.966910   \n",
       "2 2013-01-01 03:30:00               0                    0  12.937222   \n",
       "3 2013-01-01 05:45:00               0                    0  12.989990   \n",
       "4 2013-01-01 09:00:00               0                    0  12.849482   \n",
       "\n",
       "   from_long  Car_Cancellation  \n",
       "0  77.672290                 0  \n",
       "1  77.735245                 0  \n",
       "2  77.626915                 0  \n",
       "3  77.553320                 0  \n",
       "4  77.677925                 0  "
      ]
     },
     "execution_count": 29,
     "metadata": {},
     "output_type": "execute_result"
    }
   ],
   "source": [
    "data.head()"
   ]
  },
  {
   "cell_type": "code",
   "execution_count": 30,
   "id": "3a8818c9",
   "metadata": {},
   "outputs": [],
   "source": [
    "# convenrting date variable\n",
    "\n",
    "data['day_of_jrny'] = pd.to_datetime(data.from_date ,format='%y/%m/%d').dt.day\n",
    "data['month_of_jrny'] = pd.to_datetime(data.from_date ,format='%y/%m/%d').dt.month\n",
    "data['year_of_jrny'] = pd.to_datetime(data.from_date ,format='%y/%m/%d').dt.year\n",
    "data['jrny_time']=pd.to_datetime(data['from_date']).dt.hour\n",
    "data['jrny_min']=pd.to_datetime(data['from_date']).dt.minute"
   ]
  },
  {
   "cell_type": "code",
   "execution_count": 31,
   "id": "6dc49197",
   "metadata": {},
   "outputs": [],
   "source": [
    "data.drop('from_date',axis=1,inplace=True)"
   ]
  },
  {
   "cell_type": "code",
   "execution_count": 32,
   "id": "a3dafccf",
   "metadata": {},
   "outputs": [
    {
     "data": {
      "text/html": [
       "<div>\n",
       "<style scoped>\n",
       "    .dataframe tbody tr th:only-of-type {\n",
       "        vertical-align: middle;\n",
       "    }\n",
       "\n",
       "    .dataframe tbody tr th {\n",
       "        vertical-align: top;\n",
       "    }\n",
       "\n",
       "    .dataframe thead th {\n",
       "        text-align: right;\n",
       "    }\n",
       "</style>\n",
       "<table border=\"1\" class=\"dataframe\">\n",
       "  <thead>\n",
       "    <tr style=\"text-align: right;\">\n",
       "      <th></th>\n",
       "      <th>user_id</th>\n",
       "      <th>vehicle_model_id</th>\n",
       "      <th>travel_type_id</th>\n",
       "      <th>from_area_id</th>\n",
       "      <th>online_booking</th>\n",
       "      <th>mobile_site_booking</th>\n",
       "      <th>from_lat</th>\n",
       "      <th>from_long</th>\n",
       "      <th>Car_Cancellation</th>\n",
       "      <th>day_of_jrny</th>\n",
       "      <th>month_of_jrny</th>\n",
       "      <th>year_of_jrny</th>\n",
       "      <th>jrny_time</th>\n",
       "      <th>jrny_min</th>\n",
       "    </tr>\n",
       "  </thead>\n",
       "  <tbody>\n",
       "    <tr>\n",
       "      <th>0</th>\n",
       "      <td>22177</td>\n",
       "      <td>28</td>\n",
       "      <td>2</td>\n",
       "      <td>83.0</td>\n",
       "      <td>0</td>\n",
       "      <td>0</td>\n",
       "      <td>12.924150</td>\n",
       "      <td>77.672290</td>\n",
       "      <td>0</td>\n",
       "      <td>1</td>\n",
       "      <td>1</td>\n",
       "      <td>2013</td>\n",
       "      <td>2</td>\n",
       "      <td>0</td>\n",
       "    </tr>\n",
       "    <tr>\n",
       "      <th>1</th>\n",
       "      <td>21413</td>\n",
       "      <td>12</td>\n",
       "      <td>2</td>\n",
       "      <td>1010.0</td>\n",
       "      <td>0</td>\n",
       "      <td>0</td>\n",
       "      <td>12.966910</td>\n",
       "      <td>77.735245</td>\n",
       "      <td>0</td>\n",
       "      <td>1</td>\n",
       "      <td>1</td>\n",
       "      <td>2013</td>\n",
       "      <td>9</td>\n",
       "      <td>0</td>\n",
       "    </tr>\n",
       "    <tr>\n",
       "      <th>2</th>\n",
       "      <td>22178</td>\n",
       "      <td>12</td>\n",
       "      <td>2</td>\n",
       "      <td>1301.0</td>\n",
       "      <td>0</td>\n",
       "      <td>0</td>\n",
       "      <td>12.937222</td>\n",
       "      <td>77.626915</td>\n",
       "      <td>0</td>\n",
       "      <td>1</td>\n",
       "      <td>1</td>\n",
       "      <td>2013</td>\n",
       "      <td>3</td>\n",
       "      <td>30</td>\n",
       "    </tr>\n",
       "    <tr>\n",
       "      <th>3</th>\n",
       "      <td>13034</td>\n",
       "      <td>12</td>\n",
       "      <td>2</td>\n",
       "      <td>768.0</td>\n",
       "      <td>0</td>\n",
       "      <td>0</td>\n",
       "      <td>12.989990</td>\n",
       "      <td>77.553320</td>\n",
       "      <td>0</td>\n",
       "      <td>1</td>\n",
       "      <td>1</td>\n",
       "      <td>2013</td>\n",
       "      <td>5</td>\n",
       "      <td>45</td>\n",
       "    </tr>\n",
       "    <tr>\n",
       "      <th>4</th>\n",
       "      <td>22180</td>\n",
       "      <td>12</td>\n",
       "      <td>2</td>\n",
       "      <td>1365.0</td>\n",
       "      <td>0</td>\n",
       "      <td>0</td>\n",
       "      <td>12.849482</td>\n",
       "      <td>77.677925</td>\n",
       "      <td>0</td>\n",
       "      <td>1</td>\n",
       "      <td>1</td>\n",
       "      <td>2013</td>\n",
       "      <td>9</td>\n",
       "      <td>0</td>\n",
       "    </tr>\n",
       "  </tbody>\n",
       "</table>\n",
       "</div>"
      ],
      "text/plain": [
       "   user_id  vehicle_model_id  travel_type_id  from_area_id  online_booking  \\\n",
       "0    22177                28               2          83.0               0   \n",
       "1    21413                12               2        1010.0               0   \n",
       "2    22178                12               2        1301.0               0   \n",
       "3    13034                12               2         768.0               0   \n",
       "4    22180                12               2        1365.0               0   \n",
       "\n",
       "   mobile_site_booking   from_lat  from_long  Car_Cancellation  day_of_jrny  \\\n",
       "0                    0  12.924150  77.672290                 0            1   \n",
       "1                    0  12.966910  77.735245                 0            1   \n",
       "2                    0  12.937222  77.626915                 0            1   \n",
       "3                    0  12.989990  77.553320                 0            1   \n",
       "4                    0  12.849482  77.677925                 0            1   \n",
       "\n",
       "   month_of_jrny  year_of_jrny  jrny_time  jrny_min  \n",
       "0              1          2013          2         0  \n",
       "1              1          2013          9         0  \n",
       "2              1          2013          3        30  \n",
       "3              1          2013          5        45  \n",
       "4              1          2013          9         0  "
      ]
     },
     "execution_count": 32,
     "metadata": {},
     "output_type": "execute_result"
    }
   ],
   "source": [
    "data.head(5)"
   ]
  },
  {
   "cell_type": "code",
   "execution_count": 33,
   "id": "ed30c6f6",
   "metadata": {},
   "outputs": [
    {
     "name": "stdout",
     "output_type": "stream",
     "text": [
      "<class 'pandas.core.frame.DataFrame'>\n",
      "Int64Index: 43338 entries, 0 to 43430\n",
      "Data columns (total 14 columns):\n",
      " #   Column               Non-Null Count  Dtype  \n",
      "---  ------               --------------  -----  \n",
      " 0   user_id              43338 non-null  int64  \n",
      " 1   vehicle_model_id     43338 non-null  int64  \n",
      " 2   travel_type_id       43338 non-null  int64  \n",
      " 3   from_area_id         43338 non-null  float64\n",
      " 4   online_booking       43338 non-null  int64  \n",
      " 5   mobile_site_booking  43338 non-null  int64  \n",
      " 6   from_lat             43338 non-null  float64\n",
      " 7   from_long            43338 non-null  float64\n",
      " 8   Car_Cancellation     43338 non-null  int64  \n",
      " 9   day_of_jrny          43338 non-null  int64  \n",
      " 10  month_of_jrny        43338 non-null  int64  \n",
      " 11  year_of_jrny         43338 non-null  int64  \n",
      " 12  jrny_time            43338 non-null  int64  \n",
      " 13  jrny_min             43338 non-null  int64  \n",
      "dtypes: float64(3), int64(11)\n",
      "memory usage: 5.0 MB\n"
     ]
    }
   ],
   "source": [
    "data.info()"
   ]
  },
  {
   "cell_type": "markdown",
   "id": "a4a08f1b",
   "metadata": {},
   "source": [
    "### Classification without sampling"
   ]
  },
  {
   "cell_type": "code",
   "execution_count": 34,
   "id": "617a54c1",
   "metadata": {},
   "outputs": [],
   "source": [
    "# Feature Engineering - Variable Reduction"
   ]
  },
  {
   "cell_type": "code",
   "execution_count": 35,
   "id": "16029617",
   "metadata": {},
   "outputs": [],
   "source": [
    "# Information Value"
   ]
  },
  {
   "cell_type": "code",
   "execution_count": 36,
   "id": "8f7d3ca3",
   "metadata": {},
   "outputs": [],
   "source": [
    "#Information value calculation\n",
    "def calculate_woe_iv(dataset, feature, target):\n",
    "    lst = []\n",
    "    for i in range(dataset[feature].nunique()):\n",
    "        val = list(dataset[feature].unique())[i]\n",
    "        lst.append({\n",
    "            'Value': val,\n",
    "            'All': dataset[dataset[feature] == val].count()[feature],\n",
    "            'Good': dataset[(dataset[feature] == val) & (dataset[target] == 0)].count()[feature],\n",
    "            'Bad': dataset[(dataset[feature] == val) & (dataset[target] == 1)].count()[feature]\n",
    "        })\n",
    "        \n",
    "    dset = pd.DataFrame(lst)\n",
    "    dset['Distr_Good'] = dset['Good'] / dset['Good'].sum()\n",
    "    dset['Distr_Bad'] = dset['Bad'] / dset['Bad'].sum()\n",
    "    dset['WoE'] = np.log(dset['Distr_Good'] / dset['Distr_Bad'])\n",
    "    dset = dset.replace({'WoE': {np.inf: 0, -np.inf: 0}})\n",
    "    dset['IV'] = (dset['Distr_Good'] - dset['Distr_Bad']) * dset['WoE']\n",
    "    iv = dset['IV'].sum()\n",
    "    \n",
    "    dset = dset.sort_values(by='WoE')\n",
    "    \n",
    "    return dset, iv"
   ]
  },
  {
   "cell_type": "code",
   "execution_count": 37,
   "id": "983b9e35",
   "metadata": {},
   "outputs": [
    {
     "name": "stdout",
     "output_type": "stream",
     "text": [
      "WoE and IV for column: user_id\n"
     ]
    },
    {
     "name": "stderr",
     "output_type": "stream",
     "text": [
      "C:\\Users\\LingrajRipplr\\anaconda3\\lib\\site-packages\\pandas\\core\\arraylike.py:397: RuntimeWarning: divide by zero encountered in log\n",
      "  result = getattr(ufunc, method)(*inputs, **kwargs)\n"
     ]
    },
    {
     "name": "stdout",
     "output_type": "stream",
     "text": [
      "IV score: 0.64\n",
      "\n",
      "\n",
      "WoE and IV for column: vehicle_model_id\n",
      "IV score: 0.39\n",
      "\n",
      "\n",
      "WoE and IV for column: travel_type_id\n",
      "IV score: 0.10\n",
      "\n",
      "\n",
      "WoE and IV for column: from_area_id\n"
     ]
    },
    {
     "name": "stderr",
     "output_type": "stream",
     "text": [
      "C:\\Users\\LingrajRipplr\\anaconda3\\lib\\site-packages\\pandas\\core\\arraylike.py:397: RuntimeWarning: divide by zero encountered in log\n",
      "  result = getattr(ufunc, method)(*inputs, **kwargs)\n"
     ]
    },
    {
     "name": "stdout",
     "output_type": "stream",
     "text": [
      "IV score: 0.44\n",
      "\n",
      "\n",
      "WoE and IV for column: online_booking\n",
      "IV score: 0.32\n",
      "\n",
      "\n",
      "WoE and IV for column: mobile_site_booking\n",
      "IV score: 0.05\n",
      "\n",
      "\n",
      "WoE and IV for column: from_lat\n"
     ]
    },
    {
     "name": "stderr",
     "output_type": "stream",
     "text": [
      "C:\\Users\\LingrajRipplr\\anaconda3\\lib\\site-packages\\pandas\\core\\arraylike.py:397: RuntimeWarning: divide by zero encountered in log\n",
      "  result = getattr(ufunc, method)(*inputs, **kwargs)\n"
     ]
    },
    {
     "name": "stdout",
     "output_type": "stream",
     "text": [
      "IV score: 0.42\n",
      "\n",
      "\n",
      "WoE and IV for column: from_long\n"
     ]
    },
    {
     "name": "stderr",
     "output_type": "stream",
     "text": [
      "C:\\Users\\LingrajRipplr\\anaconda3\\lib\\site-packages\\pandas\\core\\arraylike.py:397: RuntimeWarning: divide by zero encountered in log\n",
      "  result = getattr(ufunc, method)(*inputs, **kwargs)\n"
     ]
    },
    {
     "name": "stdout",
     "output_type": "stream",
     "text": [
      "IV score: 0.40\n",
      "\n",
      "\n",
      "WoE and IV for column: day_of_jrny\n",
      "IV score: 0.14\n",
      "\n",
      "\n",
      "WoE and IV for column: month_of_jrny\n",
      "IV score: 0.63\n",
      "\n",
      "\n",
      "WoE and IV for column: year_of_jrny\n",
      "IV score: 0.00\n",
      "\n",
      "\n",
      "WoE and IV for column: jrny_time\n",
      "IV score: 0.29\n",
      "\n",
      "\n",
      "WoE and IV for column: jrny_min\n",
      "IV score: 0.01\n",
      "\n",
      "\n"
     ]
    }
   ],
   "source": [
    "for col in data.columns:\n",
    "    if col == 'Car_Cancellation': \n",
    "        continue\n",
    "    else:\n",
    "        print('WoE and IV for column: {}'.format(col))\n",
    "        df, iv = calculate_woe_iv(data, col, 'Car_Cancellation')\n",
    "        #print(df)\n",
    "        print('IV score: {:.2f}'.format(iv))\n",
    "        print('\\n')"
   ]
  },
  {
   "cell_type": "raw",
   "id": "4aaf84be",
   "metadata": {},
   "source": [
    "You can select the variables based on the information value and below criteria\n",
    "\n",
    "IV: <0.02, Predictive Power: Useless for prediction\n",
    "IV: 0.02 - 0.1, Predictive Power: Weak predictor\n",
    "IV: 0.1 - 0.3, Predictive Power: Medium predictor\n",
    "IV: 0.3 - 0.5, Predictive Power: Storng predictor\n",
    "IV: > 0.5, Predictive Power: Suspecious predictor or too good predictor"
   ]
  },
  {
   "cell_type": "code",
   "execution_count": 38,
   "id": "a0657d7d",
   "metadata": {},
   "outputs": [],
   "source": [
    "# important features selected by Information Value(selecting Medium predictor, Storng predictor and Suspecious predictor)\n",
    "\n",
    "l_iv = ['user_id', \n",
    "        'vehicle_model_id',\n",
    "        'travel_type_id',\n",
    "        'from_area_id',\n",
    "        'online_booking',\n",
    "        'from_lat',\n",
    "        'from_long',\n",
    "       'day_of_jrny',\n",
    "       'month_of_jrny',\n",
    "        'jrny_time']"
   ]
  },
  {
   "cell_type": "code",
   "execution_count": 39,
   "id": "c90e0c36",
   "metadata": {},
   "outputs": [],
   "source": [
    "# RFE\n",
    "from sklearn.feature_selection import RFE\n",
    "from sklearn.ensemble import RandomForestClassifier"
   ]
  },
  {
   "cell_type": "code",
   "execution_count": 40,
   "id": "6e30e4da",
   "metadata": {},
   "outputs": [],
   "source": [
    "x = data[data.columns.difference(['Car_Cancellation'])]\n",
    "y = data.Car_Cancellation"
   ]
  },
  {
   "cell_type": "code",
   "execution_count": 41,
   "id": "9907ffd4",
   "metadata": {},
   "outputs": [],
   "source": [
    "rfe = RFE(RandomForestClassifier(), n_features_to_select=10)"
   ]
  },
  {
   "cell_type": "code",
   "execution_count": 42,
   "id": "6ac209c9",
   "metadata": {},
   "outputs": [
    {
     "data": {
      "text/plain": [
       "RFE(estimator=RandomForestClassifier(), n_features_to_select=10)"
      ]
     },
     "execution_count": 42,
     "metadata": {},
     "output_type": "execute_result"
    }
   ],
   "source": [
    "rfe.fit(x, y)"
   ]
  },
  {
   "cell_type": "code",
   "execution_count": 43,
   "id": "a5d6d1dc",
   "metadata": {},
   "outputs": [],
   "source": [
    "l2_rfe = x.columns[rfe.get_support()]"
   ]
  },
  {
   "cell_type": "code",
   "execution_count": 44,
   "id": "a210d911",
   "metadata": {},
   "outputs": [
    {
     "data": {
      "text/plain": [
       "['day_of_jrny',\n",
       " 'from_area_id',\n",
       " 'from_lat',\n",
       " 'from_long',\n",
       " 'jrny_min',\n",
       " 'jrny_time',\n",
       " 'month_of_jrny',\n",
       " 'online_booking',\n",
       " 'user_id',\n",
       " 'vehicle_model_id']"
      ]
     },
     "execution_count": 44,
     "metadata": {},
     "output_type": "execute_result"
    }
   ],
   "source": [
    "list(l2_rfe)"
   ]
  },
  {
   "cell_type": "code",
   "execution_count": 45,
   "id": "93d960e7",
   "metadata": {},
   "outputs": [],
   "source": [
    "# SelectKBest\n",
    "from sklearn.feature_selection import SelectKBest, f_classif"
   ]
  },
  {
   "cell_type": "code",
   "execution_count": 46,
   "id": "75ef1ef3",
   "metadata": {},
   "outputs": [],
   "source": [
    "SKB = SelectKBest(f_classif, k=10).fit(x,y)"
   ]
  },
  {
   "cell_type": "code",
   "execution_count": 47,
   "id": "85b1ca14",
   "metadata": {},
   "outputs": [],
   "source": [
    "l3_SKB = x.columns[SKB.get_support()]"
   ]
  },
  {
   "cell_type": "code",
   "execution_count": 48,
   "id": "5692c8a5",
   "metadata": {},
   "outputs": [
    {
     "data": {
      "text/plain": [
       "['day_of_jrny',\n",
       " 'from_lat',\n",
       " 'from_long',\n",
       " 'jrny_time',\n",
       " 'mobile_site_booking',\n",
       " 'month_of_jrny',\n",
       " 'online_booking',\n",
       " 'travel_type_id',\n",
       " 'user_id',\n",
       " 'vehicle_model_id']"
      ]
     },
     "execution_count": 48,
     "metadata": {},
     "output_type": "execute_result"
    }
   ],
   "source": [
    "list(l3_SKB)"
   ]
  },
  {
   "cell_type": "code",
   "execution_count": 49,
   "id": "f9cd1b0a",
   "metadata": {},
   "outputs": [
    {
     "data": {
      "text/plain": [
       "['from_lat',\n",
       " 'month_of_jrny',\n",
       " 'jrny_min',\n",
       " 'from_area_id',\n",
       " 'user_id',\n",
       " 'travel_type_id',\n",
       " 'day_of_jrny',\n",
       " 'vehicle_model_id',\n",
       " 'online_booking',\n",
       " 'jrny_time',\n",
       " 'mobile_site_booking',\n",
       " 'from_long']"
      ]
     },
     "execution_count": 49,
     "metadata": {},
     "output_type": "execute_result"
    }
   ],
   "source": [
    "list(set(list(l_iv)+list(l2_rfe)+list(l3_SKB)))"
   ]
  },
  {
   "cell_type": "code",
   "execution_count": 50,
   "id": "e41dbf16",
   "metadata": {},
   "outputs": [],
   "source": [
    "Final_list = ['from_lat',\n",
    " 'month_of_jrny',\n",
    " 'jrny_min',\n",
    " 'from_area_id',\n",
    " 'user_id',\n",
    " 'travel_type_id',\n",
    " 'day_of_jrny',\n",
    " 'vehicle_model_id',\n",
    " 'online_booking',\n",
    " 'jrny_time',\n",
    " 'mobile_site_booking',\n",
    " 'from_long']"
   ]
  },
  {
   "cell_type": "code",
   "execution_count": 51,
   "id": "c397751b",
   "metadata": {},
   "outputs": [],
   "source": [
    "x_new = x[Final_list]\n",
    "y = y"
   ]
  },
  {
   "cell_type": "code",
   "execution_count": 52,
   "id": "730020b6",
   "metadata": {},
   "outputs": [],
   "source": [
    "#vif\n",
    "from statsmodels.stats.outliers_influence import variance_inflation_factor"
   ]
  },
  {
   "cell_type": "code",
   "execution_count": 53,
   "id": "4c648777",
   "metadata": {},
   "outputs": [
    {
     "data": {
      "text/html": [
       "<div>\n",
       "<style scoped>\n",
       "    .dataframe tbody tr th:only-of-type {\n",
       "        vertical-align: middle;\n",
       "    }\n",
       "\n",
       "    .dataframe tbody tr th {\n",
       "        vertical-align: top;\n",
       "    }\n",
       "\n",
       "    .dataframe thead th {\n",
       "        text-align: right;\n",
       "    }\n",
       "</style>\n",
       "<table border=\"1\" class=\"dataframe\">\n",
       "  <thead>\n",
       "    <tr style=\"text-align: right;\">\n",
       "      <th></th>\n",
       "      <th>VIF_Factor</th>\n",
       "      <th>features</th>\n",
       "    </tr>\n",
       "  </thead>\n",
       "  <tbody>\n",
       "    <tr>\n",
       "      <th>11</th>\n",
       "      <td>24991.037224</td>\n",
       "      <td>from_long</td>\n",
       "    </tr>\n",
       "    <tr>\n",
       "      <th>0</th>\n",
       "      <td>24876.629793</td>\n",
       "      <td>from_lat</td>\n",
       "    </tr>\n",
       "    <tr>\n",
       "      <th>5</th>\n",
       "      <td>25.654174</td>\n",
       "      <td>travel_type_id</td>\n",
       "    </tr>\n",
       "    <tr>\n",
       "      <th>4</th>\n",
       "      <td>13.670018</td>\n",
       "      <td>user_id</td>\n",
       "    </tr>\n",
       "    <tr>\n",
       "      <th>1</th>\n",
       "      <td>9.132782</td>\n",
       "      <td>month_of_jrny</td>\n",
       "    </tr>\n",
       "    <tr>\n",
       "      <th>9</th>\n",
       "      <td>4.942667</td>\n",
       "      <td>jrny_time</td>\n",
       "    </tr>\n",
       "    <tr>\n",
       "      <th>6</th>\n",
       "      <td>4.203413</td>\n",
       "      <td>day_of_jrny</td>\n",
       "    </tr>\n",
       "    <tr>\n",
       "      <th>3</th>\n",
       "      <td>3.972974</td>\n",
       "      <td>from_area_id</td>\n",
       "    </tr>\n",
       "    <tr>\n",
       "      <th>2</th>\n",
       "      <td>2.212818</td>\n",
       "      <td>jrny_min</td>\n",
       "    </tr>\n",
       "    <tr>\n",
       "      <th>7</th>\n",
       "      <td>1.937823</td>\n",
       "      <td>vehicle_model_id</td>\n",
       "    </tr>\n",
       "    <tr>\n",
       "      <th>8</th>\n",
       "      <td>1.616835</td>\n",
       "      <td>online_booking</td>\n",
       "    </tr>\n",
       "    <tr>\n",
       "      <th>10</th>\n",
       "      <td>1.087518</td>\n",
       "      <td>mobile_site_booking</td>\n",
       "    </tr>\n",
       "  </tbody>\n",
       "</table>\n",
       "</div>"
      ],
      "text/plain": [
       "      VIF_Factor             features\n",
       "11  24991.037224            from_long\n",
       "0   24876.629793             from_lat\n",
       "5      25.654174       travel_type_id\n",
       "4      13.670018              user_id\n",
       "1       9.132782        month_of_jrny\n",
       "9       4.942667            jrny_time\n",
       "6       4.203413          day_of_jrny\n",
       "3       3.972974         from_area_id\n",
       "2       2.212818             jrny_min\n",
       "7       1.937823     vehicle_model_id\n",
       "8       1.616835       online_booking\n",
       "10      1.087518  mobile_site_booking"
      ]
     },
     "execution_count": 53,
     "metadata": {},
     "output_type": "execute_result"
    }
   ],
   "source": [
    "vif = pd.DataFrame()\n",
    "vif[\"VIF_Factor\"] = [variance_inflation_factor(x_new.values, i) for i in range(x_new.shape[1])]\n",
    "vif[\"features\"] = x_new.columns\n",
    "\n",
    "vif.sort_values(by='VIF_Factor', ascending=False, inplace=True)\n",
    "vif"
   ]
  },
  {
   "cell_type": "code",
   "execution_count": 54,
   "id": "d8d84172",
   "metadata": {},
   "outputs": [
    {
     "name": "stderr",
     "output_type": "stream",
     "text": [
      "C:\\Users\\LingrajRipplr\\AppData\\Local\\Temp\\ipykernel_8224\\777258334.py:2: SettingWithCopyWarning: \n",
      "A value is trying to be set on a copy of a slice from a DataFrame\n",
      "\n",
      "See the caveats in the documentation: https://pandas.pydata.org/pandas-docs/stable/user_guide/indexing.html#returning-a-view-versus-a-copy\n",
      "  x_new.drop('from_long',axis=1,inplace=True)\n"
     ]
    }
   ],
   "source": [
    "# based on vif will drop variable from_long\n",
    "x_new.drop('from_long',axis=1,inplace=True)"
   ]
  },
  {
   "cell_type": "code",
   "execution_count": 55,
   "id": "18eb5027",
   "metadata": {},
   "outputs": [
    {
     "data": {
      "text/html": [
       "<div>\n",
       "<style scoped>\n",
       "    .dataframe tbody tr th:only-of-type {\n",
       "        vertical-align: middle;\n",
       "    }\n",
       "\n",
       "    .dataframe tbody tr th {\n",
       "        vertical-align: top;\n",
       "    }\n",
       "\n",
       "    .dataframe thead th {\n",
       "        text-align: right;\n",
       "    }\n",
       "</style>\n",
       "<table border=\"1\" class=\"dataframe\">\n",
       "  <thead>\n",
       "    <tr style=\"text-align: right;\">\n",
       "      <th></th>\n",
       "      <th>VIF_Factor</th>\n",
       "      <th>features</th>\n",
       "    </tr>\n",
       "  </thead>\n",
       "  <tbody>\n",
       "    <tr>\n",
       "      <th>0</th>\n",
       "      <td>45.776420</td>\n",
       "      <td>from_lat</td>\n",
       "    </tr>\n",
       "    <tr>\n",
       "      <th>5</th>\n",
       "      <td>25.280757</td>\n",
       "      <td>travel_type_id</td>\n",
       "    </tr>\n",
       "    <tr>\n",
       "      <th>4</th>\n",
       "      <td>13.666196</td>\n",
       "      <td>user_id</td>\n",
       "    </tr>\n",
       "    <tr>\n",
       "      <th>1</th>\n",
       "      <td>9.131832</td>\n",
       "      <td>month_of_jrny</td>\n",
       "    </tr>\n",
       "    <tr>\n",
       "      <th>9</th>\n",
       "      <td>4.930305</td>\n",
       "      <td>jrny_time</td>\n",
       "    </tr>\n",
       "    <tr>\n",
       "      <th>6</th>\n",
       "      <td>4.203353</td>\n",
       "      <td>day_of_jrny</td>\n",
       "    </tr>\n",
       "    <tr>\n",
       "      <th>3</th>\n",
       "      <td>3.924704</td>\n",
       "      <td>from_area_id</td>\n",
       "    </tr>\n",
       "    <tr>\n",
       "      <th>2</th>\n",
       "      <td>2.210378</td>\n",
       "      <td>jrny_min</td>\n",
       "    </tr>\n",
       "    <tr>\n",
       "      <th>7</th>\n",
       "      <td>1.934245</td>\n",
       "      <td>vehicle_model_id</td>\n",
       "    </tr>\n",
       "    <tr>\n",
       "      <th>8</th>\n",
       "      <td>1.615650</td>\n",
       "      <td>online_booking</td>\n",
       "    </tr>\n",
       "    <tr>\n",
       "      <th>10</th>\n",
       "      <td>1.086377</td>\n",
       "      <td>mobile_site_booking</td>\n",
       "    </tr>\n",
       "  </tbody>\n",
       "</table>\n",
       "</div>"
      ],
      "text/plain": [
       "    VIF_Factor             features\n",
       "0    45.776420             from_lat\n",
       "5    25.280757       travel_type_id\n",
       "4    13.666196              user_id\n",
       "1     9.131832        month_of_jrny\n",
       "9     4.930305            jrny_time\n",
       "6     4.203353          day_of_jrny\n",
       "3     3.924704         from_area_id\n",
       "2     2.210378             jrny_min\n",
       "7     1.934245     vehicle_model_id\n",
       "8     1.615650       online_booking\n",
       "10    1.086377  mobile_site_booking"
      ]
     },
     "execution_count": 55,
     "metadata": {},
     "output_type": "execute_result"
    }
   ],
   "source": [
    "vif = pd.DataFrame()\n",
    "vif[\"VIF_Factor\"] = [variance_inflation_factor(x_new.values, i) for i in range(x_new.shape[1])]\n",
    "vif[\"features\"] = x_new.columns\n",
    "\n",
    "vif.sort_values(by='VIF_Factor', ascending=False, inplace=True)\n",
    "vif"
   ]
  },
  {
   "cell_type": "code",
   "execution_count": 56,
   "id": "c5c559de",
   "metadata": {},
   "outputs": [
    {
     "name": "stderr",
     "output_type": "stream",
     "text": [
      "C:\\Users\\LingrajRipplr\\AppData\\Local\\Temp\\ipykernel_8224\\3710483514.py:2: SettingWithCopyWarning: \n",
      "A value is trying to be set on a copy of a slice from a DataFrame\n",
      "\n",
      "See the caveats in the documentation: https://pandas.pydata.org/pandas-docs/stable/user_guide/indexing.html#returning-a-view-versus-a-copy\n",
      "  x_new.drop('from_lat',axis=1,inplace=True)\n"
     ]
    }
   ],
   "source": [
    "# based on vif will drop variable from_lat\n",
    "x_new.drop('from_lat',axis=1,inplace=True)"
   ]
  },
  {
   "cell_type": "code",
   "execution_count": 57,
   "id": "a5c4e1ed",
   "metadata": {},
   "outputs": [
    {
     "data": {
      "text/html": [
       "<div>\n",
       "<style scoped>\n",
       "    .dataframe tbody tr th:only-of-type {\n",
       "        vertical-align: middle;\n",
       "    }\n",
       "\n",
       "    .dataframe tbody tr th {\n",
       "        vertical-align: top;\n",
       "    }\n",
       "\n",
       "    .dataframe thead th {\n",
       "        text-align: right;\n",
       "    }\n",
       "</style>\n",
       "<table border=\"1\" class=\"dataframe\">\n",
       "  <thead>\n",
       "    <tr style=\"text-align: right;\">\n",
       "      <th></th>\n",
       "      <th>VIF_Factor</th>\n",
       "      <th>features</th>\n",
       "    </tr>\n",
       "  </thead>\n",
       "  <tbody>\n",
       "    <tr>\n",
       "      <th>3</th>\n",
       "      <td>12.625751</td>\n",
       "      <td>user_id</td>\n",
       "    </tr>\n",
       "    <tr>\n",
       "      <th>4</th>\n",
       "      <td>11.801408</td>\n",
       "      <td>travel_type_id</td>\n",
       "    </tr>\n",
       "    <tr>\n",
       "      <th>0</th>\n",
       "      <td>9.057845</td>\n",
       "      <td>month_of_jrny</td>\n",
       "    </tr>\n",
       "    <tr>\n",
       "      <th>8</th>\n",
       "      <td>4.529197</td>\n",
       "      <td>jrny_time</td>\n",
       "    </tr>\n",
       "    <tr>\n",
       "      <th>5</th>\n",
       "      <td>3.946626</td>\n",
       "      <td>day_of_jrny</td>\n",
       "    </tr>\n",
       "    <tr>\n",
       "      <th>2</th>\n",
       "      <td>3.731666</td>\n",
       "      <td>from_area_id</td>\n",
       "    </tr>\n",
       "    <tr>\n",
       "      <th>1</th>\n",
       "      <td>2.146847</td>\n",
       "      <td>jrny_min</td>\n",
       "    </tr>\n",
       "    <tr>\n",
       "      <th>6</th>\n",
       "      <td>1.892113</td>\n",
       "      <td>vehicle_model_id</td>\n",
       "    </tr>\n",
       "    <tr>\n",
       "      <th>7</th>\n",
       "      <td>1.592747</td>\n",
       "      <td>online_booking</td>\n",
       "    </tr>\n",
       "    <tr>\n",
       "      <th>9</th>\n",
       "      <td>1.084755</td>\n",
       "      <td>mobile_site_booking</td>\n",
       "    </tr>\n",
       "  </tbody>\n",
       "</table>\n",
       "</div>"
      ],
      "text/plain": [
       "   VIF_Factor             features\n",
       "3   12.625751              user_id\n",
       "4   11.801408       travel_type_id\n",
       "0    9.057845        month_of_jrny\n",
       "8    4.529197            jrny_time\n",
       "5    3.946626          day_of_jrny\n",
       "2    3.731666         from_area_id\n",
       "1    2.146847             jrny_min\n",
       "6    1.892113     vehicle_model_id\n",
       "7    1.592747       online_booking\n",
       "9    1.084755  mobile_site_booking"
      ]
     },
     "execution_count": 57,
     "metadata": {},
     "output_type": "execute_result"
    }
   ],
   "source": [
    "vif = pd.DataFrame()\n",
    "vif[\"VIF_Factor\"] = [variance_inflation_factor(x_new.values, i) for i in range(x_new.shape[1])]\n",
    "vif[\"features\"] = x_new.columns\n",
    "\n",
    "vif.sort_values(by='VIF_Factor', ascending=False, inplace=True)\n",
    "vif"
   ]
  },
  {
   "cell_type": "code",
   "execution_count": 58,
   "id": "0ddf23f9",
   "metadata": {},
   "outputs": [
    {
     "name": "stderr",
     "output_type": "stream",
     "text": [
      "C:\\Users\\LingrajRipplr\\AppData\\Local\\Temp\\ipykernel_8224\\2629404181.py:2: SettingWithCopyWarning: \n",
      "A value is trying to be set on a copy of a slice from a DataFrame\n",
      "\n",
      "See the caveats in the documentation: https://pandas.pydata.org/pandas-docs/stable/user_guide/indexing.html#returning-a-view-versus-a-copy\n",
      "  x_new.drop('user_id',axis=1,inplace=True)\n"
     ]
    }
   ],
   "source": [
    "# based on vif will drop variable user_id\n",
    "x_new.drop('user_id',axis=1,inplace=True)"
   ]
  },
  {
   "cell_type": "code",
   "execution_count": 59,
   "id": "25e33c6f",
   "metadata": {},
   "outputs": [
    {
     "data": {
      "text/html": [
       "<div>\n",
       "<style scoped>\n",
       "    .dataframe tbody tr th:only-of-type {\n",
       "        vertical-align: middle;\n",
       "    }\n",
       "\n",
       "    .dataframe tbody tr th {\n",
       "        vertical-align: top;\n",
       "    }\n",
       "\n",
       "    .dataframe thead th {\n",
       "        text-align: right;\n",
       "    }\n",
       "</style>\n",
       "<table border=\"1\" class=\"dataframe\">\n",
       "  <thead>\n",
       "    <tr style=\"text-align: right;\">\n",
       "      <th></th>\n",
       "      <th>VIF_Factor</th>\n",
       "      <th>features</th>\n",
       "    </tr>\n",
       "  </thead>\n",
       "  <tbody>\n",
       "    <tr>\n",
       "      <th>3</th>\n",
       "      <td>11.101797</td>\n",
       "      <td>travel_type_id</td>\n",
       "    </tr>\n",
       "    <tr>\n",
       "      <th>0</th>\n",
       "      <td>5.393147</td>\n",
       "      <td>month_of_jrny</td>\n",
       "    </tr>\n",
       "    <tr>\n",
       "      <th>7</th>\n",
       "      <td>4.494436</td>\n",
       "      <td>jrny_time</td>\n",
       "    </tr>\n",
       "    <tr>\n",
       "      <th>4</th>\n",
       "      <td>3.846347</td>\n",
       "      <td>day_of_jrny</td>\n",
       "    </tr>\n",
       "    <tr>\n",
       "      <th>2</th>\n",
       "      <td>3.711413</td>\n",
       "      <td>from_area_id</td>\n",
       "    </tr>\n",
       "    <tr>\n",
       "      <th>1</th>\n",
       "      <td>2.143259</td>\n",
       "      <td>jrny_min</td>\n",
       "    </tr>\n",
       "    <tr>\n",
       "      <th>5</th>\n",
       "      <td>1.881834</td>\n",
       "      <td>vehicle_model_id</td>\n",
       "    </tr>\n",
       "    <tr>\n",
       "      <th>6</th>\n",
       "      <td>1.583351</td>\n",
       "      <td>online_booking</td>\n",
       "    </tr>\n",
       "    <tr>\n",
       "      <th>8</th>\n",
       "      <td>1.084393</td>\n",
       "      <td>mobile_site_booking</td>\n",
       "    </tr>\n",
       "  </tbody>\n",
       "</table>\n",
       "</div>"
      ],
      "text/plain": [
       "   VIF_Factor             features\n",
       "3   11.101797       travel_type_id\n",
       "0    5.393147        month_of_jrny\n",
       "7    4.494436            jrny_time\n",
       "4    3.846347          day_of_jrny\n",
       "2    3.711413         from_area_id\n",
       "1    2.143259             jrny_min\n",
       "5    1.881834     vehicle_model_id\n",
       "6    1.583351       online_booking\n",
       "8    1.084393  mobile_site_booking"
      ]
     },
     "execution_count": 59,
     "metadata": {},
     "output_type": "execute_result"
    }
   ],
   "source": [
    "vif = pd.DataFrame()\n",
    "vif[\"VIF_Factor\"] = [variance_inflation_factor(x_new.values, i) for i in range(x_new.shape[1])]\n",
    "vif[\"features\"] = x_new.columns\n",
    "\n",
    "vif.sort_values(by='VIF_Factor', ascending=False, inplace=True)\n",
    "vif"
   ]
  },
  {
   "cell_type": "code",
   "execution_count": 60,
   "id": "a2a7a640",
   "metadata": {},
   "outputs": [
    {
     "name": "stderr",
     "output_type": "stream",
     "text": [
      "C:\\Users\\LingrajRipplr\\AppData\\Local\\Temp\\ipykernel_8224\\2051468998.py:2: SettingWithCopyWarning: \n",
      "A value is trying to be set on a copy of a slice from a DataFrame\n",
      "\n",
      "See the caveats in the documentation: https://pandas.pydata.org/pandas-docs/stable/user_guide/indexing.html#returning-a-view-versus-a-copy\n",
      "  x_new.drop('travel_type_id',axis=1,inplace=True)\n"
     ]
    }
   ],
   "source": [
    "# based on vif will drop variable travel_type_id\n",
    "x_new.drop('travel_type_id',axis=1,inplace=True)"
   ]
  },
  {
   "cell_type": "code",
   "execution_count": 61,
   "id": "bbe25fc5",
   "metadata": {},
   "outputs": [
    {
     "data": {
      "text/html": [
       "<div>\n",
       "<style scoped>\n",
       "    .dataframe tbody tr th:only-of-type {\n",
       "        vertical-align: middle;\n",
       "    }\n",
       "\n",
       "    .dataframe tbody tr th {\n",
       "        vertical-align: top;\n",
       "    }\n",
       "\n",
       "    .dataframe thead th {\n",
       "        text-align: right;\n",
       "    }\n",
       "</style>\n",
       "<table border=\"1\" class=\"dataframe\">\n",
       "  <thead>\n",
       "    <tr style=\"text-align: right;\">\n",
       "      <th></th>\n",
       "      <th>VIF_Factor</th>\n",
       "      <th>features</th>\n",
       "    </tr>\n",
       "  </thead>\n",
       "  <tbody>\n",
       "    <tr>\n",
       "      <th>0</th>\n",
       "      <td>4.493368</td>\n",
       "      <td>month_of_jrny</td>\n",
       "    </tr>\n",
       "    <tr>\n",
       "      <th>6</th>\n",
       "      <td>3.783834</td>\n",
       "      <td>jrny_time</td>\n",
       "    </tr>\n",
       "    <tr>\n",
       "      <th>3</th>\n",
       "      <td>3.405895</td>\n",
       "      <td>day_of_jrny</td>\n",
       "    </tr>\n",
       "    <tr>\n",
       "      <th>2</th>\n",
       "      <td>3.336738</td>\n",
       "      <td>from_area_id</td>\n",
       "    </tr>\n",
       "    <tr>\n",
       "      <th>1</th>\n",
       "      <td>2.064731</td>\n",
       "      <td>jrny_min</td>\n",
       "    </tr>\n",
       "    <tr>\n",
       "      <th>4</th>\n",
       "      <td>1.846757</td>\n",
       "      <td>vehicle_model_id</td>\n",
       "    </tr>\n",
       "    <tr>\n",
       "      <th>5</th>\n",
       "      <td>1.580175</td>\n",
       "      <td>online_booking</td>\n",
       "    </tr>\n",
       "    <tr>\n",
       "      <th>7</th>\n",
       "      <td>1.084322</td>\n",
       "      <td>mobile_site_booking</td>\n",
       "    </tr>\n",
       "  </tbody>\n",
       "</table>\n",
       "</div>"
      ],
      "text/plain": [
       "   VIF_Factor             features\n",
       "0    4.493368        month_of_jrny\n",
       "6    3.783834            jrny_time\n",
       "3    3.405895          day_of_jrny\n",
       "2    3.336738         from_area_id\n",
       "1    2.064731             jrny_min\n",
       "4    1.846757     vehicle_model_id\n",
       "5    1.580175       online_booking\n",
       "7    1.084322  mobile_site_booking"
      ]
     },
     "execution_count": 61,
     "metadata": {},
     "output_type": "execute_result"
    }
   ],
   "source": [
    "vif = pd.DataFrame()\n",
    "vif[\"VIF_Factor\"] = [variance_inflation_factor(x_new.values, i) for i in range(x_new.shape[1])]\n",
    "vif[\"features\"] = x_new.columns\n",
    "\n",
    "vif.sort_values(by='VIF_Factor', ascending=False, inplace=True)\n",
    "vif"
   ]
  },
  {
   "cell_type": "code",
   "execution_count": 62,
   "id": "682fc27e",
   "metadata": {},
   "outputs": [],
   "source": [
    "new_data = pd.concat([x_new, y], axis=1)"
   ]
  },
  {
   "cell_type": "code",
   "execution_count": 63,
   "id": "f0c69f95",
   "metadata": {},
   "outputs": [
    {
     "data": {
      "text/html": [
       "<div>\n",
       "<style scoped>\n",
       "    .dataframe tbody tr th:only-of-type {\n",
       "        vertical-align: middle;\n",
       "    }\n",
       "\n",
       "    .dataframe tbody tr th {\n",
       "        vertical-align: top;\n",
       "    }\n",
       "\n",
       "    .dataframe thead th {\n",
       "        text-align: right;\n",
       "    }\n",
       "</style>\n",
       "<table border=\"1\" class=\"dataframe\">\n",
       "  <thead>\n",
       "    <tr style=\"text-align: right;\">\n",
       "      <th></th>\n",
       "      <th>month_of_jrny</th>\n",
       "      <th>jrny_min</th>\n",
       "      <th>from_area_id</th>\n",
       "      <th>day_of_jrny</th>\n",
       "      <th>vehicle_model_id</th>\n",
       "      <th>online_booking</th>\n",
       "      <th>jrny_time</th>\n",
       "      <th>mobile_site_booking</th>\n",
       "      <th>Car_Cancellation</th>\n",
       "    </tr>\n",
       "  </thead>\n",
       "  <tbody>\n",
       "    <tr>\n",
       "      <th>0</th>\n",
       "      <td>1</td>\n",
       "      <td>0</td>\n",
       "      <td>83.0</td>\n",
       "      <td>1</td>\n",
       "      <td>28</td>\n",
       "      <td>0</td>\n",
       "      <td>2</td>\n",
       "      <td>0</td>\n",
       "      <td>0</td>\n",
       "    </tr>\n",
       "    <tr>\n",
       "      <th>1</th>\n",
       "      <td>1</td>\n",
       "      <td>0</td>\n",
       "      <td>1010.0</td>\n",
       "      <td>1</td>\n",
       "      <td>12</td>\n",
       "      <td>0</td>\n",
       "      <td>9</td>\n",
       "      <td>0</td>\n",
       "      <td>0</td>\n",
       "    </tr>\n",
       "    <tr>\n",
       "      <th>2</th>\n",
       "      <td>1</td>\n",
       "      <td>30</td>\n",
       "      <td>1301.0</td>\n",
       "      <td>1</td>\n",
       "      <td>12</td>\n",
       "      <td>0</td>\n",
       "      <td>3</td>\n",
       "      <td>0</td>\n",
       "      <td>0</td>\n",
       "    </tr>\n",
       "    <tr>\n",
       "      <th>3</th>\n",
       "      <td>1</td>\n",
       "      <td>45</td>\n",
       "      <td>768.0</td>\n",
       "      <td>1</td>\n",
       "      <td>12</td>\n",
       "      <td>0</td>\n",
       "      <td>5</td>\n",
       "      <td>0</td>\n",
       "      <td>0</td>\n",
       "    </tr>\n",
       "    <tr>\n",
       "      <th>4</th>\n",
       "      <td>1</td>\n",
       "      <td>0</td>\n",
       "      <td>1365.0</td>\n",
       "      <td>1</td>\n",
       "      <td>12</td>\n",
       "      <td>0</td>\n",
       "      <td>9</td>\n",
       "      <td>0</td>\n",
       "      <td>0</td>\n",
       "    </tr>\n",
       "  </tbody>\n",
       "</table>\n",
       "</div>"
      ],
      "text/plain": [
       "   month_of_jrny  jrny_min  from_area_id  day_of_jrny  vehicle_model_id  \\\n",
       "0              1         0          83.0            1                28   \n",
       "1              1         0        1010.0            1                12   \n",
       "2              1        30        1301.0            1                12   \n",
       "3              1        45         768.0            1                12   \n",
       "4              1         0        1365.0            1                12   \n",
       "\n",
       "   online_booking  jrny_time  mobile_site_booking  Car_Cancellation  \n",
       "0               0          2                    0                 0  \n",
       "1               0          9                    0                 0  \n",
       "2               0          3                    0                 0  \n",
       "3               0          5                    0                 0  \n",
       "4               0          9                    0                 0  "
      ]
     },
     "execution_count": 63,
     "metadata": {},
     "output_type": "execute_result"
    }
   ],
   "source": [
    "new_data.head()"
   ]
  },
  {
   "cell_type": "code",
   "execution_count": 64,
   "id": "780237f2",
   "metadata": {},
   "outputs": [],
   "source": [
    "# train test split\n",
    "from sklearn.model_selection import train_test_split"
   ]
  },
  {
   "cell_type": "code",
   "execution_count": 65,
   "id": "dd44c327",
   "metadata": {},
   "outputs": [],
   "source": [
    "train, test = train_test_split(new_data, test_size=0.3, random_state=123)"
   ]
  },
  {
   "cell_type": "code",
   "execution_count": 66,
   "id": "fa3e4cf1",
   "metadata": {},
   "outputs": [
    {
     "data": {
      "text/plain": [
       "(30336, 9)"
      ]
     },
     "execution_count": 66,
     "metadata": {},
     "output_type": "execute_result"
    }
   ],
   "source": [
    "train.shape"
   ]
  },
  {
   "cell_type": "code",
   "execution_count": 67,
   "id": "fc9f7e87",
   "metadata": {},
   "outputs": [
    {
     "data": {
      "text/plain": [
       "(13002, 9)"
      ]
     },
     "execution_count": 67,
     "metadata": {},
     "output_type": "execute_result"
    }
   ],
   "source": [
    "test.shape"
   ]
  },
  {
   "cell_type": "code",
   "execution_count": 68,
   "id": "7d152ba6",
   "metadata": {},
   "outputs": [],
   "source": [
    "# model building\n",
    "import statsmodels.formula.api as smf"
   ]
  },
  {
   "cell_type": "code",
   "execution_count": 69,
   "id": "3955e16d",
   "metadata": {},
   "outputs": [
    {
     "data": {
      "text/plain": [
       "'Car_Cancellation~day_of_jrny+from_area_id+jrny_min+jrny_time+mobile_site_booking+month_of_jrny+online_booking+vehicle_model_id'"
      ]
     },
     "execution_count": 69,
     "metadata": {},
     "output_type": "execute_result"
    }
   ],
   "source": [
    "eqn = 'Car_Cancellation~'+'+'.join(train.columns.difference(['Car_Cancellation']))\n",
    "eqn"
   ]
  },
  {
   "cell_type": "code",
   "execution_count": 70,
   "id": "121112a2",
   "metadata": {},
   "outputs": [
    {
     "name": "stdout",
     "output_type": "stream",
     "text": [
      "Optimization terminated successfully.\n",
      "         Current function value: 0.227981\n",
      "         Iterations 8\n",
      "                           Logit Regression Results                           \n",
      "==============================================================================\n",
      "Dep. Variable:       Car_Cancellation   No. Observations:                30336\n",
      "Model:                          Logit   Df Residuals:                    30327\n",
      "Method:                           MLE   Df Model:                            8\n",
      "Date:                Fri, 14 Apr 2023   Pseudo R-squ.:                  0.1170\n",
      "Time:                        19:10:08   Log-Likelihood:                -6916.0\n",
      "converged:                       True   LL-Null:                       -7832.0\n",
      "Covariance Type:            nonrobust   LLR p-value:                     0.000\n",
      "=======================================================================================\n",
      "                          coef    std err          z      P>|z|      [0.025      0.975]\n",
      "---------------------------------------------------------------------------------------\n",
      "Intercept              -5.3016      0.119    -44.566      0.000      -5.535      -5.068\n",
      "day_of_jrny            -0.0055      0.003     -2.052      0.040      -0.011      -0.000\n",
      "from_area_id         9.733e-05   5.46e-05      1.782      0.075   -9.74e-06       0.000\n",
      "jrny_min               -0.0008      0.001     -0.603      0.547      -0.004       0.002\n",
      "jrny_time               0.0714      0.004     18.707      0.000       0.064       0.079\n",
      "mobile_site_booking     1.4033      0.088     15.864      0.000       1.230       1.577\n",
      "month_of_jrny           0.1910      0.009     21.011      0.000       0.173       0.209\n",
      "online_booking          1.2900      0.050     25.589      0.000       1.191       1.389\n",
      "vehicle_model_id       -0.0097      0.001     -9.559      0.000      -0.012      -0.008\n",
      "=======================================================================================\n"
     ]
    }
   ],
   "source": [
    "model_logit = smf.logit(eqn, data=train).fit()\n",
    "print(model_logit.summary())"
   ]
  },
  {
   "cell_type": "code",
   "execution_count": 71,
   "id": "d6e9ae9f",
   "metadata": {},
   "outputs": [],
   "source": [
    "train_prob = model_logit.predict(train)"
   ]
  },
  {
   "cell_type": "code",
   "execution_count": 72,
   "id": "6a757a24",
   "metadata": {},
   "outputs": [],
   "source": [
    "test_prob = model_logit.predict(test)"
   ]
  },
  {
   "cell_type": "code",
   "execution_count": 73,
   "id": "a35a4c16",
   "metadata": {},
   "outputs": [],
   "source": [
    "# metrics\n",
    "from sklearn import metrics"
   ]
  },
  {
   "cell_type": "code",
   "execution_count": 74,
   "id": "d8231915",
   "metadata": {},
   "outputs": [
    {
     "name": "stdout",
     "output_type": "stream",
     "text": [
      "train_auc 0.7607664547714099\n",
      "test_auc 0.7474810142599775\n",
      "---------------------------------------------------------------\n",
      "train_gini 0.5215329095428198\n",
      "test_gini 0.49496202851995497\n"
     ]
    }
   ],
   "source": [
    "print('train_auc', metrics.roc_auc_score(train.Car_Cancellation, train_prob))\n",
    "print('test_auc', metrics.roc_auc_score(test.Car_Cancellation, test_prob))\n",
    "print('---------------------------------------------------------------')\n",
    "print('train_gini', 2*metrics.roc_auc_score(train.Car_Cancellation, train_prob)-1)\n",
    "print('test_gini', 2*metrics.roc_auc_score(test.Car_Cancellation, test_prob)-1)"
   ]
  },
  {
   "cell_type": "code",
   "execution_count": 75,
   "id": "332b0a4f",
   "metadata": {},
   "outputs": [],
   "source": [
    "train['pred_prob'] = train_prob\n",
    "test['pred_prob'] = test_prob"
   ]
  },
  {
   "cell_type": "code",
   "execution_count": 76,
   "id": "4a4d39da",
   "metadata": {},
   "outputs": [],
   "source": [
    "# finding best cutoff \n",
    "# Getting highest sensitivity+specificity"
   ]
  },
  {
   "cell_type": "code",
   "execution_count": 77,
   "id": "332a993f",
   "metadata": {},
   "outputs": [],
   "source": [
    "roc_df = pd.DataFrame()\n",
    "for cut_off in np.linspace(0,1):\n",
    "    #roc_df_temp['cut_off'] = cut_off\n",
    "    train['y_pred'] = np.where(train.pred_prob>cut_off, 1, 0)\n",
    "    train['TP'] = np.where(((train.Car_Cancellation ==1) & (train.y_pred==1)), 1, 0)\n",
    "    train['TN'] = np.where(((train.Car_Cancellation ==0) & (train.y_pred==0)), 1, 0)\n",
    "    train['FP'] = np.where(((train.Car_Cancellation ==0) & (train.y_pred==1)), 1, 0)\n",
    "    train['FN'] = np.where(((train.Car_Cancellation ==1) & (train.y_pred==0)), 1, 0)\n",
    "    sensitivity = train.TP.sum()/train.Car_Cancellation.sum()\n",
    "    specificity = train.TN.sum()/(1-train.Car_Cancellation).sum()\n",
    "    accuracy = (train.TN.sum()+train.TP.sum())/train.Car_Cancellation.count()\n",
    "    roc_like_table = pd.DataFrame([cut_off, sensitivity, specificity, accuracy]).T\n",
    "    roc_like_table.columns = ['cutoff', 'sensitivity', 'specificity', 'accuracy']\n",
    "    roc_df = pd.concat([roc_df, roc_like_table], axis=0)"
   ]
  },
  {
   "cell_type": "code",
   "execution_count": 78,
   "id": "746fc3b8",
   "metadata": {},
   "outputs": [],
   "source": [
    "roc_df['Total'] = roc_df.sensitivity+roc_df.specificity"
   ]
  },
  {
   "cell_type": "code",
   "execution_count": 79,
   "id": "3c7da8e0",
   "metadata": {},
   "outputs": [
    {
     "name": "stdout",
     "output_type": "stream",
     "text": [
      "Best_cutoff:  0.08163265306122448\n"
     ]
    }
   ],
   "source": [
    "best_cutoff = roc_df.sort_values(by='Total', ascending=False).head(1).cutoff[0]\n",
    "print('Best_cutoff: ', best_cutoff)"
   ]
  },
  {
   "cell_type": "code",
   "execution_count": 80,
   "id": "0eb8d9c3",
   "metadata": {},
   "outputs": [],
   "source": [
    "train['y_pred'] = np.where(train.pred_prob>best_cutoff, 1,0)"
   ]
  },
  {
   "cell_type": "code",
   "execution_count": 81,
   "id": "c11b3011",
   "metadata": {},
   "outputs": [],
   "source": [
    "test['y_pred'] = np.where(test.pred_prob>best_cutoff, 1,0)"
   ]
  },
  {
   "cell_type": "code",
   "execution_count": 82,
   "id": "2a74adec",
   "metadata": {},
   "outputs": [],
   "source": [
    "# roc_auc_scores"
   ]
  },
  {
   "cell_type": "code",
   "execution_count": 83,
   "id": "8dbd0c2a",
   "metadata": {},
   "outputs": [
    {
     "name": "stdout",
     "output_type": "stream",
     "text": [
      "train_roc_auc_score : 0.7607664547714099\n",
      "test_roc_auc_score : 0.7474810142599775\n"
     ]
    }
   ],
   "source": [
    "print('train_roc_auc_score :', metrics.roc_auc_score(train.Car_Cancellation, pd.DataFrame(train_prob)))\n",
    "print('test_roc_auc_score :', metrics.roc_auc_score(test.Car_Cancellation, pd.DataFrame(test_prob)))"
   ]
  },
  {
   "cell_type": "code",
   "execution_count": 84,
   "id": "16018552",
   "metadata": {},
   "outputs": [],
   "source": [
    "# accuracy scores"
   ]
  },
  {
   "cell_type": "code",
   "execution_count": 85,
   "id": "0e1b215c",
   "metadata": {},
   "outputs": [
    {
     "name": "stdout",
     "output_type": "stream",
     "text": [
      "train_accuracy : 0.7262987869198312\n",
      "test_accuracy : 0.7176588217197354\n"
     ]
    }
   ],
   "source": [
    "print('train_accuracy :', metrics.accuracy_score(train.Car_Cancellation, train.y_pred))\n",
    "print('test_accuracy :', metrics.accuracy_score(test.Car_Cancellation, test.y_pred))"
   ]
  },
  {
   "cell_type": "code",
   "execution_count": 86,
   "id": "cde6cf73",
   "metadata": {},
   "outputs": [],
   "source": [
    "# classification report"
   ]
  },
  {
   "cell_type": "code",
   "execution_count": 87,
   "id": "6eff5855",
   "metadata": {},
   "outputs": [
    {
     "name": "stdout",
     "output_type": "stream",
     "text": [
      "              precision    recall  f1-score   support\n",
      "\n",
      "           0       0.96      0.73      0.83     28159\n",
      "           1       0.16      0.65      0.26      2177\n",
      "\n",
      "    accuracy                           0.73     30336\n",
      "   macro avg       0.56      0.69      0.54     30336\n",
      "weighted avg       0.91      0.73      0.79     30336\n",
      "\n"
     ]
    }
   ],
   "source": [
    "print(metrics.classification_report(train.Car_Cancellation, train.y_pred))"
   ]
  },
  {
   "cell_type": "code",
   "execution_count": 88,
   "id": "b6eac81c",
   "metadata": {},
   "outputs": [
    {
     "name": "stdout",
     "output_type": "stream",
     "text": [
      "              precision    recall  f1-score   support\n",
      "\n",
      "           0       0.96      0.72      0.83     12049\n",
      "           1       0.16      0.65      0.25       953\n",
      "\n",
      "    accuracy                           0.72     13002\n",
      "   macro avg       0.56      0.69      0.54     13002\n",
      "weighted avg       0.90      0.72      0.78     13002\n",
      "\n"
     ]
    }
   ],
   "source": [
    "print(metrics.classification_report(test.Car_Cancellation, test.y_pred))"
   ]
  },
  {
   "cell_type": "code",
   "execution_count": 89,
   "id": "51489fe1",
   "metadata": {},
   "outputs": [],
   "source": [
    "# creating a DataFrame to store the accuracies of all model, for the purpose of comapring\n",
    "df1 = pd.DataFrame(columns=['model_name','train_accuracy','test_accuracy'])"
   ]
  },
  {
   "cell_type": "code",
   "execution_count": 90,
   "id": "9dc09f14",
   "metadata": {},
   "outputs": [
    {
     "name": "stderr",
     "output_type": "stream",
     "text": [
      "C:\\Users\\LingrajRipplr\\AppData\\Local\\Temp\\ipykernel_8224\\2710246302.py:2: FutureWarning: The frame.append method is deprecated and will be removed from pandas in a future version. Use pandas.concat instead.\n",
      "  df1 = df1.append({'model_name':'Logistic regression', 'train_accuracy': metrics.accuracy_score(train.Car_Cancellation, train.y_pred), 'test_accuracy': metrics.accuracy_score(test.Car_Cancellation, test.y_pred)}, ignore_index=True)\n"
     ]
    }
   ],
   "source": [
    "# appending values from logistic model\n",
    "df1 = df1.append({'model_name':'Logistic regression', 'train_accuracy': metrics.accuracy_score(train.Car_Cancellation, train.y_pred), 'test_accuracy': metrics.accuracy_score(test.Car_Cancellation, test.y_pred)}, ignore_index=True)"
   ]
  },
  {
   "cell_type": "code",
   "execution_count": 91,
   "id": "ebef1daa",
   "metadata": {},
   "outputs": [],
   "source": [
    "# train test split\n",
    "from sklearn.model_selection import train_test_split"
   ]
  },
  {
   "cell_type": "code",
   "execution_count": 92,
   "id": "ede59218",
   "metadata": {},
   "outputs": [],
   "source": [
    "train_x, test_x, train_y,  test_y = train_test_split(x_new, y, test_size=0.3, random_state=123)"
   ]
  },
  {
   "cell_type": "code",
   "execution_count": 93,
   "id": "cdccfffe",
   "metadata": {
    "scrolled": true
   },
   "outputs": [
    {
     "data": {
      "text/plain": [
       "(30336, 8)"
      ]
     },
     "execution_count": 93,
     "metadata": {},
     "output_type": "execute_result"
    }
   ],
   "source": [
    "train_x.shape"
   ]
  },
  {
   "cell_type": "code",
   "execution_count": 94,
   "id": "a32ef893",
   "metadata": {},
   "outputs": [
    {
     "data": {
      "text/plain": [
       "(30336,)"
      ]
     },
     "execution_count": 94,
     "metadata": {},
     "output_type": "execute_result"
    }
   ],
   "source": [
    "train_y.shape"
   ]
  },
  {
   "cell_type": "code",
   "execution_count": 95,
   "id": "327984f3",
   "metadata": {
    "scrolled": true
   },
   "outputs": [
    {
     "data": {
      "text/plain": [
       "(13002, 8)"
      ]
     },
     "execution_count": 95,
     "metadata": {},
     "output_type": "execute_result"
    }
   ],
   "source": [
    "test_x.shape"
   ]
  },
  {
   "cell_type": "code",
   "execution_count": 96,
   "id": "5b71d7cd",
   "metadata": {},
   "outputs": [
    {
     "data": {
      "text/plain": [
       "(13002,)"
      ]
     },
     "execution_count": 96,
     "metadata": {},
     "output_type": "execute_result"
    }
   ],
   "source": [
    "test_y.shape"
   ]
  },
  {
   "cell_type": "code",
   "execution_count": 97,
   "id": "ab6afb6c",
   "metadata": {},
   "outputs": [],
   "source": [
    "# Random Forest Classifier"
   ]
  },
  {
   "cell_type": "code",
   "execution_count": 98,
   "id": "208ef2bf",
   "metadata": {},
   "outputs": [],
   "source": [
    "from sklearn.ensemble import RandomForestClassifier\n",
    "from sklearn.model_selection import GridSearchCV"
   ]
  },
  {
   "cell_type": "code",
   "execution_count": 99,
   "id": "240c36f6",
   "metadata": {},
   "outputs": [
    {
     "name": "stdout",
     "output_type": "stream",
     "text": [
      "Fitting 5 folds for each of 90 candidates, totalling 450 fits\n"
     ]
    }
   ],
   "source": [
    "#using gridsearch\n",
    "pargrid_ada = {'n_estimators': [50, 60, 70, 80, 90, 100],\n",
    "                'max_features': [2,3,4],\n",
    "              'max_depth': [2,3,4,5,6]}\n",
    "gscv_Rf = GridSearchCV(estimator=RandomForestClassifier(), \n",
    "                        param_grid=pargrid_ada, \n",
    "                        cv=5,\n",
    "                        verbose=True, n_jobs=-1, scoring='roc_auc').fit(train_x, train_y)"
   ]
  },
  {
   "cell_type": "code",
   "execution_count": 100,
   "id": "bdde94dd",
   "metadata": {},
   "outputs": [
    {
     "name": "stdout",
     "output_type": "stream",
     "text": [
      "{'max_depth': 6, 'max_features': 3, 'n_estimators': 80}\n",
      "0.821243522880341\n"
     ]
    }
   ],
   "source": [
    "print(gscv_Rf.best_params_)\n",
    "print(gscv_Rf.best_score_)"
   ]
  },
  {
   "cell_type": "code",
   "execution_count": 101,
   "id": "e5959fbd",
   "metadata": {},
   "outputs": [
    {
     "data": {
      "text/plain": [
       "RandomForestClassifier(max_depth=6, max_features=3, n_estimators=80, n_jobs=-1,\n",
       "                       oob_score=True)"
      ]
     },
     "execution_count": 101,
     "metadata": {},
     "output_type": "execute_result"
    }
   ],
   "source": [
    "rf_model = RandomForestClassifier(oob_score=True,n_estimators=80 , max_depth = 6, max_features=3, n_jobs=-1)\n",
    "rf_model.fit( train_x, train_y )"
   ]
  },
  {
   "cell_type": "code",
   "execution_count": 102,
   "id": "1ff41d8a",
   "metadata": {},
   "outputs": [],
   "source": [
    "# udf for finding all metric results\n",
    "\n",
    "def model_metric_results(model,train_x, train_y, test_x, test_y):\n",
    "    print('accuracy_scores')\n",
    "    print('train_accuracy :', metrics.accuracy_score(train_y, model.predict(train_x)))\n",
    "    print('test_accuracy :', metrics.accuracy_score(test_y, model.predict(test_x)))\n",
    "    print('------------------------------------------------------------------------------------------------------------')\n",
    "    print('roc_auc_scores')\n",
    "    print('roc_auc_train :', metrics.roc_auc_score(train_y, pd.DataFrame(model.predict_proba(train_x))[1]))\n",
    "    print('roc_auc_test :', metrics.roc_auc_score(test_y, pd.DataFrame(model.predict_proba(test_x))[1]))\n",
    "    print('------------------------------------------------------------------------------------------------------------')\n",
    "    print('classifiaction_report')\n",
    "    print(metrics.classification_report(train_y, model.predict(train_x)))\n",
    "    print(metrics.classification_report(test_y, model.predict(test_x)))"
   ]
  },
  {
   "cell_type": "code",
   "execution_count": 103,
   "id": "0c6636b9",
   "metadata": {},
   "outputs": [
    {
     "name": "stdout",
     "output_type": "stream",
     "text": [
      "accuracy_scores\n",
      "train_accuracy : 0.9287315400843882\n",
      "test_accuracy : 0.9270881402861099\n",
      "------------------------------------------------------------------------------------------------------------\n",
      "roc_auc_scores\n",
      "roc_auc_train : 0.8417774562954512\n",
      "roc_auc_test : 0.819787372252355\n",
      "------------------------------------------------------------------------------------------------------------\n",
      "classifiaction_report\n",
      "              precision    recall  f1-score   support\n",
      "\n",
      "           0       0.93      1.00      0.96     28159\n",
      "           1       1.00      0.01      0.01      2177\n",
      "\n",
      "    accuracy                           0.93     30336\n",
      "   macro avg       0.96      0.50      0.49     30336\n",
      "weighted avg       0.93      0.93      0.89     30336\n",
      "\n",
      "              precision    recall  f1-score   support\n",
      "\n",
      "           0       0.93      1.00      0.96     12049\n",
      "           1       1.00      0.01      0.01       953\n",
      "\n",
      "    accuracy                           0.93     13002\n",
      "   macro avg       0.96      0.50      0.49     13002\n",
      "weighted avg       0.93      0.93      0.89     13002\n",
      "\n"
     ]
    }
   ],
   "source": [
    "model_metric_results(rf_model, train_x, train_y, test_x, test_y)"
   ]
  },
  {
   "cell_type": "code",
   "execution_count": 104,
   "id": "545b1bdc",
   "metadata": {},
   "outputs": [
    {
     "name": "stderr",
     "output_type": "stream",
     "text": [
      "C:\\Users\\LingrajRipplr\\AppData\\Local\\Temp\\ipykernel_8224\\4171890312.py:2: FutureWarning: The frame.append method is deprecated and will be removed from pandas in a future version. Use pandas.concat instead.\n",
      "  df1 = df1.append({'model_name':'Random Forest Classifier', 'train_accuracy':metrics.accuracy_score(train_y, rf_model.predict(train_x)), 'test_accuracy': metrics.accuracy_score(test_y, rf_model.predict(test_x))}, ignore_index=True)\n"
     ]
    }
   ],
   "source": [
    "# appending values from Random Forest Classifier\n",
    "df1 = df1.append({'model_name':'Random Forest Classifier', 'train_accuracy':metrics.accuracy_score(train_y, rf_model.predict(train_x)), 'test_accuracy': metrics.accuracy_score(test_y, rf_model.predict(test_x))}, ignore_index=True)"
   ]
  },
  {
   "cell_type": "code",
   "execution_count": 105,
   "id": "89a40c19",
   "metadata": {},
   "outputs": [],
   "source": [
    "# XGBoost"
   ]
  },
  {
   "cell_type": "code",
   "execution_count": 106,
   "id": "2f674563",
   "metadata": {},
   "outputs": [],
   "source": [
    "#!pip install xgboost"
   ]
  },
  {
   "cell_type": "code",
   "execution_count": 107,
   "id": "e7472bf5",
   "metadata": {},
   "outputs": [],
   "source": [
    "from xgboost import XGBClassifier"
   ]
  },
  {
   "cell_type": "code",
   "execution_count": 108,
   "id": "10f5e6c6",
   "metadata": {},
   "outputs": [],
   "source": [
    "# Tuning paramteres\n",
    "s_grid = {'learning_rate':[0.01,0.05,0.1], 'n_estimators':[100,200,300]}"
   ]
  },
  {
   "cell_type": "code",
   "execution_count": 109,
   "id": "c32eb3cc",
   "metadata": {},
   "outputs": [],
   "source": [
    "xgb_model = GridSearchCV(XGBClassifier(), s_grid, cv=5, scoring='roc_auc', n_jobs=-1, verbose=True)"
   ]
  },
  {
   "cell_type": "code",
   "execution_count": 110,
   "id": "75a00f11",
   "metadata": {},
   "outputs": [
    {
     "name": "stdout",
     "output_type": "stream",
     "text": [
      "Fitting 5 folds for each of 9 candidates, totalling 45 fits\n"
     ]
    }
   ],
   "source": [
    "xgb_model = xgb_model.fit(train_x, train_y)"
   ]
  },
  {
   "cell_type": "code",
   "execution_count": 111,
   "id": "b23f6405",
   "metadata": {},
   "outputs": [
    {
     "data": {
      "text/plain": [
       "{'learning_rate': 0.1, 'n_estimators': 200}"
      ]
     },
     "execution_count": 111,
     "metadata": {},
     "output_type": "execute_result"
    }
   ],
   "source": [
    "xgb_model.best_params_"
   ]
  },
  {
   "cell_type": "code",
   "execution_count": 112,
   "id": "0f88f8f7",
   "metadata": {},
   "outputs": [
    {
     "data": {
      "text/plain": [
       "0.8679924175065817"
      ]
     },
     "execution_count": 112,
     "metadata": {},
     "output_type": "execute_result"
    }
   ],
   "source": [
    "xgb_model.best_score_"
   ]
  },
  {
   "cell_type": "code",
   "execution_count": 113,
   "id": "72ddad17",
   "metadata": {},
   "outputs": [],
   "source": [
    "xgb_model_final = XGBClassifier(n_estimators=200, learning_rate=0.1)"
   ]
  },
  {
   "cell_type": "code",
   "execution_count": 114,
   "id": "f177c2ec",
   "metadata": {},
   "outputs": [],
   "source": [
    "xgb_model_final = xgb_model_final.fit(train_x, train_y)"
   ]
  },
  {
   "cell_type": "code",
   "execution_count": 115,
   "id": "ff3599e2",
   "metadata": {},
   "outputs": [
    {
     "name": "stdout",
     "output_type": "stream",
     "text": [
      "accuracy_scores\n",
      "train_accuracy : 0.9488726265822784\n",
      "test_accuracy : 0.9350099984617751\n",
      "------------------------------------------------------------------------------------------------------------\n",
      "roc_auc_scores\n",
      "roc_auc_train : 0.9512309708324551\n",
      "roc_auc_test : 0.8706781603659837\n",
      "------------------------------------------------------------------------------------------------------------\n",
      "classifiaction_report\n",
      "              precision    recall  f1-score   support\n",
      "\n",
      "           0       0.95      1.00      0.97     28159\n",
      "           1       0.86      0.34      0.49      2177\n",
      "\n",
      "    accuracy                           0.95     30336\n",
      "   macro avg       0.91      0.67      0.73     30336\n",
      "weighted avg       0.95      0.95      0.94     30336\n",
      "\n",
      "              precision    recall  f1-score   support\n",
      "\n",
      "           0       0.94      0.99      0.97     12049\n",
      "           1       0.67      0.23      0.34       953\n",
      "\n",
      "    accuracy                           0.94     13002\n",
      "   macro avg       0.80      0.61      0.65     13002\n",
      "weighted avg       0.92      0.94      0.92     13002\n",
      "\n"
     ]
    }
   ],
   "source": [
    "model_metric_results(xgb_model_final,train_x,train_y,test_x,test_y)"
   ]
  },
  {
   "cell_type": "code",
   "execution_count": 116,
   "id": "f94fdc7f",
   "metadata": {},
   "outputs": [
    {
     "name": "stderr",
     "output_type": "stream",
     "text": [
      "C:\\Users\\LingrajRipplr\\AppData\\Local\\Temp\\ipykernel_8224\\3224528233.py:2: FutureWarning: The frame.append method is deprecated and will be removed from pandas in a future version. Use pandas.concat instead.\n",
      "  df1 = df1.append({'model_name':'XGBoost Classifier', 'train_accuracy':metrics.accuracy_score(train_y, xgb_model_final.predict(train_x)), 'test_accuracy': metrics.accuracy_score(test_y, xgb_model_final.predict(test_x))}, ignore_index=True)\n"
     ]
    }
   ],
   "source": [
    "# appending values from XGBoost Classifier\n",
    "df1 = df1.append({'model_name':'XGBoost Classifier', 'train_accuracy':metrics.accuracy_score(train_y, xgb_model_final.predict(train_x)), 'test_accuracy': metrics.accuracy_score(test_y, xgb_model_final.predict(test_x))}, ignore_index=True)"
   ]
  },
  {
   "cell_type": "code",
   "execution_count": 118,
   "id": "e1d95ea9",
   "metadata": {},
   "outputs": [
    {
     "data": {
      "text/html": [
       "<div>\n",
       "<style scoped>\n",
       "    .dataframe tbody tr th:only-of-type {\n",
       "        vertical-align: middle;\n",
       "    }\n",
       "\n",
       "    .dataframe tbody tr th {\n",
       "        vertical-align: top;\n",
       "    }\n",
       "\n",
       "    .dataframe thead th {\n",
       "        text-align: right;\n",
       "    }\n",
       "</style>\n",
       "<table border=\"1\" class=\"dataframe\">\n",
       "  <thead>\n",
       "    <tr style=\"text-align: right;\">\n",
       "      <th></th>\n",
       "      <th>model_name</th>\n",
       "      <th>train_accuracy</th>\n",
       "      <th>test_accuracy</th>\n",
       "    </tr>\n",
       "  </thead>\n",
       "  <tbody>\n",
       "    <tr>\n",
       "      <th>0</th>\n",
       "      <td>Logistic regression</td>\n",
       "      <td>0.726299</td>\n",
       "      <td>0.717659</td>\n",
       "    </tr>\n",
       "    <tr>\n",
       "      <th>1</th>\n",
       "      <td>Random Forest Classifier</td>\n",
       "      <td>0.928732</td>\n",
       "      <td>0.927088</td>\n",
       "    </tr>\n",
       "    <tr>\n",
       "      <th>2</th>\n",
       "      <td>XGBoost Classifier</td>\n",
       "      <td>0.948873</td>\n",
       "      <td>0.935010</td>\n",
       "    </tr>\n",
       "  </tbody>\n",
       "</table>\n",
       "</div>"
      ],
      "text/plain": [
       "                 model_name  train_accuracy  test_accuracy\n",
       "0       Logistic regression        0.726299       0.717659\n",
       "1  Random Forest Classifier        0.928732       0.927088\n",
       "2        XGBoost Classifier        0.948873       0.935010"
      ]
     },
     "execution_count": 118,
     "metadata": {},
     "output_type": "execute_result"
    }
   ],
   "source": [
    "# display of all models with train & test accuracy\n",
    "df1"
   ]
  },
  {
   "cell_type": "code",
   "execution_count": 119,
   "id": "1e53c077",
   "metadata": {},
   "outputs": [],
   "source": [
    "# based on the accuracy we can select XGBoost classifier & the model is xgb_model_final"
   ]
  },
  {
   "cell_type": "markdown",
   "id": "bbdae69d",
   "metadata": {},
   "source": [
    "### Classification with sampling"
   ]
  },
  {
   "cell_type": "code",
   "execution_count": 154,
   "id": "8086f033",
   "metadata": {},
   "outputs": [],
   "source": [
    "# for processing the data we will take sample of data from Final_data_binary\n",
    "\n",
    "sample_data = data.sample(n=20000, random_state=123)"
   ]
  },
  {
   "cell_type": "code",
   "execution_count": 155,
   "id": "abea0ef7",
   "metadata": {},
   "outputs": [
    {
     "data": {
      "text/html": [
       "<div>\n",
       "<style scoped>\n",
       "    .dataframe tbody tr th:only-of-type {\n",
       "        vertical-align: middle;\n",
       "    }\n",
       "\n",
       "    .dataframe tbody tr th {\n",
       "        vertical-align: top;\n",
       "    }\n",
       "\n",
       "    .dataframe thead th {\n",
       "        text-align: right;\n",
       "    }\n",
       "</style>\n",
       "<table border=\"1\" class=\"dataframe\">\n",
       "  <thead>\n",
       "    <tr style=\"text-align: right;\">\n",
       "      <th></th>\n",
       "      <th>user_id</th>\n",
       "      <th>vehicle_model_id</th>\n",
       "      <th>travel_type_id</th>\n",
       "      <th>from_area_id</th>\n",
       "      <th>online_booking</th>\n",
       "      <th>mobile_site_booking</th>\n",
       "      <th>from_lat</th>\n",
       "      <th>from_long</th>\n",
       "      <th>Car_Cancellation</th>\n",
       "      <th>day_of_jrny</th>\n",
       "      <th>month_of_jrny</th>\n",
       "      <th>year_of_jrny</th>\n",
       "      <th>jrny_time</th>\n",
       "      <th>jrny_min</th>\n",
       "    </tr>\n",
       "  </thead>\n",
       "  <tbody>\n",
       "    <tr>\n",
       "      <th>2259</th>\n",
       "      <td>23090</td>\n",
       "      <td>12</td>\n",
       "      <td>2</td>\n",
       "      <td>1379.0</td>\n",
       "      <td>0</td>\n",
       "      <td>0</td>\n",
       "      <td>13.062088</td>\n",
       "      <td>77.533286</td>\n",
       "      <td>1</td>\n",
       "      <td>25</td>\n",
       "      <td>1</td>\n",
       "      <td>2013</td>\n",
       "      <td>17</td>\n",
       "      <td>30</td>\n",
       "    </tr>\n",
       "    <tr>\n",
       "      <th>4700</th>\n",
       "      <td>12750</td>\n",
       "      <td>12</td>\n",
       "      <td>2</td>\n",
       "      <td>1173.0</td>\n",
       "      <td>1</td>\n",
       "      <td>0</td>\n",
       "      <td>12.959979</td>\n",
       "      <td>77.647998</td>\n",
       "      <td>0</td>\n",
       "      <td>19</td>\n",
       "      <td>2</td>\n",
       "      <td>2013</td>\n",
       "      <td>6</td>\n",
       "      <td>45</td>\n",
       "    </tr>\n",
       "    <tr>\n",
       "      <th>10436</th>\n",
       "      <td>29522</td>\n",
       "      <td>12</td>\n",
       "      <td>2</td>\n",
       "      <td>1383.0</td>\n",
       "      <td>0</td>\n",
       "      <td>0</td>\n",
       "      <td>12.969368</td>\n",
       "      <td>77.641302</td>\n",
       "      <td>0</td>\n",
       "      <td>23</td>\n",
       "      <td>4</td>\n",
       "      <td>2013</td>\n",
       "      <td>8</td>\n",
       "      <td>45</td>\n",
       "    </tr>\n",
       "    <tr>\n",
       "      <th>23584</th>\n",
       "      <td>36997</td>\n",
       "      <td>12</td>\n",
       "      <td>2</td>\n",
       "      <td>1337.0</td>\n",
       "      <td>1</td>\n",
       "      <td>0</td>\n",
       "      <td>12.975693</td>\n",
       "      <td>77.729096</td>\n",
       "      <td>1</td>\n",
       "      <td>19</td>\n",
       "      <td>7</td>\n",
       "      <td>2013</td>\n",
       "      <td>19</td>\n",
       "      <td>45</td>\n",
       "    </tr>\n",
       "    <tr>\n",
       "      <th>11492</th>\n",
       "      <td>29504</td>\n",
       "      <td>12</td>\n",
       "      <td>2</td>\n",
       "      <td>396.0</td>\n",
       "      <td>1</td>\n",
       "      <td>0</td>\n",
       "      <td>12.920730</td>\n",
       "      <td>77.664820</td>\n",
       "      <td>1</td>\n",
       "      <td>28</td>\n",
       "      <td>4</td>\n",
       "      <td>2013</td>\n",
       "      <td>20</td>\n",
       "      <td>45</td>\n",
       "    </tr>\n",
       "    <tr>\n",
       "      <th>...</th>\n",
       "      <td>...</td>\n",
       "      <td>...</td>\n",
       "      <td>...</td>\n",
       "      <td>...</td>\n",
       "      <td>...</td>\n",
       "      <td>...</td>\n",
       "      <td>...</td>\n",
       "      <td>...</td>\n",
       "      <td>...</td>\n",
       "      <td>...</td>\n",
       "      <td>...</td>\n",
       "      <td>...</td>\n",
       "      <td>...</td>\n",
       "      <td>...</td>\n",
       "    </tr>\n",
       "    <tr>\n",
       "      <th>33477</th>\n",
       "      <td>42804</td>\n",
       "      <td>89</td>\n",
       "      <td>3</td>\n",
       "      <td>450.0</td>\n",
       "      <td>0</td>\n",
       "      <td>1</td>\n",
       "      <td>12.933400</td>\n",
       "      <td>77.626520</td>\n",
       "      <td>0</td>\n",
       "      <td>15</td>\n",
       "      <td>9</td>\n",
       "      <td>2013</td>\n",
       "      <td>18</td>\n",
       "      <td>15</td>\n",
       "    </tr>\n",
       "    <tr>\n",
       "      <th>22853</th>\n",
       "      <td>986</td>\n",
       "      <td>12</td>\n",
       "      <td>2</td>\n",
       "      <td>814.0</td>\n",
       "      <td>0</td>\n",
       "      <td>0</td>\n",
       "      <td>12.908993</td>\n",
       "      <td>77.688900</td>\n",
       "      <td>0</td>\n",
       "      <td>15</td>\n",
       "      <td>7</td>\n",
       "      <td>2013</td>\n",
       "      <td>9</td>\n",
       "      <td>45</td>\n",
       "    </tr>\n",
       "    <tr>\n",
       "      <th>26458</th>\n",
       "      <td>38536</td>\n",
       "      <td>12</td>\n",
       "      <td>3</td>\n",
       "      <td>393.0</td>\n",
       "      <td>1</td>\n",
       "      <td>0</td>\n",
       "      <td>13.199560</td>\n",
       "      <td>77.706880</td>\n",
       "      <td>0</td>\n",
       "      <td>6</td>\n",
       "      <td>8</td>\n",
       "      <td>2013</td>\n",
       "      <td>10</td>\n",
       "      <td>15</td>\n",
       "    </tr>\n",
       "    <tr>\n",
       "      <th>7347</th>\n",
       "      <td>26765</td>\n",
       "      <td>12</td>\n",
       "      <td>2</td>\n",
       "      <td>832.0</td>\n",
       "      <td>1</td>\n",
       "      <td>0</td>\n",
       "      <td>12.880190</td>\n",
       "      <td>77.645580</td>\n",
       "      <td>0</td>\n",
       "      <td>19</td>\n",
       "      <td>3</td>\n",
       "      <td>2013</td>\n",
       "      <td>17</td>\n",
       "      <td>0</td>\n",
       "    </tr>\n",
       "    <tr>\n",
       "      <th>5615</th>\n",
       "      <td>25208</td>\n",
       "      <td>24</td>\n",
       "      <td>2</td>\n",
       "      <td>393.0</td>\n",
       "      <td>0</td>\n",
       "      <td>0</td>\n",
       "      <td>13.199560</td>\n",
       "      <td>77.706880</td>\n",
       "      <td>0</td>\n",
       "      <td>27</td>\n",
       "      <td>2</td>\n",
       "      <td>2013</td>\n",
       "      <td>22</td>\n",
       "      <td>45</td>\n",
       "    </tr>\n",
       "  </tbody>\n",
       "</table>\n",
       "<p>20000 rows × 14 columns</p>\n",
       "</div>"
      ],
      "text/plain": [
       "       user_id  vehicle_model_id  travel_type_id  from_area_id  \\\n",
       "2259     23090                12               2        1379.0   \n",
       "4700     12750                12               2        1173.0   \n",
       "10436    29522                12               2        1383.0   \n",
       "23584    36997                12               2        1337.0   \n",
       "11492    29504                12               2         396.0   \n",
       "...        ...               ...             ...           ...   \n",
       "33477    42804                89               3         450.0   \n",
       "22853      986                12               2         814.0   \n",
       "26458    38536                12               3         393.0   \n",
       "7347     26765                12               2         832.0   \n",
       "5615     25208                24               2         393.0   \n",
       "\n",
       "       online_booking  mobile_site_booking   from_lat  from_long  \\\n",
       "2259                0                    0  13.062088  77.533286   \n",
       "4700                1                    0  12.959979  77.647998   \n",
       "10436               0                    0  12.969368  77.641302   \n",
       "23584               1                    0  12.975693  77.729096   \n",
       "11492               1                    0  12.920730  77.664820   \n",
       "...               ...                  ...        ...        ...   \n",
       "33477               0                    1  12.933400  77.626520   \n",
       "22853               0                    0  12.908993  77.688900   \n",
       "26458               1                    0  13.199560  77.706880   \n",
       "7347                1                    0  12.880190  77.645580   \n",
       "5615                0                    0  13.199560  77.706880   \n",
       "\n",
       "       Car_Cancellation  day_of_jrny  month_of_jrny  year_of_jrny  jrny_time  \\\n",
       "2259                  1           25              1          2013         17   \n",
       "4700                  0           19              2          2013          6   \n",
       "10436                 0           23              4          2013          8   \n",
       "23584                 1           19              7          2013         19   \n",
       "11492                 1           28              4          2013         20   \n",
       "...                 ...          ...            ...           ...        ...   \n",
       "33477                 0           15              9          2013         18   \n",
       "22853                 0           15              7          2013          9   \n",
       "26458                 0            6              8          2013         10   \n",
       "7347                  0           19              3          2013         17   \n",
       "5615                  0           27              2          2013         22   \n",
       "\n",
       "       jrny_min  \n",
       "2259         30  \n",
       "4700         45  \n",
       "10436        45  \n",
       "23584        45  \n",
       "11492        45  \n",
       "...         ...  \n",
       "33477        15  \n",
       "22853        45  \n",
       "26458        15  \n",
       "7347          0  \n",
       "5615         45  \n",
       "\n",
       "[20000 rows x 14 columns]"
      ]
     },
     "execution_count": 155,
     "metadata": {},
     "output_type": "execute_result"
    }
   ],
   "source": [
    "sample_data"
   ]
  },
  {
   "cell_type": "code",
   "execution_count": 156,
   "id": "6c73d46f",
   "metadata": {},
   "outputs": [],
   "source": [
    "sample_data = sample_data.reset_index(drop=True)"
   ]
  },
  {
   "cell_type": "code",
   "execution_count": 157,
   "id": "377a083c",
   "metadata": {},
   "outputs": [
    {
     "data": {
      "text/html": [
       "<div>\n",
       "<style scoped>\n",
       "    .dataframe tbody tr th:only-of-type {\n",
       "        vertical-align: middle;\n",
       "    }\n",
       "\n",
       "    .dataframe tbody tr th {\n",
       "        vertical-align: top;\n",
       "    }\n",
       "\n",
       "    .dataframe thead th {\n",
       "        text-align: right;\n",
       "    }\n",
       "</style>\n",
       "<table border=\"1\" class=\"dataframe\">\n",
       "  <thead>\n",
       "    <tr style=\"text-align: right;\">\n",
       "      <th></th>\n",
       "      <th>user_id</th>\n",
       "      <th>vehicle_model_id</th>\n",
       "      <th>travel_type_id</th>\n",
       "      <th>from_area_id</th>\n",
       "      <th>online_booking</th>\n",
       "      <th>mobile_site_booking</th>\n",
       "      <th>from_lat</th>\n",
       "      <th>from_long</th>\n",
       "      <th>Car_Cancellation</th>\n",
       "      <th>day_of_jrny</th>\n",
       "      <th>month_of_jrny</th>\n",
       "      <th>year_of_jrny</th>\n",
       "      <th>jrny_time</th>\n",
       "      <th>jrny_min</th>\n",
       "    </tr>\n",
       "  </thead>\n",
       "  <tbody>\n",
       "    <tr>\n",
       "      <th>0</th>\n",
       "      <td>23090</td>\n",
       "      <td>12</td>\n",
       "      <td>2</td>\n",
       "      <td>1379.0</td>\n",
       "      <td>0</td>\n",
       "      <td>0</td>\n",
       "      <td>13.062088</td>\n",
       "      <td>77.533286</td>\n",
       "      <td>1</td>\n",
       "      <td>25</td>\n",
       "      <td>1</td>\n",
       "      <td>2013</td>\n",
       "      <td>17</td>\n",
       "      <td>30</td>\n",
       "    </tr>\n",
       "    <tr>\n",
       "      <th>1</th>\n",
       "      <td>12750</td>\n",
       "      <td>12</td>\n",
       "      <td>2</td>\n",
       "      <td>1173.0</td>\n",
       "      <td>1</td>\n",
       "      <td>0</td>\n",
       "      <td>12.959979</td>\n",
       "      <td>77.647998</td>\n",
       "      <td>0</td>\n",
       "      <td>19</td>\n",
       "      <td>2</td>\n",
       "      <td>2013</td>\n",
       "      <td>6</td>\n",
       "      <td>45</td>\n",
       "    </tr>\n",
       "    <tr>\n",
       "      <th>2</th>\n",
       "      <td>29522</td>\n",
       "      <td>12</td>\n",
       "      <td>2</td>\n",
       "      <td>1383.0</td>\n",
       "      <td>0</td>\n",
       "      <td>0</td>\n",
       "      <td>12.969368</td>\n",
       "      <td>77.641302</td>\n",
       "      <td>0</td>\n",
       "      <td>23</td>\n",
       "      <td>4</td>\n",
       "      <td>2013</td>\n",
       "      <td>8</td>\n",
       "      <td>45</td>\n",
       "    </tr>\n",
       "    <tr>\n",
       "      <th>3</th>\n",
       "      <td>36997</td>\n",
       "      <td>12</td>\n",
       "      <td>2</td>\n",
       "      <td>1337.0</td>\n",
       "      <td>1</td>\n",
       "      <td>0</td>\n",
       "      <td>12.975693</td>\n",
       "      <td>77.729096</td>\n",
       "      <td>1</td>\n",
       "      <td>19</td>\n",
       "      <td>7</td>\n",
       "      <td>2013</td>\n",
       "      <td>19</td>\n",
       "      <td>45</td>\n",
       "    </tr>\n",
       "    <tr>\n",
       "      <th>4</th>\n",
       "      <td>29504</td>\n",
       "      <td>12</td>\n",
       "      <td>2</td>\n",
       "      <td>396.0</td>\n",
       "      <td>1</td>\n",
       "      <td>0</td>\n",
       "      <td>12.920730</td>\n",
       "      <td>77.664820</td>\n",
       "      <td>1</td>\n",
       "      <td>28</td>\n",
       "      <td>4</td>\n",
       "      <td>2013</td>\n",
       "      <td>20</td>\n",
       "      <td>45</td>\n",
       "    </tr>\n",
       "    <tr>\n",
       "      <th>...</th>\n",
       "      <td>...</td>\n",
       "      <td>...</td>\n",
       "      <td>...</td>\n",
       "      <td>...</td>\n",
       "      <td>...</td>\n",
       "      <td>...</td>\n",
       "      <td>...</td>\n",
       "      <td>...</td>\n",
       "      <td>...</td>\n",
       "      <td>...</td>\n",
       "      <td>...</td>\n",
       "      <td>...</td>\n",
       "      <td>...</td>\n",
       "      <td>...</td>\n",
       "    </tr>\n",
       "    <tr>\n",
       "      <th>19995</th>\n",
       "      <td>42804</td>\n",
       "      <td>89</td>\n",
       "      <td>3</td>\n",
       "      <td>450.0</td>\n",
       "      <td>0</td>\n",
       "      <td>1</td>\n",
       "      <td>12.933400</td>\n",
       "      <td>77.626520</td>\n",
       "      <td>0</td>\n",
       "      <td>15</td>\n",
       "      <td>9</td>\n",
       "      <td>2013</td>\n",
       "      <td>18</td>\n",
       "      <td>15</td>\n",
       "    </tr>\n",
       "    <tr>\n",
       "      <th>19996</th>\n",
       "      <td>986</td>\n",
       "      <td>12</td>\n",
       "      <td>2</td>\n",
       "      <td>814.0</td>\n",
       "      <td>0</td>\n",
       "      <td>0</td>\n",
       "      <td>12.908993</td>\n",
       "      <td>77.688900</td>\n",
       "      <td>0</td>\n",
       "      <td>15</td>\n",
       "      <td>7</td>\n",
       "      <td>2013</td>\n",
       "      <td>9</td>\n",
       "      <td>45</td>\n",
       "    </tr>\n",
       "    <tr>\n",
       "      <th>19997</th>\n",
       "      <td>38536</td>\n",
       "      <td>12</td>\n",
       "      <td>3</td>\n",
       "      <td>393.0</td>\n",
       "      <td>1</td>\n",
       "      <td>0</td>\n",
       "      <td>13.199560</td>\n",
       "      <td>77.706880</td>\n",
       "      <td>0</td>\n",
       "      <td>6</td>\n",
       "      <td>8</td>\n",
       "      <td>2013</td>\n",
       "      <td>10</td>\n",
       "      <td>15</td>\n",
       "    </tr>\n",
       "    <tr>\n",
       "      <th>19998</th>\n",
       "      <td>26765</td>\n",
       "      <td>12</td>\n",
       "      <td>2</td>\n",
       "      <td>832.0</td>\n",
       "      <td>1</td>\n",
       "      <td>0</td>\n",
       "      <td>12.880190</td>\n",
       "      <td>77.645580</td>\n",
       "      <td>0</td>\n",
       "      <td>19</td>\n",
       "      <td>3</td>\n",
       "      <td>2013</td>\n",
       "      <td>17</td>\n",
       "      <td>0</td>\n",
       "    </tr>\n",
       "    <tr>\n",
       "      <th>19999</th>\n",
       "      <td>25208</td>\n",
       "      <td>24</td>\n",
       "      <td>2</td>\n",
       "      <td>393.0</td>\n",
       "      <td>0</td>\n",
       "      <td>0</td>\n",
       "      <td>13.199560</td>\n",
       "      <td>77.706880</td>\n",
       "      <td>0</td>\n",
       "      <td>27</td>\n",
       "      <td>2</td>\n",
       "      <td>2013</td>\n",
       "      <td>22</td>\n",
       "      <td>45</td>\n",
       "    </tr>\n",
       "  </tbody>\n",
       "</table>\n",
       "<p>20000 rows × 14 columns</p>\n",
       "</div>"
      ],
      "text/plain": [
       "       user_id  vehicle_model_id  travel_type_id  from_area_id  \\\n",
       "0        23090                12               2        1379.0   \n",
       "1        12750                12               2        1173.0   \n",
       "2        29522                12               2        1383.0   \n",
       "3        36997                12               2        1337.0   \n",
       "4        29504                12               2         396.0   \n",
       "...        ...               ...             ...           ...   \n",
       "19995    42804                89               3         450.0   \n",
       "19996      986                12               2         814.0   \n",
       "19997    38536                12               3         393.0   \n",
       "19998    26765                12               2         832.0   \n",
       "19999    25208                24               2         393.0   \n",
       "\n",
       "       online_booking  mobile_site_booking   from_lat  from_long  \\\n",
       "0                   0                    0  13.062088  77.533286   \n",
       "1                   1                    0  12.959979  77.647998   \n",
       "2                   0                    0  12.969368  77.641302   \n",
       "3                   1                    0  12.975693  77.729096   \n",
       "4                   1                    0  12.920730  77.664820   \n",
       "...               ...                  ...        ...        ...   \n",
       "19995               0                    1  12.933400  77.626520   \n",
       "19996               0                    0  12.908993  77.688900   \n",
       "19997               1                    0  13.199560  77.706880   \n",
       "19998               1                    0  12.880190  77.645580   \n",
       "19999               0                    0  13.199560  77.706880   \n",
       "\n",
       "       Car_Cancellation  day_of_jrny  month_of_jrny  year_of_jrny  jrny_time  \\\n",
       "0                     1           25              1          2013         17   \n",
       "1                     0           19              2          2013          6   \n",
       "2                     0           23              4          2013          8   \n",
       "3                     1           19              7          2013         19   \n",
       "4                     1           28              4          2013         20   \n",
       "...                 ...          ...            ...           ...        ...   \n",
       "19995                 0           15              9          2013         18   \n",
       "19996                 0           15              7          2013          9   \n",
       "19997                 0            6              8          2013         10   \n",
       "19998                 0           19              3          2013         17   \n",
       "19999                 0           27              2          2013         22   \n",
       "\n",
       "       jrny_min  \n",
       "0            30  \n",
       "1            45  \n",
       "2            45  \n",
       "3            45  \n",
       "4            45  \n",
       "...         ...  \n",
       "19995        15  \n",
       "19996        45  \n",
       "19997        15  \n",
       "19998         0  \n",
       "19999        45  \n",
       "\n",
       "[20000 rows x 14 columns]"
      ]
     },
     "execution_count": 157,
     "metadata": {},
     "output_type": "execute_result"
    }
   ],
   "source": [
    "sample_data"
   ]
  },
  {
   "cell_type": "code",
   "execution_count": 159,
   "id": "6d507b0e",
   "metadata": {},
   "outputs": [
    {
     "data": {
      "text/plain": [
       "0    18523\n",
       "1     1477\n",
       "Name: Car_Cancellation, dtype: int64"
      ]
     },
     "execution_count": 159,
     "metadata": {},
     "output_type": "execute_result"
    }
   ],
   "source": [
    "sample_data.Car_Cancellation.value_counts()"
   ]
  },
  {
   "cell_type": "code",
   "execution_count": 160,
   "id": "636bafe9",
   "metadata": {},
   "outputs": [],
   "source": [
    "x = sample_data[sample_data.columns.difference(['Car_Cancellation'])]\n",
    "y = sample_data.Car_Cancellation"
   ]
  },
  {
   "cell_type": "code",
   "execution_count": 161,
   "id": "8d2638e9",
   "metadata": {},
   "outputs": [],
   "source": [
    "#!pip install imblearn"
   ]
  },
  {
   "cell_type": "code",
   "execution_count": 162,
   "id": "b683df2d",
   "metadata": {},
   "outputs": [],
   "source": [
    "# performing oversampling\n",
    "# !pip install imblearn -------> we have to install if its not already installed on machine\n",
    "from imblearn.over_sampling import SMOTE"
   ]
  },
  {
   "cell_type": "code",
   "execution_count": 163,
   "id": "ef6f1b7b",
   "metadata": {},
   "outputs": [],
   "source": [
    "sm = SMOTE(random_state=42)"
   ]
  },
  {
   "cell_type": "code",
   "execution_count": 164,
   "id": "7e793cb6",
   "metadata": {},
   "outputs": [
    {
     "data": {
      "text/plain": [
       "0        1\n",
       "1        0\n",
       "2        0\n",
       "3        1\n",
       "4        1\n",
       "        ..\n",
       "19995    0\n",
       "19996    0\n",
       "19997    0\n",
       "19998    0\n",
       "19999    0\n",
       "Name: Car_Cancellation, Length: 20000, dtype: int64"
      ]
     },
     "execution_count": 164,
     "metadata": {},
     "output_type": "execute_result"
    }
   ],
   "source": [
    "y"
   ]
  },
  {
   "cell_type": "code",
   "execution_count": 165,
   "id": "4790e1a3",
   "metadata": {},
   "outputs": [],
   "source": [
    "oversample = SMOTE()\n",
    "x_res, y_res = oversample.fit_resample(x, y)"
   ]
  },
  {
   "cell_type": "code",
   "execution_count": 166,
   "id": "5d8da34c",
   "metadata": {},
   "outputs": [
    {
     "data": {
      "text/plain": [
       "(20000, 13)"
      ]
     },
     "execution_count": 166,
     "metadata": {},
     "output_type": "execute_result"
    }
   ],
   "source": [
    "x.shape"
   ]
  },
  {
   "cell_type": "code",
   "execution_count": 167,
   "id": "49c46c85",
   "metadata": {},
   "outputs": [
    {
     "data": {
      "text/html": [
       "<div>\n",
       "<style scoped>\n",
       "    .dataframe tbody tr th:only-of-type {\n",
       "        vertical-align: middle;\n",
       "    }\n",
       "\n",
       "    .dataframe tbody tr th {\n",
       "        vertical-align: top;\n",
       "    }\n",
       "\n",
       "    .dataframe thead th {\n",
       "        text-align: right;\n",
       "    }\n",
       "</style>\n",
       "<table border=\"1\" class=\"dataframe\">\n",
       "  <thead>\n",
       "    <tr style=\"text-align: right;\">\n",
       "      <th></th>\n",
       "      <th>day_of_jrny</th>\n",
       "      <th>from_area_id</th>\n",
       "      <th>from_lat</th>\n",
       "      <th>from_long</th>\n",
       "      <th>jrny_min</th>\n",
       "      <th>jrny_time</th>\n",
       "      <th>mobile_site_booking</th>\n",
       "      <th>month_of_jrny</th>\n",
       "      <th>online_booking</th>\n",
       "      <th>travel_type_id</th>\n",
       "      <th>user_id</th>\n",
       "      <th>vehicle_model_id</th>\n",
       "      <th>year_of_jrny</th>\n",
       "    </tr>\n",
       "  </thead>\n",
       "  <tbody>\n",
       "    <tr>\n",
       "      <th>0</th>\n",
       "      <td>25</td>\n",
       "      <td>1379.0</td>\n",
       "      <td>13.062088</td>\n",
       "      <td>77.533286</td>\n",
       "      <td>30</td>\n",
       "      <td>17</td>\n",
       "      <td>0</td>\n",
       "      <td>1</td>\n",
       "      <td>0</td>\n",
       "      <td>2</td>\n",
       "      <td>23090</td>\n",
       "      <td>12</td>\n",
       "      <td>2013</td>\n",
       "    </tr>\n",
       "    <tr>\n",
       "      <th>1</th>\n",
       "      <td>19</td>\n",
       "      <td>1173.0</td>\n",
       "      <td>12.959979</td>\n",
       "      <td>77.647998</td>\n",
       "      <td>45</td>\n",
       "      <td>6</td>\n",
       "      <td>0</td>\n",
       "      <td>2</td>\n",
       "      <td>1</td>\n",
       "      <td>2</td>\n",
       "      <td>12750</td>\n",
       "      <td>12</td>\n",
       "      <td>2013</td>\n",
       "    </tr>\n",
       "    <tr>\n",
       "      <th>2</th>\n",
       "      <td>23</td>\n",
       "      <td>1383.0</td>\n",
       "      <td>12.969368</td>\n",
       "      <td>77.641302</td>\n",
       "      <td>45</td>\n",
       "      <td>8</td>\n",
       "      <td>0</td>\n",
       "      <td>4</td>\n",
       "      <td>0</td>\n",
       "      <td>2</td>\n",
       "      <td>29522</td>\n",
       "      <td>12</td>\n",
       "      <td>2013</td>\n",
       "    </tr>\n",
       "    <tr>\n",
       "      <th>3</th>\n",
       "      <td>19</td>\n",
       "      <td>1337.0</td>\n",
       "      <td>12.975693</td>\n",
       "      <td>77.729096</td>\n",
       "      <td>45</td>\n",
       "      <td>19</td>\n",
       "      <td>0</td>\n",
       "      <td>7</td>\n",
       "      <td>1</td>\n",
       "      <td>2</td>\n",
       "      <td>36997</td>\n",
       "      <td>12</td>\n",
       "      <td>2013</td>\n",
       "    </tr>\n",
       "    <tr>\n",
       "      <th>4</th>\n",
       "      <td>28</td>\n",
       "      <td>396.0</td>\n",
       "      <td>12.920730</td>\n",
       "      <td>77.664820</td>\n",
       "      <td>45</td>\n",
       "      <td>20</td>\n",
       "      <td>0</td>\n",
       "      <td>4</td>\n",
       "      <td>1</td>\n",
       "      <td>2</td>\n",
       "      <td>29504</td>\n",
       "      <td>12</td>\n",
       "      <td>2013</td>\n",
       "    </tr>\n",
       "    <tr>\n",
       "      <th>...</th>\n",
       "      <td>...</td>\n",
       "      <td>...</td>\n",
       "      <td>...</td>\n",
       "      <td>...</td>\n",
       "      <td>...</td>\n",
       "      <td>...</td>\n",
       "      <td>...</td>\n",
       "      <td>...</td>\n",
       "      <td>...</td>\n",
       "      <td>...</td>\n",
       "      <td>...</td>\n",
       "      <td>...</td>\n",
       "      <td>...</td>\n",
       "    </tr>\n",
       "    <tr>\n",
       "      <th>19995</th>\n",
       "      <td>15</td>\n",
       "      <td>450.0</td>\n",
       "      <td>12.933400</td>\n",
       "      <td>77.626520</td>\n",
       "      <td>15</td>\n",
       "      <td>18</td>\n",
       "      <td>1</td>\n",
       "      <td>9</td>\n",
       "      <td>0</td>\n",
       "      <td>3</td>\n",
       "      <td>42804</td>\n",
       "      <td>89</td>\n",
       "      <td>2013</td>\n",
       "    </tr>\n",
       "    <tr>\n",
       "      <th>19996</th>\n",
       "      <td>15</td>\n",
       "      <td>814.0</td>\n",
       "      <td>12.908993</td>\n",
       "      <td>77.688900</td>\n",
       "      <td>45</td>\n",
       "      <td>9</td>\n",
       "      <td>0</td>\n",
       "      <td>7</td>\n",
       "      <td>0</td>\n",
       "      <td>2</td>\n",
       "      <td>986</td>\n",
       "      <td>12</td>\n",
       "      <td>2013</td>\n",
       "    </tr>\n",
       "    <tr>\n",
       "      <th>19997</th>\n",
       "      <td>6</td>\n",
       "      <td>393.0</td>\n",
       "      <td>13.199560</td>\n",
       "      <td>77.706880</td>\n",
       "      <td>15</td>\n",
       "      <td>10</td>\n",
       "      <td>0</td>\n",
       "      <td>8</td>\n",
       "      <td>1</td>\n",
       "      <td>3</td>\n",
       "      <td>38536</td>\n",
       "      <td>12</td>\n",
       "      <td>2013</td>\n",
       "    </tr>\n",
       "    <tr>\n",
       "      <th>19998</th>\n",
       "      <td>19</td>\n",
       "      <td>832.0</td>\n",
       "      <td>12.880190</td>\n",
       "      <td>77.645580</td>\n",
       "      <td>0</td>\n",
       "      <td>17</td>\n",
       "      <td>0</td>\n",
       "      <td>3</td>\n",
       "      <td>1</td>\n",
       "      <td>2</td>\n",
       "      <td>26765</td>\n",
       "      <td>12</td>\n",
       "      <td>2013</td>\n",
       "    </tr>\n",
       "    <tr>\n",
       "      <th>19999</th>\n",
       "      <td>27</td>\n",
       "      <td>393.0</td>\n",
       "      <td>13.199560</td>\n",
       "      <td>77.706880</td>\n",
       "      <td>45</td>\n",
       "      <td>22</td>\n",
       "      <td>0</td>\n",
       "      <td>2</td>\n",
       "      <td>0</td>\n",
       "      <td>2</td>\n",
       "      <td>25208</td>\n",
       "      <td>24</td>\n",
       "      <td>2013</td>\n",
       "    </tr>\n",
       "  </tbody>\n",
       "</table>\n",
       "<p>20000 rows × 13 columns</p>\n",
       "</div>"
      ],
      "text/plain": [
       "       day_of_jrny  from_area_id   from_lat  from_long  jrny_min  jrny_time  \\\n",
       "0               25        1379.0  13.062088  77.533286        30         17   \n",
       "1               19        1173.0  12.959979  77.647998        45          6   \n",
       "2               23        1383.0  12.969368  77.641302        45          8   \n",
       "3               19        1337.0  12.975693  77.729096        45         19   \n",
       "4               28         396.0  12.920730  77.664820        45         20   \n",
       "...            ...           ...        ...        ...       ...        ...   \n",
       "19995           15         450.0  12.933400  77.626520        15         18   \n",
       "19996           15         814.0  12.908993  77.688900        45          9   \n",
       "19997            6         393.0  13.199560  77.706880        15         10   \n",
       "19998           19         832.0  12.880190  77.645580         0         17   \n",
       "19999           27         393.0  13.199560  77.706880        45         22   \n",
       "\n",
       "       mobile_site_booking  month_of_jrny  online_booking  travel_type_id  \\\n",
       "0                        0              1               0               2   \n",
       "1                        0              2               1               2   \n",
       "2                        0              4               0               2   \n",
       "3                        0              7               1               2   \n",
       "4                        0              4               1               2   \n",
       "...                    ...            ...             ...             ...   \n",
       "19995                    1              9               0               3   \n",
       "19996                    0              7               0               2   \n",
       "19997                    0              8               1               3   \n",
       "19998                    0              3               1               2   \n",
       "19999                    0              2               0               2   \n",
       "\n",
       "       user_id  vehicle_model_id  year_of_jrny  \n",
       "0        23090                12          2013  \n",
       "1        12750                12          2013  \n",
       "2        29522                12          2013  \n",
       "3        36997                12          2013  \n",
       "4        29504                12          2013  \n",
       "...        ...               ...           ...  \n",
       "19995    42804                89          2013  \n",
       "19996      986                12          2013  \n",
       "19997    38536                12          2013  \n",
       "19998    26765                12          2013  \n",
       "19999    25208                24          2013  \n",
       "\n",
       "[20000 rows x 13 columns]"
      ]
     },
     "execution_count": 167,
     "metadata": {},
     "output_type": "execute_result"
    }
   ],
   "source": [
    "x"
   ]
  },
  {
   "cell_type": "code",
   "execution_count": 168,
   "id": "fc2f133d",
   "metadata": {},
   "outputs": [
    {
     "data": {
      "text/plain": [
       "(37046, 13)"
      ]
     },
     "execution_count": 168,
     "metadata": {},
     "output_type": "execute_result"
    }
   ],
   "source": [
    "x_res.shape"
   ]
  },
  {
   "cell_type": "code",
   "execution_count": 169,
   "id": "3fa1cb68",
   "metadata": {},
   "outputs": [
    {
     "data": {
      "text/html": [
       "<div>\n",
       "<style scoped>\n",
       "    .dataframe tbody tr th:only-of-type {\n",
       "        vertical-align: middle;\n",
       "    }\n",
       "\n",
       "    .dataframe tbody tr th {\n",
       "        vertical-align: top;\n",
       "    }\n",
       "\n",
       "    .dataframe thead th {\n",
       "        text-align: right;\n",
       "    }\n",
       "</style>\n",
       "<table border=\"1\" class=\"dataframe\">\n",
       "  <thead>\n",
       "    <tr style=\"text-align: right;\">\n",
       "      <th></th>\n",
       "      <th>day_of_jrny</th>\n",
       "      <th>from_area_id</th>\n",
       "      <th>from_lat</th>\n",
       "      <th>from_long</th>\n",
       "      <th>jrny_min</th>\n",
       "      <th>jrny_time</th>\n",
       "      <th>mobile_site_booking</th>\n",
       "      <th>month_of_jrny</th>\n",
       "      <th>online_booking</th>\n",
       "      <th>travel_type_id</th>\n",
       "      <th>user_id</th>\n",
       "      <th>vehicle_model_id</th>\n",
       "      <th>year_of_jrny</th>\n",
       "    </tr>\n",
       "  </thead>\n",
       "  <tbody>\n",
       "    <tr>\n",
       "      <th>0</th>\n",
       "      <td>25</td>\n",
       "      <td>1379.000000</td>\n",
       "      <td>13.062088</td>\n",
       "      <td>77.533286</td>\n",
       "      <td>30</td>\n",
       "      <td>17</td>\n",
       "      <td>0</td>\n",
       "      <td>1</td>\n",
       "      <td>0</td>\n",
       "      <td>2</td>\n",
       "      <td>23090</td>\n",
       "      <td>12</td>\n",
       "      <td>2013</td>\n",
       "    </tr>\n",
       "    <tr>\n",
       "      <th>1</th>\n",
       "      <td>19</td>\n",
       "      <td>1173.000000</td>\n",
       "      <td>12.959979</td>\n",
       "      <td>77.647998</td>\n",
       "      <td>45</td>\n",
       "      <td>6</td>\n",
       "      <td>0</td>\n",
       "      <td>2</td>\n",
       "      <td>1</td>\n",
       "      <td>2</td>\n",
       "      <td>12750</td>\n",
       "      <td>12</td>\n",
       "      <td>2013</td>\n",
       "    </tr>\n",
       "    <tr>\n",
       "      <th>2</th>\n",
       "      <td>23</td>\n",
       "      <td>1383.000000</td>\n",
       "      <td>12.969368</td>\n",
       "      <td>77.641302</td>\n",
       "      <td>45</td>\n",
       "      <td>8</td>\n",
       "      <td>0</td>\n",
       "      <td>4</td>\n",
       "      <td>0</td>\n",
       "      <td>2</td>\n",
       "      <td>29522</td>\n",
       "      <td>12</td>\n",
       "      <td>2013</td>\n",
       "    </tr>\n",
       "    <tr>\n",
       "      <th>3</th>\n",
       "      <td>19</td>\n",
       "      <td>1337.000000</td>\n",
       "      <td>12.975693</td>\n",
       "      <td>77.729096</td>\n",
       "      <td>45</td>\n",
       "      <td>19</td>\n",
       "      <td>0</td>\n",
       "      <td>7</td>\n",
       "      <td>1</td>\n",
       "      <td>2</td>\n",
       "      <td>36997</td>\n",
       "      <td>12</td>\n",
       "      <td>2013</td>\n",
       "    </tr>\n",
       "    <tr>\n",
       "      <th>4</th>\n",
       "      <td>28</td>\n",
       "      <td>396.000000</td>\n",
       "      <td>12.920730</td>\n",
       "      <td>77.664820</td>\n",
       "      <td>45</td>\n",
       "      <td>20</td>\n",
       "      <td>0</td>\n",
       "      <td>4</td>\n",
       "      <td>1</td>\n",
       "      <td>2</td>\n",
       "      <td>29504</td>\n",
       "      <td>12</td>\n",
       "      <td>2013</td>\n",
       "    </tr>\n",
       "    <tr>\n",
       "      <th>...</th>\n",
       "      <td>...</td>\n",
       "      <td>...</td>\n",
       "      <td>...</td>\n",
       "      <td>...</td>\n",
       "      <td>...</td>\n",
       "      <td>...</td>\n",
       "      <td>...</td>\n",
       "      <td>...</td>\n",
       "      <td>...</td>\n",
       "      <td>...</td>\n",
       "      <td>...</td>\n",
       "      <td>...</td>\n",
       "      <td>...</td>\n",
       "    </tr>\n",
       "    <tr>\n",
       "      <th>37041</th>\n",
       "      <td>3</td>\n",
       "      <td>111.553149</td>\n",
       "      <td>12.938700</td>\n",
       "      <td>77.662414</td>\n",
       "      <td>37</td>\n",
       "      <td>18</td>\n",
       "      <td>0</td>\n",
       "      <td>7</td>\n",
       "      <td>1</td>\n",
       "      <td>2</td>\n",
       "      <td>25846</td>\n",
       "      <td>49</td>\n",
       "      <td>2013</td>\n",
       "    </tr>\n",
       "    <tr>\n",
       "      <th>37042</th>\n",
       "      <td>13</td>\n",
       "      <td>1013.511776</td>\n",
       "      <td>12.968166</td>\n",
       "      <td>77.735063</td>\n",
       "      <td>28</td>\n",
       "      <td>19</td>\n",
       "      <td>0</td>\n",
       "      <td>9</td>\n",
       "      <td>0</td>\n",
       "      <td>2</td>\n",
       "      <td>42672</td>\n",
       "      <td>12</td>\n",
       "      <td>2013</td>\n",
       "    </tr>\n",
       "    <tr>\n",
       "      <th>37043</th>\n",
       "      <td>11</td>\n",
       "      <td>1086.934162</td>\n",
       "      <td>12.901058</td>\n",
       "      <td>77.605986</td>\n",
       "      <td>40</td>\n",
       "      <td>17</td>\n",
       "      <td>0</td>\n",
       "      <td>9</td>\n",
       "      <td>1</td>\n",
       "      <td>2</td>\n",
       "      <td>42259</td>\n",
       "      <td>12</td>\n",
       "      <td>2013</td>\n",
       "    </tr>\n",
       "    <tr>\n",
       "      <th>37044</th>\n",
       "      <td>19</td>\n",
       "      <td>127.387149</td>\n",
       "      <td>12.910591</td>\n",
       "      <td>77.631998</td>\n",
       "      <td>2</td>\n",
       "      <td>18</td>\n",
       "      <td>0</td>\n",
       "      <td>5</td>\n",
       "      <td>0</td>\n",
       "      <td>2</td>\n",
       "      <td>31408</td>\n",
       "      <td>12</td>\n",
       "      <td>2013</td>\n",
       "    </tr>\n",
       "    <tr>\n",
       "      <th>37045</th>\n",
       "      <td>5</td>\n",
       "      <td>154.572890</td>\n",
       "      <td>12.993084</td>\n",
       "      <td>77.652447</td>\n",
       "      <td>42</td>\n",
       "      <td>6</td>\n",
       "      <td>0</td>\n",
       "      <td>5</td>\n",
       "      <td>0</td>\n",
       "      <td>2</td>\n",
       "      <td>32379</td>\n",
       "      <td>12</td>\n",
       "      <td>2013</td>\n",
       "    </tr>\n",
       "  </tbody>\n",
       "</table>\n",
       "<p>37046 rows × 13 columns</p>\n",
       "</div>"
      ],
      "text/plain": [
       "       day_of_jrny  from_area_id   from_lat  from_long  jrny_min  jrny_time  \\\n",
       "0               25   1379.000000  13.062088  77.533286        30         17   \n",
       "1               19   1173.000000  12.959979  77.647998        45          6   \n",
       "2               23   1383.000000  12.969368  77.641302        45          8   \n",
       "3               19   1337.000000  12.975693  77.729096        45         19   \n",
       "4               28    396.000000  12.920730  77.664820        45         20   \n",
       "...            ...           ...        ...        ...       ...        ...   \n",
       "37041            3    111.553149  12.938700  77.662414        37         18   \n",
       "37042           13   1013.511776  12.968166  77.735063        28         19   \n",
       "37043           11   1086.934162  12.901058  77.605986        40         17   \n",
       "37044           19    127.387149  12.910591  77.631998         2         18   \n",
       "37045            5    154.572890  12.993084  77.652447        42          6   \n",
       "\n",
       "       mobile_site_booking  month_of_jrny  online_booking  travel_type_id  \\\n",
       "0                        0              1               0               2   \n",
       "1                        0              2               1               2   \n",
       "2                        0              4               0               2   \n",
       "3                        0              7               1               2   \n",
       "4                        0              4               1               2   \n",
       "...                    ...            ...             ...             ...   \n",
       "37041                    0              7               1               2   \n",
       "37042                    0              9               0               2   \n",
       "37043                    0              9               1               2   \n",
       "37044                    0              5               0               2   \n",
       "37045                    0              5               0               2   \n",
       "\n",
       "       user_id  vehicle_model_id  year_of_jrny  \n",
       "0        23090                12          2013  \n",
       "1        12750                12          2013  \n",
       "2        29522                12          2013  \n",
       "3        36997                12          2013  \n",
       "4        29504                12          2013  \n",
       "...        ...               ...           ...  \n",
       "37041    25846                49          2013  \n",
       "37042    42672                12          2013  \n",
       "37043    42259                12          2013  \n",
       "37044    31408                12          2013  \n",
       "37045    32379                12          2013  \n",
       "\n",
       "[37046 rows x 13 columns]"
      ]
     },
     "execution_count": 169,
     "metadata": {},
     "output_type": "execute_result"
    }
   ],
   "source": [
    "x_res"
   ]
  },
  {
   "cell_type": "code",
   "execution_count": 170,
   "id": "b0d0cc93",
   "metadata": {},
   "outputs": [
    {
     "data": {
      "text/plain": [
       "0    18523\n",
       "1     1477\n",
       "Name: Car_Cancellation, dtype: int64"
      ]
     },
     "execution_count": 170,
     "metadata": {},
     "output_type": "execute_result"
    }
   ],
   "source": [
    "y.value_counts()"
   ]
  },
  {
   "cell_type": "code",
   "execution_count": 171,
   "id": "ab0fe1bf",
   "metadata": {},
   "outputs": [
    {
     "data": {
      "text/plain": [
       "1    18523\n",
       "0    18523\n",
       "Name: Car_Cancellation, dtype: int64"
      ]
     },
     "execution_count": 171,
     "metadata": {},
     "output_type": "execute_result"
    }
   ],
   "source": [
    "y_res.value_counts()"
   ]
  },
  {
   "cell_type": "code",
   "execution_count": 172,
   "id": "142ca47a",
   "metadata": {},
   "outputs": [],
   "source": [
    "# RFE\n",
    "from sklearn.feature_selection import RFE\n",
    "from sklearn.ensemble import RandomForestClassifier"
   ]
  },
  {
   "cell_type": "code",
   "execution_count": 173,
   "id": "c163697c",
   "metadata": {},
   "outputs": [
    {
     "data": {
      "text/html": [
       "<div>\n",
       "<style scoped>\n",
       "    .dataframe tbody tr th:only-of-type {\n",
       "        vertical-align: middle;\n",
       "    }\n",
       "\n",
       "    .dataframe tbody tr th {\n",
       "        vertical-align: top;\n",
       "    }\n",
       "\n",
       "    .dataframe thead th {\n",
       "        text-align: right;\n",
       "    }\n",
       "</style>\n",
       "<table border=\"1\" class=\"dataframe\">\n",
       "  <thead>\n",
       "    <tr style=\"text-align: right;\">\n",
       "      <th></th>\n",
       "      <th>day_of_jrny</th>\n",
       "      <th>from_area_id</th>\n",
       "      <th>from_lat</th>\n",
       "      <th>from_long</th>\n",
       "      <th>jrny_min</th>\n",
       "      <th>jrny_time</th>\n",
       "      <th>mobile_site_booking</th>\n",
       "      <th>month_of_jrny</th>\n",
       "      <th>online_booking</th>\n",
       "      <th>travel_type_id</th>\n",
       "      <th>user_id</th>\n",
       "      <th>vehicle_model_id</th>\n",
       "      <th>year_of_jrny</th>\n",
       "    </tr>\n",
       "  </thead>\n",
       "  <tbody>\n",
       "    <tr>\n",
       "      <th>0</th>\n",
       "      <td>25</td>\n",
       "      <td>1379.000000</td>\n",
       "      <td>13.062088</td>\n",
       "      <td>77.533286</td>\n",
       "      <td>30</td>\n",
       "      <td>17</td>\n",
       "      <td>0</td>\n",
       "      <td>1</td>\n",
       "      <td>0</td>\n",
       "      <td>2</td>\n",
       "      <td>23090</td>\n",
       "      <td>12</td>\n",
       "      <td>2013</td>\n",
       "    </tr>\n",
       "    <tr>\n",
       "      <th>1</th>\n",
       "      <td>19</td>\n",
       "      <td>1173.000000</td>\n",
       "      <td>12.959979</td>\n",
       "      <td>77.647998</td>\n",
       "      <td>45</td>\n",
       "      <td>6</td>\n",
       "      <td>0</td>\n",
       "      <td>2</td>\n",
       "      <td>1</td>\n",
       "      <td>2</td>\n",
       "      <td>12750</td>\n",
       "      <td>12</td>\n",
       "      <td>2013</td>\n",
       "    </tr>\n",
       "    <tr>\n",
       "      <th>2</th>\n",
       "      <td>23</td>\n",
       "      <td>1383.000000</td>\n",
       "      <td>12.969368</td>\n",
       "      <td>77.641302</td>\n",
       "      <td>45</td>\n",
       "      <td>8</td>\n",
       "      <td>0</td>\n",
       "      <td>4</td>\n",
       "      <td>0</td>\n",
       "      <td>2</td>\n",
       "      <td>29522</td>\n",
       "      <td>12</td>\n",
       "      <td>2013</td>\n",
       "    </tr>\n",
       "    <tr>\n",
       "      <th>3</th>\n",
       "      <td>19</td>\n",
       "      <td>1337.000000</td>\n",
       "      <td>12.975693</td>\n",
       "      <td>77.729096</td>\n",
       "      <td>45</td>\n",
       "      <td>19</td>\n",
       "      <td>0</td>\n",
       "      <td>7</td>\n",
       "      <td>1</td>\n",
       "      <td>2</td>\n",
       "      <td>36997</td>\n",
       "      <td>12</td>\n",
       "      <td>2013</td>\n",
       "    </tr>\n",
       "    <tr>\n",
       "      <th>4</th>\n",
       "      <td>28</td>\n",
       "      <td>396.000000</td>\n",
       "      <td>12.920730</td>\n",
       "      <td>77.664820</td>\n",
       "      <td>45</td>\n",
       "      <td>20</td>\n",
       "      <td>0</td>\n",
       "      <td>4</td>\n",
       "      <td>1</td>\n",
       "      <td>2</td>\n",
       "      <td>29504</td>\n",
       "      <td>12</td>\n",
       "      <td>2013</td>\n",
       "    </tr>\n",
       "    <tr>\n",
       "      <th>...</th>\n",
       "      <td>...</td>\n",
       "      <td>...</td>\n",
       "      <td>...</td>\n",
       "      <td>...</td>\n",
       "      <td>...</td>\n",
       "      <td>...</td>\n",
       "      <td>...</td>\n",
       "      <td>...</td>\n",
       "      <td>...</td>\n",
       "      <td>...</td>\n",
       "      <td>...</td>\n",
       "      <td>...</td>\n",
       "      <td>...</td>\n",
       "    </tr>\n",
       "    <tr>\n",
       "      <th>37041</th>\n",
       "      <td>3</td>\n",
       "      <td>111.553149</td>\n",
       "      <td>12.938700</td>\n",
       "      <td>77.662414</td>\n",
       "      <td>37</td>\n",
       "      <td>18</td>\n",
       "      <td>0</td>\n",
       "      <td>7</td>\n",
       "      <td>1</td>\n",
       "      <td>2</td>\n",
       "      <td>25846</td>\n",
       "      <td>49</td>\n",
       "      <td>2013</td>\n",
       "    </tr>\n",
       "    <tr>\n",
       "      <th>37042</th>\n",
       "      <td>13</td>\n",
       "      <td>1013.511776</td>\n",
       "      <td>12.968166</td>\n",
       "      <td>77.735063</td>\n",
       "      <td>28</td>\n",
       "      <td>19</td>\n",
       "      <td>0</td>\n",
       "      <td>9</td>\n",
       "      <td>0</td>\n",
       "      <td>2</td>\n",
       "      <td>42672</td>\n",
       "      <td>12</td>\n",
       "      <td>2013</td>\n",
       "    </tr>\n",
       "    <tr>\n",
       "      <th>37043</th>\n",
       "      <td>11</td>\n",
       "      <td>1086.934162</td>\n",
       "      <td>12.901058</td>\n",
       "      <td>77.605986</td>\n",
       "      <td>40</td>\n",
       "      <td>17</td>\n",
       "      <td>0</td>\n",
       "      <td>9</td>\n",
       "      <td>1</td>\n",
       "      <td>2</td>\n",
       "      <td>42259</td>\n",
       "      <td>12</td>\n",
       "      <td>2013</td>\n",
       "    </tr>\n",
       "    <tr>\n",
       "      <th>37044</th>\n",
       "      <td>19</td>\n",
       "      <td>127.387149</td>\n",
       "      <td>12.910591</td>\n",
       "      <td>77.631998</td>\n",
       "      <td>2</td>\n",
       "      <td>18</td>\n",
       "      <td>0</td>\n",
       "      <td>5</td>\n",
       "      <td>0</td>\n",
       "      <td>2</td>\n",
       "      <td>31408</td>\n",
       "      <td>12</td>\n",
       "      <td>2013</td>\n",
       "    </tr>\n",
       "    <tr>\n",
       "      <th>37045</th>\n",
       "      <td>5</td>\n",
       "      <td>154.572890</td>\n",
       "      <td>12.993084</td>\n",
       "      <td>77.652447</td>\n",
       "      <td>42</td>\n",
       "      <td>6</td>\n",
       "      <td>0</td>\n",
       "      <td>5</td>\n",
       "      <td>0</td>\n",
       "      <td>2</td>\n",
       "      <td>32379</td>\n",
       "      <td>12</td>\n",
       "      <td>2013</td>\n",
       "    </tr>\n",
       "  </tbody>\n",
       "</table>\n",
       "<p>37046 rows × 13 columns</p>\n",
       "</div>"
      ],
      "text/plain": [
       "       day_of_jrny  from_area_id   from_lat  from_long  jrny_min  jrny_time  \\\n",
       "0               25   1379.000000  13.062088  77.533286        30         17   \n",
       "1               19   1173.000000  12.959979  77.647998        45          6   \n",
       "2               23   1383.000000  12.969368  77.641302        45          8   \n",
       "3               19   1337.000000  12.975693  77.729096        45         19   \n",
       "4               28    396.000000  12.920730  77.664820        45         20   \n",
       "...            ...           ...        ...        ...       ...        ...   \n",
       "37041            3    111.553149  12.938700  77.662414        37         18   \n",
       "37042           13   1013.511776  12.968166  77.735063        28         19   \n",
       "37043           11   1086.934162  12.901058  77.605986        40         17   \n",
       "37044           19    127.387149  12.910591  77.631998         2         18   \n",
       "37045            5    154.572890  12.993084  77.652447        42          6   \n",
       "\n",
       "       mobile_site_booking  month_of_jrny  online_booking  travel_type_id  \\\n",
       "0                        0              1               0               2   \n",
       "1                        0              2               1               2   \n",
       "2                        0              4               0               2   \n",
       "3                        0              7               1               2   \n",
       "4                        0              4               1               2   \n",
       "...                    ...            ...             ...             ...   \n",
       "37041                    0              7               1               2   \n",
       "37042                    0              9               0               2   \n",
       "37043                    0              9               1               2   \n",
       "37044                    0              5               0               2   \n",
       "37045                    0              5               0               2   \n",
       "\n",
       "       user_id  vehicle_model_id  year_of_jrny  \n",
       "0        23090                12          2013  \n",
       "1        12750                12          2013  \n",
       "2        29522                12          2013  \n",
       "3        36997                12          2013  \n",
       "4        29504                12          2013  \n",
       "...        ...               ...           ...  \n",
       "37041    25846                49          2013  \n",
       "37042    42672                12          2013  \n",
       "37043    42259                12          2013  \n",
       "37044    31408                12          2013  \n",
       "37045    32379                12          2013  \n",
       "\n",
       "[37046 rows x 13 columns]"
      ]
     },
     "execution_count": 173,
     "metadata": {},
     "output_type": "execute_result"
    }
   ],
   "source": [
    "x_res"
   ]
  },
  {
   "cell_type": "code",
   "execution_count": 174,
   "id": "7a0768a7",
   "metadata": {},
   "outputs": [
    {
     "data": {
      "text/plain": [
       "0        1\n",
       "1        0\n",
       "2        0\n",
       "3        1\n",
       "4        1\n",
       "        ..\n",
       "37041    1\n",
       "37042    1\n",
       "37043    1\n",
       "37044    1\n",
       "37045    1\n",
       "Name: Car_Cancellation, Length: 37046, dtype: int64"
      ]
     },
     "execution_count": 174,
     "metadata": {},
     "output_type": "execute_result"
    }
   ],
   "source": [
    "y_res"
   ]
  },
  {
   "cell_type": "code",
   "execution_count": 175,
   "id": "dbc9ae6a",
   "metadata": {},
   "outputs": [],
   "source": [
    "rfe2 = RFE(RandomForestClassifier(), n_features_to_select=10)"
   ]
  },
  {
   "cell_type": "code",
   "execution_count": 176,
   "id": "a4b5e6b0",
   "metadata": {},
   "outputs": [
    {
     "data": {
      "text/plain": [
       "RFE(estimator=RandomForestClassifier(), n_features_to_select=10)"
      ]
     },
     "execution_count": 176,
     "metadata": {},
     "output_type": "execute_result"
    }
   ],
   "source": [
    "rfe2.fit(x_res, y_res)"
   ]
  },
  {
   "cell_type": "code",
   "execution_count": 177,
   "id": "3063ef78",
   "metadata": {},
   "outputs": [],
   "source": [
    "l2_rfe2 = x.columns[rfe2.get_support()]"
   ]
  },
  {
   "cell_type": "code",
   "execution_count": 178,
   "id": "0f4112ac",
   "metadata": {},
   "outputs": [
    {
     "data": {
      "text/plain": [
       "['day_of_jrny',\n",
       " 'from_area_id',\n",
       " 'from_lat',\n",
       " 'from_long',\n",
       " 'jrny_min',\n",
       " 'jrny_time',\n",
       " 'month_of_jrny',\n",
       " 'travel_type_id',\n",
       " 'user_id',\n",
       " 'vehicle_model_id']"
      ]
     },
     "execution_count": 178,
     "metadata": {},
     "output_type": "execute_result"
    }
   ],
   "source": [
    "list(l2_rfe2)"
   ]
  },
  {
   "cell_type": "code",
   "execution_count": 179,
   "id": "e81a5615",
   "metadata": {},
   "outputs": [],
   "source": [
    "# SelectKBest\n",
    "from sklearn.feature_selection import SelectKBest, f_classif"
   ]
  },
  {
   "cell_type": "code",
   "execution_count": 180,
   "id": "71c4f63e",
   "metadata": {},
   "outputs": [
    {
     "name": "stderr",
     "output_type": "stream",
     "text": [
      "C:\\Users\\LingrajRipplr\\anaconda3\\lib\\site-packages\\sklearn\\feature_selection\\_univariate_selection.py:112: UserWarning: Features [12] are constant.\n",
      "  warnings.warn(\"Features %s are constant.\" % constant_features_idx, UserWarning)\n",
      "C:\\Users\\LingrajRipplr\\anaconda3\\lib\\site-packages\\sklearn\\feature_selection\\_univariate_selection.py:113: RuntimeWarning: invalid value encountered in true_divide\n",
      "  f = msb / msw\n"
     ]
    }
   ],
   "source": [
    "SKB2 = SelectKBest(f_classif, k=10).fit(x_res, y_res)"
   ]
  },
  {
   "cell_type": "code",
   "execution_count": 181,
   "id": "8b17e341",
   "metadata": {},
   "outputs": [],
   "source": [
    "l3_SKB2 = x.columns[SKB2.get_support()]"
   ]
  },
  {
   "cell_type": "code",
   "execution_count": 182,
   "id": "8ae73a86",
   "metadata": {
    "scrolled": true
   },
   "outputs": [
    {
     "data": {
      "text/plain": [
       "['day_of_jrny',\n",
       " 'from_lat',\n",
       " 'from_long',\n",
       " 'jrny_time',\n",
       " 'mobile_site_booking',\n",
       " 'month_of_jrny',\n",
       " 'online_booking',\n",
       " 'travel_type_id',\n",
       " 'user_id',\n",
       " 'vehicle_model_id']"
      ]
     },
     "execution_count": 182,
     "metadata": {},
     "output_type": "execute_result"
    }
   ],
   "source": [
    "list(l3_SKB2)"
   ]
  },
  {
   "cell_type": "code",
   "execution_count": 183,
   "id": "d0c83947",
   "metadata": {},
   "outputs": [
    {
     "data": {
      "text/plain": [
       "['from_lat',\n",
       " 'month_of_jrny',\n",
       " 'jrny_min',\n",
       " 'from_area_id',\n",
       " 'jrny_time',\n",
       " 'travel_type_id',\n",
       " 'day_of_jrny',\n",
       " 'user_id',\n",
       " 'vehicle_model_id',\n",
       " 'online_booking',\n",
       " 'mobile_site_booking',\n",
       " 'from_long']"
      ]
     },
     "execution_count": 183,
     "metadata": {},
     "output_type": "execute_result"
    }
   ],
   "source": [
    "list(set(list(l2_rfe2)+list(l3_SKB2)))"
   ]
  },
  {
   "cell_type": "code",
   "execution_count": 184,
   "id": "aa3bda5c",
   "metadata": {},
   "outputs": [],
   "source": [
    "Final_list2 = ['from_lat',\n",
    " 'month_of_jrny',\n",
    " 'jrny_min',\n",
    " 'from_area_id',\n",
    " 'jrny_time',\n",
    " 'travel_type_id',\n",
    " 'day_of_jrny',\n",
    " 'user_id',\n",
    " 'vehicle_model_id',\n",
    " 'online_booking',\n",
    " 'mobile_site_booking',\n",
    " 'from_long']"
   ]
  },
  {
   "cell_type": "code",
   "execution_count": 185,
   "id": "1f1365be",
   "metadata": {},
   "outputs": [],
   "source": [
    "x_res_new = x_res[Final_list2]\n",
    "y_res = y_res"
   ]
  },
  {
   "cell_type": "code",
   "execution_count": 186,
   "id": "32e2d2fb",
   "metadata": {},
   "outputs": [],
   "source": [
    "#vif\n",
    "from statsmodels.stats.outliers_influence import variance_inflation_factor"
   ]
  },
  {
   "cell_type": "code",
   "execution_count": 187,
   "id": "425802f6",
   "metadata": {},
   "outputs": [
    {
     "data": {
      "text/html": [
       "<div>\n",
       "<style scoped>\n",
       "    .dataframe tbody tr th:only-of-type {\n",
       "        vertical-align: middle;\n",
       "    }\n",
       "\n",
       "    .dataframe tbody tr th {\n",
       "        vertical-align: top;\n",
       "    }\n",
       "\n",
       "    .dataframe thead th {\n",
       "        text-align: right;\n",
       "    }\n",
       "</style>\n",
       "<table border=\"1\" class=\"dataframe\">\n",
       "  <thead>\n",
       "    <tr style=\"text-align: right;\">\n",
       "      <th></th>\n",
       "      <th>VIF_Factor</th>\n",
       "      <th>features</th>\n",
       "    </tr>\n",
       "  </thead>\n",
       "  <tbody>\n",
       "    <tr>\n",
       "      <th>11</th>\n",
       "      <td>29542.738634</td>\n",
       "      <td>from_long</td>\n",
       "    </tr>\n",
       "    <tr>\n",
       "      <th>0</th>\n",
       "      <td>29437.238958</td>\n",
       "      <td>from_lat</td>\n",
       "    </tr>\n",
       "    <tr>\n",
       "      <th>5</th>\n",
       "      <td>37.132706</td>\n",
       "      <td>travel_type_id</td>\n",
       "    </tr>\n",
       "    <tr>\n",
       "      <th>7</th>\n",
       "      <td>16.662671</td>\n",
       "      <td>user_id</td>\n",
       "    </tr>\n",
       "    <tr>\n",
       "      <th>1</th>\n",
       "      <td>11.991266</td>\n",
       "      <td>month_of_jrny</td>\n",
       "    </tr>\n",
       "    <tr>\n",
       "      <th>4</th>\n",
       "      <td>6.143756</td>\n",
       "      <td>jrny_time</td>\n",
       "    </tr>\n",
       "    <tr>\n",
       "      <th>6</th>\n",
       "      <td>4.498423</td>\n",
       "      <td>day_of_jrny</td>\n",
       "    </tr>\n",
       "    <tr>\n",
       "      <th>3</th>\n",
       "      <td>3.864909</td>\n",
       "      <td>from_area_id</td>\n",
       "    </tr>\n",
       "    <tr>\n",
       "      <th>2</th>\n",
       "      <td>2.437687</td>\n",
       "      <td>jrny_min</td>\n",
       "    </tr>\n",
       "    <tr>\n",
       "      <th>8</th>\n",
       "      <td>1.971292</td>\n",
       "      <td>vehicle_model_id</td>\n",
       "    </tr>\n",
       "    <tr>\n",
       "      <th>9</th>\n",
       "      <td>1.661340</td>\n",
       "      <td>online_booking</td>\n",
       "    </tr>\n",
       "    <tr>\n",
       "      <th>10</th>\n",
       "      <td>1.058049</td>\n",
       "      <td>mobile_site_booking</td>\n",
       "    </tr>\n",
       "  </tbody>\n",
       "</table>\n",
       "</div>"
      ],
      "text/plain": [
       "      VIF_Factor             features\n",
       "11  29542.738634            from_long\n",
       "0   29437.238958             from_lat\n",
       "5      37.132706       travel_type_id\n",
       "7      16.662671              user_id\n",
       "1      11.991266        month_of_jrny\n",
       "4       6.143756            jrny_time\n",
       "6       4.498423          day_of_jrny\n",
       "3       3.864909         from_area_id\n",
       "2       2.437687             jrny_min\n",
       "8       1.971292     vehicle_model_id\n",
       "9       1.661340       online_booking\n",
       "10      1.058049  mobile_site_booking"
      ]
     },
     "execution_count": 187,
     "metadata": {},
     "output_type": "execute_result"
    }
   ],
   "source": [
    "vif = pd.DataFrame()\n",
    "vif[\"VIF_Factor\"] = [variance_inflation_factor(x_res_new.values, i) for i in range(x_res_new.shape[1])]\n",
    "vif[\"features\"] = x_res_new.columns\n",
    "\n",
    "vif.sort_values(by='VIF_Factor', ascending=False, inplace=True)\n",
    "vif"
   ]
  },
  {
   "cell_type": "code",
   "execution_count": 188,
   "id": "11f42ebf",
   "metadata": {},
   "outputs": [
    {
     "name": "stderr",
     "output_type": "stream",
     "text": [
      "C:\\Users\\LingrajRipplr\\AppData\\Local\\Temp\\ipykernel_8224\\1683019268.py:2: SettingWithCopyWarning: \n",
      "A value is trying to be set on a copy of a slice from a DataFrame\n",
      "\n",
      "See the caveats in the documentation: https://pandas.pydata.org/pandas-docs/stable/user_guide/indexing.html#returning-a-view-versus-a-copy\n",
      "  x_res_new.drop('from_long',axis=1,inplace=True)\n"
     ]
    }
   ],
   "source": [
    "# based on vif will drop variable from_long\n",
    "x_res_new.drop('from_long',axis=1,inplace=True)"
   ]
  },
  {
   "cell_type": "code",
   "execution_count": 189,
   "id": "19ae6baf",
   "metadata": {},
   "outputs": [
    {
     "data": {
      "text/html": [
       "<div>\n",
       "<style scoped>\n",
       "    .dataframe tbody tr th:only-of-type {\n",
       "        vertical-align: middle;\n",
       "    }\n",
       "\n",
       "    .dataframe tbody tr th {\n",
       "        vertical-align: top;\n",
       "    }\n",
       "\n",
       "    .dataframe thead th {\n",
       "        text-align: right;\n",
       "    }\n",
       "</style>\n",
       "<table border=\"1\" class=\"dataframe\">\n",
       "  <thead>\n",
       "    <tr style=\"text-align: right;\">\n",
       "      <th></th>\n",
       "      <th>VIF_Factor</th>\n",
       "      <th>features</th>\n",
       "    </tr>\n",
       "  </thead>\n",
       "  <tbody>\n",
       "    <tr>\n",
       "      <th>0</th>\n",
       "      <td>63.127301</td>\n",
       "      <td>from_lat</td>\n",
       "    </tr>\n",
       "    <tr>\n",
       "      <th>5</th>\n",
       "      <td>36.872382</td>\n",
       "      <td>travel_type_id</td>\n",
       "    </tr>\n",
       "    <tr>\n",
       "      <th>7</th>\n",
       "      <td>16.662616</td>\n",
       "      <td>user_id</td>\n",
       "    </tr>\n",
       "    <tr>\n",
       "      <th>1</th>\n",
       "      <td>11.990706</td>\n",
       "      <td>month_of_jrny</td>\n",
       "    </tr>\n",
       "    <tr>\n",
       "      <th>4</th>\n",
       "      <td>6.141022</td>\n",
       "      <td>jrny_time</td>\n",
       "    </tr>\n",
       "    <tr>\n",
       "      <th>6</th>\n",
       "      <td>4.497996</td>\n",
       "      <td>day_of_jrny</td>\n",
       "    </tr>\n",
       "    <tr>\n",
       "      <th>3</th>\n",
       "      <td>3.840214</td>\n",
       "      <td>from_area_id</td>\n",
       "    </tr>\n",
       "    <tr>\n",
       "      <th>2</th>\n",
       "      <td>2.436435</td>\n",
       "      <td>jrny_min</td>\n",
       "    </tr>\n",
       "    <tr>\n",
       "      <th>8</th>\n",
       "      <td>1.967784</td>\n",
       "      <td>vehicle_model_id</td>\n",
       "    </tr>\n",
       "    <tr>\n",
       "      <th>9</th>\n",
       "      <td>1.660798</td>\n",
       "      <td>online_booking</td>\n",
       "    </tr>\n",
       "    <tr>\n",
       "      <th>10</th>\n",
       "      <td>1.055706</td>\n",
       "      <td>mobile_site_booking</td>\n",
       "    </tr>\n",
       "  </tbody>\n",
       "</table>\n",
       "</div>"
      ],
      "text/plain": [
       "    VIF_Factor             features\n",
       "0    63.127301             from_lat\n",
       "5    36.872382       travel_type_id\n",
       "7    16.662616              user_id\n",
       "1    11.990706        month_of_jrny\n",
       "4     6.141022            jrny_time\n",
       "6     4.497996          day_of_jrny\n",
       "3     3.840214         from_area_id\n",
       "2     2.436435             jrny_min\n",
       "8     1.967784     vehicle_model_id\n",
       "9     1.660798       online_booking\n",
       "10    1.055706  mobile_site_booking"
      ]
     },
     "execution_count": 189,
     "metadata": {},
     "output_type": "execute_result"
    }
   ],
   "source": [
    "vif = pd.DataFrame()\n",
    "vif[\"VIF_Factor\"] = [variance_inflation_factor(x_res_new.values, i) for i in range(x_res_new.shape[1])]\n",
    "vif[\"features\"] = x_res_new.columns\n",
    "\n",
    "vif.sort_values(by='VIF_Factor', ascending=False, inplace=True)\n",
    "vif"
   ]
  },
  {
   "cell_type": "code",
   "execution_count": 190,
   "id": "3515f77e",
   "metadata": {},
   "outputs": [
    {
     "name": "stderr",
     "output_type": "stream",
     "text": [
      "C:\\Users\\LingrajRipplr\\AppData\\Local\\Temp\\ipykernel_8224\\1633652438.py:2: SettingWithCopyWarning: \n",
      "A value is trying to be set on a copy of a slice from a DataFrame\n",
      "\n",
      "See the caveats in the documentation: https://pandas.pydata.org/pandas-docs/stable/user_guide/indexing.html#returning-a-view-versus-a-copy\n",
      "  x_res_new.drop('from_lat',axis=1,inplace=True)\n"
     ]
    }
   ],
   "source": [
    "# based on vif will drop variable from_lat\n",
    "x_res_new.drop('from_lat',axis=1,inplace=True)"
   ]
  },
  {
   "cell_type": "code",
   "execution_count": 191,
   "id": "f1eaf342",
   "metadata": {},
   "outputs": [
    {
     "data": {
      "text/html": [
       "<div>\n",
       "<style scoped>\n",
       "    .dataframe tbody tr th:only-of-type {\n",
       "        vertical-align: middle;\n",
       "    }\n",
       "\n",
       "    .dataframe tbody tr th {\n",
       "        vertical-align: top;\n",
       "    }\n",
       "\n",
       "    .dataframe thead th {\n",
       "        text-align: right;\n",
       "    }\n",
       "</style>\n",
       "<table border=\"1\" class=\"dataframe\">\n",
       "  <thead>\n",
       "    <tr style=\"text-align: right;\">\n",
       "      <th></th>\n",
       "      <th>VIF_Factor</th>\n",
       "      <th>features</th>\n",
       "    </tr>\n",
       "  </thead>\n",
       "  <tbody>\n",
       "    <tr>\n",
       "      <th>6</th>\n",
       "      <td>15.723203</td>\n",
       "      <td>user_id</td>\n",
       "    </tr>\n",
       "    <tr>\n",
       "      <th>4</th>\n",
       "      <td>14.218704</td>\n",
       "      <td>travel_type_id</td>\n",
       "    </tr>\n",
       "    <tr>\n",
       "      <th>0</th>\n",
       "      <td>11.801922</td>\n",
       "      <td>month_of_jrny</td>\n",
       "    </tr>\n",
       "    <tr>\n",
       "      <th>3</th>\n",
       "      <td>5.575689</td>\n",
       "      <td>jrny_time</td>\n",
       "    </tr>\n",
       "    <tr>\n",
       "      <th>5</th>\n",
       "      <td>4.312160</td>\n",
       "      <td>day_of_jrny</td>\n",
       "    </tr>\n",
       "    <tr>\n",
       "      <th>2</th>\n",
       "      <td>3.683688</td>\n",
       "      <td>from_area_id</td>\n",
       "    </tr>\n",
       "    <tr>\n",
       "      <th>1</th>\n",
       "      <td>2.368817</td>\n",
       "      <td>jrny_min</td>\n",
       "    </tr>\n",
       "    <tr>\n",
       "      <th>7</th>\n",
       "      <td>1.942873</td>\n",
       "      <td>vehicle_model_id</td>\n",
       "    </tr>\n",
       "    <tr>\n",
       "      <th>8</th>\n",
       "      <td>1.644962</td>\n",
       "      <td>online_booking</td>\n",
       "    </tr>\n",
       "    <tr>\n",
       "      <th>9</th>\n",
       "      <td>1.053768</td>\n",
       "      <td>mobile_site_booking</td>\n",
       "    </tr>\n",
       "  </tbody>\n",
       "</table>\n",
       "</div>"
      ],
      "text/plain": [
       "   VIF_Factor             features\n",
       "6   15.723203              user_id\n",
       "4   14.218704       travel_type_id\n",
       "0   11.801922        month_of_jrny\n",
       "3    5.575689            jrny_time\n",
       "5    4.312160          day_of_jrny\n",
       "2    3.683688         from_area_id\n",
       "1    2.368817             jrny_min\n",
       "7    1.942873     vehicle_model_id\n",
       "8    1.644962       online_booking\n",
       "9    1.053768  mobile_site_booking"
      ]
     },
     "execution_count": 191,
     "metadata": {},
     "output_type": "execute_result"
    }
   ],
   "source": [
    "vif = pd.DataFrame()\n",
    "vif[\"VIF_Factor\"] = [variance_inflation_factor(x_res_new.values, i) for i in range(x_res_new.shape[1])]\n",
    "vif[\"features\"] = x_res_new.columns\n",
    "\n",
    "vif.sort_values(by='VIF_Factor', ascending=False, inplace=True)\n",
    "vif"
   ]
  },
  {
   "cell_type": "code",
   "execution_count": 192,
   "id": "31f8635b",
   "metadata": {},
   "outputs": [
    {
     "name": "stderr",
     "output_type": "stream",
     "text": [
      "C:\\Users\\LingrajRipplr\\AppData\\Local\\Temp\\ipykernel_8224\\1977441281.py:2: SettingWithCopyWarning: \n",
      "A value is trying to be set on a copy of a slice from a DataFrame\n",
      "\n",
      "See the caveats in the documentation: https://pandas.pydata.org/pandas-docs/stable/user_guide/indexing.html#returning-a-view-versus-a-copy\n",
      "  x_res_new.drop('user_id',axis=1,inplace=True)\n"
     ]
    }
   ],
   "source": [
    "# based on vif will drop variable user_id\n",
    "x_res_new.drop('user_id',axis=1,inplace=True)"
   ]
  },
  {
   "cell_type": "code",
   "execution_count": 193,
   "id": "92032b2d",
   "metadata": {},
   "outputs": [
    {
     "data": {
      "text/html": [
       "<div>\n",
       "<style scoped>\n",
       "    .dataframe tbody tr th:only-of-type {\n",
       "        vertical-align: middle;\n",
       "    }\n",
       "\n",
       "    .dataframe tbody tr th {\n",
       "        vertical-align: top;\n",
       "    }\n",
       "\n",
       "    .dataframe thead th {\n",
       "        text-align: right;\n",
       "    }\n",
       "</style>\n",
       "<table border=\"1\" class=\"dataframe\">\n",
       "  <thead>\n",
       "    <tr style=\"text-align: right;\">\n",
       "      <th></th>\n",
       "      <th>VIF_Factor</th>\n",
       "      <th>features</th>\n",
       "    </tr>\n",
       "  </thead>\n",
       "  <tbody>\n",
       "    <tr>\n",
       "      <th>4</th>\n",
       "      <td>13.431092</td>\n",
       "      <td>travel_type_id</td>\n",
       "    </tr>\n",
       "    <tr>\n",
       "      <th>0</th>\n",
       "      <td>6.565888</td>\n",
       "      <td>month_of_jrny</td>\n",
       "    </tr>\n",
       "    <tr>\n",
       "      <th>3</th>\n",
       "      <td>5.542582</td>\n",
       "      <td>jrny_time</td>\n",
       "    </tr>\n",
       "    <tr>\n",
       "      <th>5</th>\n",
       "      <td>4.197759</td>\n",
       "      <td>day_of_jrny</td>\n",
       "    </tr>\n",
       "    <tr>\n",
       "      <th>2</th>\n",
       "      <td>3.676030</td>\n",
       "      <td>from_area_id</td>\n",
       "    </tr>\n",
       "    <tr>\n",
       "      <th>1</th>\n",
       "      <td>2.366037</td>\n",
       "      <td>jrny_min</td>\n",
       "    </tr>\n",
       "    <tr>\n",
       "      <th>6</th>\n",
       "      <td>1.934120</td>\n",
       "      <td>vehicle_model_id</td>\n",
       "    </tr>\n",
       "    <tr>\n",
       "      <th>7</th>\n",
       "      <td>1.624111</td>\n",
       "      <td>online_booking</td>\n",
       "    </tr>\n",
       "    <tr>\n",
       "      <th>8</th>\n",
       "      <td>1.053653</td>\n",
       "      <td>mobile_site_booking</td>\n",
       "    </tr>\n",
       "  </tbody>\n",
       "</table>\n",
       "</div>"
      ],
      "text/plain": [
       "   VIF_Factor             features\n",
       "4   13.431092       travel_type_id\n",
       "0    6.565888        month_of_jrny\n",
       "3    5.542582            jrny_time\n",
       "5    4.197759          day_of_jrny\n",
       "2    3.676030         from_area_id\n",
       "1    2.366037             jrny_min\n",
       "6    1.934120     vehicle_model_id\n",
       "7    1.624111       online_booking\n",
       "8    1.053653  mobile_site_booking"
      ]
     },
     "execution_count": 193,
     "metadata": {},
     "output_type": "execute_result"
    }
   ],
   "source": [
    "vif = pd.DataFrame()\n",
    "vif[\"VIF_Factor\"] = [variance_inflation_factor(x_res_new.values, i) for i in range(x_res_new.shape[1])]\n",
    "vif[\"features\"] = x_res_new.columns\n",
    "\n",
    "vif.sort_values(by='VIF_Factor', ascending=False, inplace=True)\n",
    "vif"
   ]
  },
  {
   "cell_type": "code",
   "execution_count": 194,
   "id": "59159631",
   "metadata": {},
   "outputs": [
    {
     "name": "stderr",
     "output_type": "stream",
     "text": [
      "C:\\Users\\LingrajRipplr\\AppData\\Local\\Temp\\ipykernel_8224\\2266808723.py:2: SettingWithCopyWarning: \n",
      "A value is trying to be set on a copy of a slice from a DataFrame\n",
      "\n",
      "See the caveats in the documentation: https://pandas.pydata.org/pandas-docs/stable/user_guide/indexing.html#returning-a-view-versus-a-copy\n",
      "  x_res_new.drop('travel_type_id',axis=1,inplace=True)\n"
     ]
    }
   ],
   "source": [
    "# based on vif will drop variable travel_type_id\n",
    "x_res_new.drop('travel_type_id',axis=1,inplace=True)"
   ]
  },
  {
   "cell_type": "code",
   "execution_count": 195,
   "id": "dc460ded",
   "metadata": {},
   "outputs": [
    {
     "data": {
      "text/html": [
       "<div>\n",
       "<style scoped>\n",
       "    .dataframe tbody tr th:only-of-type {\n",
       "        vertical-align: middle;\n",
       "    }\n",
       "\n",
       "    .dataframe tbody tr th {\n",
       "        vertical-align: top;\n",
       "    }\n",
       "\n",
       "    .dataframe thead th {\n",
       "        text-align: right;\n",
       "    }\n",
       "</style>\n",
       "<table border=\"1\" class=\"dataframe\">\n",
       "  <thead>\n",
       "    <tr style=\"text-align: right;\">\n",
       "      <th></th>\n",
       "      <th>VIF_Factor</th>\n",
       "      <th>features</th>\n",
       "    </tr>\n",
       "  </thead>\n",
       "  <tbody>\n",
       "    <tr>\n",
       "      <th>0</th>\n",
       "      <td>5.397324</td>\n",
       "      <td>month_of_jrny</td>\n",
       "    </tr>\n",
       "    <tr>\n",
       "      <th>3</th>\n",
       "      <td>4.632938</td>\n",
       "      <td>jrny_time</td>\n",
       "    </tr>\n",
       "    <tr>\n",
       "      <th>4</th>\n",
       "      <td>3.711615</td>\n",
       "      <td>day_of_jrny</td>\n",
       "    </tr>\n",
       "    <tr>\n",
       "      <th>2</th>\n",
       "      <td>3.347027</td>\n",
       "      <td>from_area_id</td>\n",
       "    </tr>\n",
       "    <tr>\n",
       "      <th>1</th>\n",
       "      <td>2.257543</td>\n",
       "      <td>jrny_min</td>\n",
       "    </tr>\n",
       "    <tr>\n",
       "      <th>5</th>\n",
       "      <td>1.881630</td>\n",
       "      <td>vehicle_model_id</td>\n",
       "    </tr>\n",
       "    <tr>\n",
       "      <th>6</th>\n",
       "      <td>1.619108</td>\n",
       "      <td>online_booking</td>\n",
       "    </tr>\n",
       "    <tr>\n",
       "      <th>7</th>\n",
       "      <td>1.053187</td>\n",
       "      <td>mobile_site_booking</td>\n",
       "    </tr>\n",
       "  </tbody>\n",
       "</table>\n",
       "</div>"
      ],
      "text/plain": [
       "   VIF_Factor             features\n",
       "0    5.397324        month_of_jrny\n",
       "3    4.632938            jrny_time\n",
       "4    3.711615          day_of_jrny\n",
       "2    3.347027         from_area_id\n",
       "1    2.257543             jrny_min\n",
       "5    1.881630     vehicle_model_id\n",
       "6    1.619108       online_booking\n",
       "7    1.053187  mobile_site_booking"
      ]
     },
     "execution_count": 195,
     "metadata": {},
     "output_type": "execute_result"
    }
   ],
   "source": [
    "vif = pd.DataFrame()\n",
    "vif[\"VIF_Factor\"] = [variance_inflation_factor(x_res_new.values, i) for i in range(x_res_new.shape[1])]\n",
    "vif[\"features\"] = x_res_new.columns\n",
    "\n",
    "vif.sort_values(by='VIF_Factor', ascending=False, inplace=True)\n",
    "vif"
   ]
  },
  {
   "cell_type": "code",
   "execution_count": 196,
   "id": "4cf9e393",
   "metadata": {},
   "outputs": [],
   "source": [
    "new_data2 = pd.concat([x_res_new, y_res], axis=1)"
   ]
  },
  {
   "cell_type": "code",
   "execution_count": 197,
   "id": "f1ae4232",
   "metadata": {},
   "outputs": [
    {
     "data": {
      "text/html": [
       "<div>\n",
       "<style scoped>\n",
       "    .dataframe tbody tr th:only-of-type {\n",
       "        vertical-align: middle;\n",
       "    }\n",
       "\n",
       "    .dataframe tbody tr th {\n",
       "        vertical-align: top;\n",
       "    }\n",
       "\n",
       "    .dataframe thead th {\n",
       "        text-align: right;\n",
       "    }\n",
       "</style>\n",
       "<table border=\"1\" class=\"dataframe\">\n",
       "  <thead>\n",
       "    <tr style=\"text-align: right;\">\n",
       "      <th></th>\n",
       "      <th>month_of_jrny</th>\n",
       "      <th>jrny_min</th>\n",
       "      <th>from_area_id</th>\n",
       "      <th>jrny_time</th>\n",
       "      <th>day_of_jrny</th>\n",
       "      <th>vehicle_model_id</th>\n",
       "      <th>online_booking</th>\n",
       "      <th>mobile_site_booking</th>\n",
       "      <th>Car_Cancellation</th>\n",
       "    </tr>\n",
       "  </thead>\n",
       "  <tbody>\n",
       "    <tr>\n",
       "      <th>0</th>\n",
       "      <td>1</td>\n",
       "      <td>30</td>\n",
       "      <td>1379.000000</td>\n",
       "      <td>17</td>\n",
       "      <td>25</td>\n",
       "      <td>12</td>\n",
       "      <td>0</td>\n",
       "      <td>0</td>\n",
       "      <td>1</td>\n",
       "    </tr>\n",
       "    <tr>\n",
       "      <th>1</th>\n",
       "      <td>2</td>\n",
       "      <td>45</td>\n",
       "      <td>1173.000000</td>\n",
       "      <td>6</td>\n",
       "      <td>19</td>\n",
       "      <td>12</td>\n",
       "      <td>1</td>\n",
       "      <td>0</td>\n",
       "      <td>0</td>\n",
       "    </tr>\n",
       "    <tr>\n",
       "      <th>2</th>\n",
       "      <td>4</td>\n",
       "      <td>45</td>\n",
       "      <td>1383.000000</td>\n",
       "      <td>8</td>\n",
       "      <td>23</td>\n",
       "      <td>12</td>\n",
       "      <td>0</td>\n",
       "      <td>0</td>\n",
       "      <td>0</td>\n",
       "    </tr>\n",
       "    <tr>\n",
       "      <th>3</th>\n",
       "      <td>7</td>\n",
       "      <td>45</td>\n",
       "      <td>1337.000000</td>\n",
       "      <td>19</td>\n",
       "      <td>19</td>\n",
       "      <td>12</td>\n",
       "      <td>1</td>\n",
       "      <td>0</td>\n",
       "      <td>1</td>\n",
       "    </tr>\n",
       "    <tr>\n",
       "      <th>4</th>\n",
       "      <td>4</td>\n",
       "      <td>45</td>\n",
       "      <td>396.000000</td>\n",
       "      <td>20</td>\n",
       "      <td>28</td>\n",
       "      <td>12</td>\n",
       "      <td>1</td>\n",
       "      <td>0</td>\n",
       "      <td>1</td>\n",
       "    </tr>\n",
       "    <tr>\n",
       "      <th>...</th>\n",
       "      <td>...</td>\n",
       "      <td>...</td>\n",
       "      <td>...</td>\n",
       "      <td>...</td>\n",
       "      <td>...</td>\n",
       "      <td>...</td>\n",
       "      <td>...</td>\n",
       "      <td>...</td>\n",
       "      <td>...</td>\n",
       "    </tr>\n",
       "    <tr>\n",
       "      <th>37041</th>\n",
       "      <td>7</td>\n",
       "      <td>37</td>\n",
       "      <td>111.553149</td>\n",
       "      <td>18</td>\n",
       "      <td>3</td>\n",
       "      <td>49</td>\n",
       "      <td>1</td>\n",
       "      <td>0</td>\n",
       "      <td>1</td>\n",
       "    </tr>\n",
       "    <tr>\n",
       "      <th>37042</th>\n",
       "      <td>9</td>\n",
       "      <td>28</td>\n",
       "      <td>1013.511776</td>\n",
       "      <td>19</td>\n",
       "      <td>13</td>\n",
       "      <td>12</td>\n",
       "      <td>0</td>\n",
       "      <td>0</td>\n",
       "      <td>1</td>\n",
       "    </tr>\n",
       "    <tr>\n",
       "      <th>37043</th>\n",
       "      <td>9</td>\n",
       "      <td>40</td>\n",
       "      <td>1086.934162</td>\n",
       "      <td>17</td>\n",
       "      <td>11</td>\n",
       "      <td>12</td>\n",
       "      <td>1</td>\n",
       "      <td>0</td>\n",
       "      <td>1</td>\n",
       "    </tr>\n",
       "    <tr>\n",
       "      <th>37044</th>\n",
       "      <td>5</td>\n",
       "      <td>2</td>\n",
       "      <td>127.387149</td>\n",
       "      <td>18</td>\n",
       "      <td>19</td>\n",
       "      <td>12</td>\n",
       "      <td>0</td>\n",
       "      <td>0</td>\n",
       "      <td>1</td>\n",
       "    </tr>\n",
       "    <tr>\n",
       "      <th>37045</th>\n",
       "      <td>5</td>\n",
       "      <td>42</td>\n",
       "      <td>154.572890</td>\n",
       "      <td>6</td>\n",
       "      <td>5</td>\n",
       "      <td>12</td>\n",
       "      <td>0</td>\n",
       "      <td>0</td>\n",
       "      <td>1</td>\n",
       "    </tr>\n",
       "  </tbody>\n",
       "</table>\n",
       "<p>37046 rows × 9 columns</p>\n",
       "</div>"
      ],
      "text/plain": [
       "       month_of_jrny  jrny_min  from_area_id  jrny_time  day_of_jrny  \\\n",
       "0                  1        30   1379.000000         17           25   \n",
       "1                  2        45   1173.000000          6           19   \n",
       "2                  4        45   1383.000000          8           23   \n",
       "3                  7        45   1337.000000         19           19   \n",
       "4                  4        45    396.000000         20           28   \n",
       "...              ...       ...           ...        ...          ...   \n",
       "37041              7        37    111.553149         18            3   \n",
       "37042              9        28   1013.511776         19           13   \n",
       "37043              9        40   1086.934162         17           11   \n",
       "37044              5         2    127.387149         18           19   \n",
       "37045              5        42    154.572890          6            5   \n",
       "\n",
       "       vehicle_model_id  online_booking  mobile_site_booking  Car_Cancellation  \n",
       "0                    12               0                    0                 1  \n",
       "1                    12               1                    0                 0  \n",
       "2                    12               0                    0                 0  \n",
       "3                    12               1                    0                 1  \n",
       "4                    12               1                    0                 1  \n",
       "...                 ...             ...                  ...               ...  \n",
       "37041                49               1                    0                 1  \n",
       "37042                12               0                    0                 1  \n",
       "37043                12               1                    0                 1  \n",
       "37044                12               0                    0                 1  \n",
       "37045                12               0                    0                 1  \n",
       "\n",
       "[37046 rows x 9 columns]"
      ]
     },
     "execution_count": 197,
     "metadata": {},
     "output_type": "execute_result"
    }
   ],
   "source": [
    "new_data2"
   ]
  },
  {
   "cell_type": "code",
   "execution_count": 198,
   "id": "39460dfb",
   "metadata": {},
   "outputs": [],
   "source": [
    "# train test split\n",
    "from sklearn.model_selection import train_test_split"
   ]
  },
  {
   "cell_type": "code",
   "execution_count": 199,
   "id": "e5bfd8a1",
   "metadata": {},
   "outputs": [],
   "source": [
    "train, test = train_test_split(new_data2, test_size=0.3, random_state=123)"
   ]
  },
  {
   "cell_type": "code",
   "execution_count": 200,
   "id": "cec065a4",
   "metadata": {},
   "outputs": [
    {
     "data": {
      "text/plain": [
       "(25932, 9)"
      ]
     },
     "execution_count": 200,
     "metadata": {},
     "output_type": "execute_result"
    }
   ],
   "source": [
    "train.shape"
   ]
  },
  {
   "cell_type": "code",
   "execution_count": 201,
   "id": "dbe1de08",
   "metadata": {},
   "outputs": [
    {
     "data": {
      "text/plain": [
       "(11114, 9)"
      ]
     },
     "execution_count": 201,
     "metadata": {},
     "output_type": "execute_result"
    }
   ],
   "source": [
    "test.shape"
   ]
  },
  {
   "cell_type": "code",
   "execution_count": 202,
   "id": "19178100",
   "metadata": {},
   "outputs": [],
   "source": [
    "# model building\n",
    "import statsmodels.formula.api as smf"
   ]
  },
  {
   "cell_type": "code",
   "execution_count": 203,
   "id": "05c36110",
   "metadata": {},
   "outputs": [
    {
     "data": {
      "text/plain": [
       "'Car_Cancellation~day_of_jrny+from_area_id+jrny_min+jrny_time+mobile_site_booking+month_of_jrny+online_booking+vehicle_model_id'"
      ]
     },
     "execution_count": 203,
     "metadata": {},
     "output_type": "execute_result"
    }
   ],
   "source": [
    "eqn2 = 'Car_Cancellation~'+'+'.join(train.columns.difference(['Car_Cancellation']))\n",
    "eqn2"
   ]
  },
  {
   "cell_type": "code",
   "execution_count": 204,
   "id": "126f22fc",
   "metadata": {},
   "outputs": [
    {
     "name": "stdout",
     "output_type": "stream",
     "text": [
      "Optimization terminated successfully.\n",
      "         Current function value: 0.627938\n",
      "         Iterations 5\n",
      "                           Logit Regression Results                           \n",
      "==============================================================================\n",
      "Dep. Variable:       Car_Cancellation   No. Observations:                25932\n",
      "Model:                          Logit   Df Residuals:                    25923\n",
      "Method:                           MLE   Df Model:                            8\n",
      "Date:                Fri, 14 Apr 2023   Pseudo R-squ.:                 0.09400\n",
      "Time:                        19:32:33   Log-Likelihood:                -16284.\n",
      "converged:                       True   LL-Null:                       -17973.\n",
      "Covariance Type:            nonrobust   LLR p-value:                     0.000\n",
      "=======================================================================================\n",
      "                          coef    std err          z      P>|z|      [0.025      0.975]\n",
      "---------------------------------------------------------------------------------------\n",
      "Intercept              -2.1704      0.065    -33.631      0.000      -2.297      -2.044\n",
      "day_of_jrny            -0.0107      0.002     -6.617      0.000      -0.014      -0.008\n",
      "from_area_id         4.671e-05   3.11e-05      1.502      0.133   -1.42e-05       0.000\n",
      "jrny_min                0.0008      0.001      0.974      0.330      -0.001       0.003\n",
      "jrny_time               0.0725      0.002     30.189      0.000       0.068       0.077\n",
      "mobile_site_booking    -0.8131      0.081    -10.009      0.000      -0.972      -0.654\n",
      "month_of_jrny           0.2092      0.005     42.063      0.000       0.199       0.219\n",
      "online_booking          0.2608      0.028      9.385      0.000       0.206       0.315\n",
      "vehicle_model_id       -0.0102      0.001    -18.262      0.000      -0.011      -0.009\n",
      "=======================================================================================\n"
     ]
    }
   ],
   "source": [
    "model_logit2 = smf.logit(eqn2, data=train).fit()\n",
    "print(model_logit2.summary())"
   ]
  },
  {
   "cell_type": "code",
   "execution_count": 205,
   "id": "ee6fb68a",
   "metadata": {},
   "outputs": [],
   "source": [
    "train_prob = model_logit2.predict(train)"
   ]
  },
  {
   "cell_type": "code",
   "execution_count": 206,
   "id": "83d3c0c8",
   "metadata": {},
   "outputs": [],
   "source": [
    "test_prob = model_logit2.predict(test)"
   ]
  },
  {
   "cell_type": "code",
   "execution_count": 207,
   "id": "031f6869",
   "metadata": {},
   "outputs": [],
   "source": [
    "# metrics\n",
    "from sklearn import metrics"
   ]
  },
  {
   "cell_type": "code",
   "execution_count": 208,
   "id": "b0fff117",
   "metadata": {},
   "outputs": [
    {
     "name": "stdout",
     "output_type": "stream",
     "text": [
      "train_auc 0.6983366476345318\n",
      "test_auc 0.6856175208280082\n",
      "---------------------------------------------------------------\n",
      "train_gini 0.3966732952690637\n",
      "test_gini 0.3712350416560164\n"
     ]
    }
   ],
   "source": [
    "print('train_auc', metrics.roc_auc_score(train.Car_Cancellation, train_prob))\n",
    "print('test_auc', metrics.roc_auc_score(test.Car_Cancellation, test_prob))\n",
    "print('---------------------------------------------------------------')\n",
    "print('train_gini', 2*metrics.roc_auc_score(train.Car_Cancellation, train_prob)-1)\n",
    "print('test_gini', 2*metrics.roc_auc_score(test.Car_Cancellation, test_prob)-1)"
   ]
  },
  {
   "cell_type": "code",
   "execution_count": 209,
   "id": "875a8ca7",
   "metadata": {},
   "outputs": [],
   "source": [
    "train['pred_prob'] = train_prob\n",
    "test['pred_prob'] = test_prob"
   ]
  },
  {
   "cell_type": "code",
   "execution_count": 210,
   "id": "f717459d",
   "metadata": {},
   "outputs": [],
   "source": [
    "# finding best cutoff \n",
    "# Getting highest sensitivity+specificity"
   ]
  },
  {
   "cell_type": "code",
   "execution_count": 211,
   "id": "4384aeee",
   "metadata": {},
   "outputs": [],
   "source": [
    "roc_df = pd.DataFrame()\n",
    "for cut_off in np.linspace(0,1):\n",
    "    #roc_df_temp['cut_off'] = cut_off\n",
    "    train['y_pred'] = np.where(train.pred_prob>cut_off, 1, 0)\n",
    "    train['TP'] = np.where(((train.Car_Cancellation ==1) & (train.y_pred==1)), 1, 0)\n",
    "    train['TN'] = np.where(((train.Car_Cancellation ==0) & (train.y_pred==0)), 1, 0)\n",
    "    train['FP'] = np.where(((train.Car_Cancellation ==0) & (train.y_pred==1)), 1, 0)\n",
    "    train['FN'] = np.where(((train.Car_Cancellation ==1) & (train.y_pred==0)), 1, 0)\n",
    "    sensitivity = train.TP.sum()/train.Car_Cancellation.sum()\n",
    "    specificity = train.TN.sum()/(1-train.Car_Cancellation).sum()\n",
    "    accuracy = (train.TN.sum()+train.TP.sum())/train.Car_Cancellation.count()\n",
    "    roc_like_table = pd.DataFrame([cut_off, sensitivity, specificity, accuracy]).T\n",
    "    roc_like_table.columns = ['cutoff', 'sensitivity', 'specificity', 'accuracy']\n",
    "    roc_df = pd.concat([roc_df, roc_like_table], axis=0)"
   ]
  },
  {
   "cell_type": "code",
   "execution_count": 212,
   "id": "0955cbd2",
   "metadata": {},
   "outputs": [],
   "source": [
    "roc_df['Total'] = roc_df.sensitivity+roc_df.specificity"
   ]
  },
  {
   "cell_type": "code",
   "execution_count": 213,
   "id": "f15b1419",
   "metadata": {},
   "outputs": [
    {
     "name": "stdout",
     "output_type": "stream",
     "text": [
      "Best_cutoff:  0.4693877551020408\n"
     ]
    }
   ],
   "source": [
    "best_cutoff = roc_df.sort_values(by='Total', ascending=False).head(1).cutoff[0]\n",
    "print('Best_cutoff: ', best_cutoff)"
   ]
  },
  {
   "cell_type": "code",
   "execution_count": 214,
   "id": "69516dd4",
   "metadata": {},
   "outputs": [],
   "source": [
    "train['y_pred'] = np.where(train.pred_prob>best_cutoff, 1,0)"
   ]
  },
  {
   "cell_type": "code",
   "execution_count": 215,
   "id": "cdb63f6b",
   "metadata": {},
   "outputs": [],
   "source": [
    "test['y_pred'] = np.where(test.pred_prob>best_cutoff, 1,0)"
   ]
  },
  {
   "cell_type": "code",
   "execution_count": 216,
   "id": "7f127755",
   "metadata": {},
   "outputs": [],
   "source": [
    "# roc_auc_scores"
   ]
  },
  {
   "cell_type": "code",
   "execution_count": 218,
   "id": "d6235280",
   "metadata": {},
   "outputs": [
    {
     "name": "stdout",
     "output_type": "stream",
     "text": [
      "train_roc_auc_score : 0.6983366476345318\n",
      "test_roc_auc_score : 0.6856175208280082\n"
     ]
    }
   ],
   "source": [
    "print('train_roc_auc_score :', metrics.roc_auc_score(train.Car_Cancellation, pd.DataFrame(train_prob)))\n",
    "print('test_roc_auc_score :', metrics.roc_auc_score(test.Car_Cancellation, pd.DataFrame(test_prob)))"
   ]
  },
  {
   "cell_type": "code",
   "execution_count": 219,
   "id": "7d2d75aa",
   "metadata": {},
   "outputs": [],
   "source": [
    "# accuracy scores"
   ]
  },
  {
   "cell_type": "code",
   "execution_count": 220,
   "id": "54094e0a",
   "metadata": {},
   "outputs": [
    {
     "name": "stdout",
     "output_type": "stream",
     "text": [
      "train_accuracy : 0.6437991670522906\n",
      "test_accuracy : 0.6365844880331114\n"
     ]
    }
   ],
   "source": [
    "print('train_accuracy :', metrics.accuracy_score(train.Car_Cancellation, train.y_pred))\n",
    "print('test_accuracy :', metrics.accuracy_score(test.Car_Cancellation, test.y_pred))"
   ]
  },
  {
   "cell_type": "code",
   "execution_count": 221,
   "id": "d010ac53",
   "metadata": {},
   "outputs": [],
   "source": [
    "# classification report"
   ]
  },
  {
   "cell_type": "code",
   "execution_count": 223,
   "id": "7cb4c00d",
   "metadata": {},
   "outputs": [
    {
     "name": "stdout",
     "output_type": "stream",
     "text": [
      "              precision    recall  f1-score   support\n",
      "\n",
      "           0       0.67      0.57      0.62     13107\n",
      "           1       0.62      0.72      0.67     12825\n",
      "\n",
      "    accuracy                           0.64     25932\n",
      "   macro avg       0.65      0.64      0.64     25932\n",
      "weighted avg       0.65      0.64      0.64     25932\n",
      "\n"
     ]
    }
   ],
   "source": [
    "print(metrics.classification_report(train.Car_Cancellation, train.y_pred))"
   ]
  },
  {
   "cell_type": "code",
   "execution_count": 224,
   "id": "6d3f1f01",
   "metadata": {},
   "outputs": [
    {
     "name": "stdout",
     "output_type": "stream",
     "text": [
      "              precision    recall  f1-score   support\n",
      "\n",
      "           0       0.65      0.56      0.60      5416\n",
      "           1       0.63      0.71      0.67      5698\n",
      "\n",
      "    accuracy                           0.64     11114\n",
      "   macro avg       0.64      0.63      0.63     11114\n",
      "weighted avg       0.64      0.64      0.63     11114\n",
      "\n"
     ]
    }
   ],
   "source": [
    "print(metrics.classification_report(test.Car_Cancellation, test.y_pred))"
   ]
  },
  {
   "cell_type": "code",
   "execution_count": 225,
   "id": "0a2e5985",
   "metadata": {},
   "outputs": [],
   "source": [
    "# creating a DataFrame to store the accuracies of all model, for the purpose of comapring\n",
    "df2 = pd.DataFrame(columns=['model_name','train_accuracy','test_accuracy'])"
   ]
  },
  {
   "cell_type": "code",
   "execution_count": 226,
   "id": "f2864672",
   "metadata": {},
   "outputs": [
    {
     "name": "stderr",
     "output_type": "stream",
     "text": [
      "C:\\Users\\LingrajRipplr\\AppData\\Local\\Temp\\ipykernel_8224\\3791158290.py:2: FutureWarning: The frame.append method is deprecated and will be removed from pandas in a future version. Use pandas.concat instead.\n",
      "  df2 = df2.append({'model_name':'Logistic regression', 'train_accuracy': metrics.accuracy_score(train.Car_Cancellation, train.y_pred), 'test_accuracy': metrics.accuracy_score(test.Car_Cancellation, test.y_pred)}, ignore_index=True)\n"
     ]
    }
   ],
   "source": [
    "# appending values from logistic model\n",
    "df2 = df2.append({'model_name':'Logistic regression', 'train_accuracy': metrics.accuracy_score(train.Car_Cancellation, train.y_pred), 'test_accuracy': metrics.accuracy_score(test.Car_Cancellation, test.y_pred)}, ignore_index=True)"
   ]
  },
  {
   "cell_type": "code",
   "execution_count": 227,
   "id": "a34dcde7",
   "metadata": {},
   "outputs": [],
   "source": [
    "# train test split\n",
    "from sklearn.model_selection import train_test_split"
   ]
  },
  {
   "cell_type": "code",
   "execution_count": 228,
   "id": "293e788b",
   "metadata": {},
   "outputs": [],
   "source": [
    "train_x, test_x, train_y,  test_y = train_test_split(x_res_new, y_res, test_size=0.3, random_state=123)"
   ]
  },
  {
   "cell_type": "code",
   "execution_count": 229,
   "id": "381184d5",
   "metadata": {
    "scrolled": true
   },
   "outputs": [
    {
     "data": {
      "text/plain": [
       "(25932, 8)"
      ]
     },
     "execution_count": 229,
     "metadata": {},
     "output_type": "execute_result"
    }
   ],
   "source": [
    "train_x.shape"
   ]
  },
  {
   "cell_type": "code",
   "execution_count": 230,
   "id": "e6c45685",
   "metadata": {},
   "outputs": [
    {
     "data": {
      "text/plain": [
       "(25932,)"
      ]
     },
     "execution_count": 230,
     "metadata": {},
     "output_type": "execute_result"
    }
   ],
   "source": [
    "train_y.shape"
   ]
  },
  {
   "cell_type": "code",
   "execution_count": 233,
   "id": "1e69e1dc",
   "metadata": {
    "scrolled": true
   },
   "outputs": [
    {
     "data": {
      "text/plain": [
       "(11114, 8)"
      ]
     },
     "execution_count": 233,
     "metadata": {},
     "output_type": "execute_result"
    }
   ],
   "source": [
    "test_x.shape"
   ]
  },
  {
   "cell_type": "code",
   "execution_count": 234,
   "id": "11422ed7",
   "metadata": {},
   "outputs": [
    {
     "data": {
      "text/plain": [
       "(11114,)"
      ]
     },
     "execution_count": 234,
     "metadata": {},
     "output_type": "execute_result"
    }
   ],
   "source": [
    "test_y.shape"
   ]
  },
  {
   "cell_type": "code",
   "execution_count": 235,
   "id": "6adbfa3d",
   "metadata": {},
   "outputs": [],
   "source": [
    "# Random Forest Classifier"
   ]
  },
  {
   "cell_type": "code",
   "execution_count": 236,
   "id": "44424551",
   "metadata": {},
   "outputs": [],
   "source": [
    "from sklearn.ensemble import RandomForestClassifier\n",
    "from sklearn.model_selection import GridSearchCV"
   ]
  },
  {
   "cell_type": "code",
   "execution_count": 237,
   "id": "b1cf1dfd",
   "metadata": {},
   "outputs": [
    {
     "name": "stdout",
     "output_type": "stream",
     "text": [
      "Fitting 5 folds for each of 90 candidates, totalling 450 fits\n"
     ]
    }
   ],
   "source": [
    "#using gridsearch\n",
    "pargrid_ada2 = {'n_estimators': [50, 60, 70, 80, 90, 100],\n",
    "                'max_features': [2,3,4],\n",
    "              'max_depth': [2,3,4,5,6]}\n",
    "gscv_Rf2 = GridSearchCV(estimator=RandomForestClassifier(), \n",
    "                        param_grid=pargrid_ada2, \n",
    "                        cv=5,\n",
    "                        verbose=True, n_jobs=-1, scoring='roc_auc').fit(train_x, train_y)"
   ]
  },
  {
   "cell_type": "code",
   "execution_count": 238,
   "id": "36ee4cd4",
   "metadata": {},
   "outputs": [
    {
     "name": "stdout",
     "output_type": "stream",
     "text": [
      "{'max_depth': 6, 'max_features': 4, 'n_estimators': 70}\n",
      "0.8883483523248159\n"
     ]
    }
   ],
   "source": [
    "print(gscv_Rf2.best_params_)\n",
    "print(gscv_Rf2.best_score_)"
   ]
  },
  {
   "cell_type": "code",
   "execution_count": 239,
   "id": "b27a449e",
   "metadata": {},
   "outputs": [
    {
     "data": {
      "text/plain": [
       "RandomForestClassifier(max_depth=6, max_features=4, n_estimators=70, n_jobs=-1,\n",
       "                       oob_score=True)"
      ]
     },
     "execution_count": 239,
     "metadata": {},
     "output_type": "execute_result"
    }
   ],
   "source": [
    "rf_model2 = RandomForestClassifier(oob_score=True,n_estimators=70 , max_depth = 6, max_features=4, n_jobs=-1)\n",
    "rf_model2.fit( train_x, train_y )"
   ]
  },
  {
   "cell_type": "code",
   "execution_count": 240,
   "id": "3af4fa76",
   "metadata": {},
   "outputs": [
    {
     "name": "stdout",
     "output_type": "stream",
     "text": [
      "accuracy_scores\n",
      "train_accuracy : 0.7926114453185253\n",
      "test_accuracy : 0.7841461220082778\n",
      "------------------------------------------------------------------------------------------------------------\n",
      "roc_auc_scores\n",
      "roc_auc_train : 0.8878710704858244\n",
      "roc_auc_test : 0.8802134018622203\n",
      "------------------------------------------------------------------------------------------------------------\n",
      "classifiaction_report\n",
      "              precision    recall  f1-score   support\n",
      "\n",
      "           0       0.80      0.79      0.79     13107\n",
      "           1       0.79      0.79      0.79     12825\n",
      "\n",
      "    accuracy                           0.79     25932\n",
      "   macro avg       0.79      0.79      0.79     25932\n",
      "weighted avg       0.79      0.79      0.79     25932\n",
      "\n",
      "              precision    recall  f1-score   support\n",
      "\n",
      "           0       0.77      0.79      0.78      5416\n",
      "           1       0.80      0.78      0.79      5698\n",
      "\n",
      "    accuracy                           0.78     11114\n",
      "   macro avg       0.78      0.78      0.78     11114\n",
      "weighted avg       0.78      0.78      0.78     11114\n",
      "\n"
     ]
    }
   ],
   "source": [
    "model_metric_results(rf_model2, train_x, train_y, test_x, test_y)"
   ]
  },
  {
   "cell_type": "code",
   "execution_count": 241,
   "id": "cce06e4b",
   "metadata": {},
   "outputs": [
    {
     "name": "stderr",
     "output_type": "stream",
     "text": [
      "C:\\Users\\LingrajRipplr\\AppData\\Local\\Temp\\ipykernel_8224\\4031192824.py:2: FutureWarning: The frame.append method is deprecated and will be removed from pandas in a future version. Use pandas.concat instead.\n",
      "  df2 = df2.append({'model_name':'Random Forest Classifier', 'train_accuracy':metrics.accuracy_score(train_y, rf_model2.predict(train_x)), 'test_accuracy': metrics.accuracy_score(test_y, rf_model2.predict(test_x))}, ignore_index=True)\n"
     ]
    }
   ],
   "source": [
    "# appending values from Random Forest Classifier\n",
    "df2 = df2.append({'model_name':'Random Forest Classifier', 'train_accuracy':metrics.accuracy_score(train_y, rf_model2.predict(train_x)), 'test_accuracy': metrics.accuracy_score(test_y, rf_model2.predict(test_x))}, ignore_index=True)"
   ]
  },
  {
   "cell_type": "code",
   "execution_count": 242,
   "id": "65292c8c",
   "metadata": {},
   "outputs": [],
   "source": [
    "# XGBoost"
   ]
  },
  {
   "cell_type": "code",
   "execution_count": 243,
   "id": "ebc65490",
   "metadata": {},
   "outputs": [],
   "source": [
    "from xgboost import XGBClassifier"
   ]
  },
  {
   "cell_type": "code",
   "execution_count": 244,
   "id": "4d1d0f53",
   "metadata": {},
   "outputs": [],
   "source": [
    "# Tuning paramteres\n",
    "s_grid2 = {'learning_rate':[0.01,0.05,0.1], 'n_estimators':[100,200,300]}"
   ]
  },
  {
   "cell_type": "code",
   "execution_count": 245,
   "id": "2f21235d",
   "metadata": {},
   "outputs": [],
   "source": [
    "xgb_model2 = GridSearchCV(XGBClassifier(), s_grid2, cv=5, scoring='roc_auc', n_jobs=-1, verbose=True)"
   ]
  },
  {
   "cell_type": "code",
   "execution_count": 246,
   "id": "113d863f",
   "metadata": {},
   "outputs": [
    {
     "name": "stdout",
     "output_type": "stream",
     "text": [
      "Fitting 5 folds for each of 9 candidates, totalling 45 fits\n"
     ]
    }
   ],
   "source": [
    "xgb_model2 = xgb_model2.fit(train_x, train_y)"
   ]
  },
  {
   "cell_type": "code",
   "execution_count": 247,
   "id": "aff46d66",
   "metadata": {},
   "outputs": [
    {
     "data": {
      "text/plain": [
       "{'learning_rate': 0.1, 'n_estimators': 300}"
      ]
     },
     "execution_count": 247,
     "metadata": {},
     "output_type": "execute_result"
    }
   ],
   "source": [
    "xgb_model2.best_params_"
   ]
  },
  {
   "cell_type": "code",
   "execution_count": 248,
   "id": "24dacfd8",
   "metadata": {},
   "outputs": [
    {
     "data": {
      "text/plain": [
       "0.9723432792134463"
      ]
     },
     "execution_count": 248,
     "metadata": {},
     "output_type": "execute_result"
    }
   ],
   "source": [
    "xgb_model2.best_score_"
   ]
  },
  {
   "cell_type": "code",
   "execution_count": 249,
   "id": "39480623",
   "metadata": {},
   "outputs": [],
   "source": [
    "xgb_model_final2 = XGBClassifier(n_estimators=300, learning_rate=0.1)"
   ]
  },
  {
   "cell_type": "code",
   "execution_count": 250,
   "id": "7c15fb9d",
   "metadata": {},
   "outputs": [],
   "source": [
    "xgb_model_final2 = xgb_model_final2.fit(train_x, train_y)"
   ]
  },
  {
   "cell_type": "code",
   "execution_count": 251,
   "id": "6ea818b2",
   "metadata": {},
   "outputs": [
    {
     "name": "stdout",
     "output_type": "stream",
     "text": [
      "accuracy_scores\n",
      "train_accuracy : 0.9477093937991671\n",
      "test_accuracy : 0.9152420370703617\n",
      "------------------------------------------------------------------------------------------------------------\n",
      "roc_auc_scores\n",
      "roc_auc_train : 0.9903061307805259\n",
      "roc_auc_test : 0.9744380559557814\n",
      "------------------------------------------------------------------------------------------------------------\n",
      "classifiaction_report\n",
      "              precision    recall  f1-score   support\n",
      "\n",
      "           0       0.93      0.97      0.95     13107\n",
      "           1       0.97      0.92      0.95     12825\n",
      "\n",
      "    accuracy                           0.95     25932\n",
      "   macro avg       0.95      0.95      0.95     25932\n",
      "weighted avg       0.95      0.95      0.95     25932\n",
      "\n",
      "              precision    recall  f1-score   support\n",
      "\n",
      "           0       0.89      0.95      0.92      5416\n",
      "           1       0.94      0.89      0.91      5698\n",
      "\n",
      "    accuracy                           0.92     11114\n",
      "   macro avg       0.92      0.92      0.92     11114\n",
      "weighted avg       0.92      0.92      0.92     11114\n",
      "\n"
     ]
    }
   ],
   "source": [
    "model_metric_results(xgb_model_final2,train_x,train_y,test_x,test_y)"
   ]
  },
  {
   "cell_type": "code",
   "execution_count": 252,
   "id": "6082ebe6",
   "metadata": {},
   "outputs": [
    {
     "name": "stderr",
     "output_type": "stream",
     "text": [
      "C:\\Users\\LingrajRipplr\\AppData\\Local\\Temp\\ipykernel_8224\\519695811.py:2: FutureWarning: The frame.append method is deprecated and will be removed from pandas in a future version. Use pandas.concat instead.\n",
      "  df2 = df2.append({'model_name':'XGBoost Classifier', 'train_accuracy':metrics.accuracy_score(train_y, xgb_model_final2.predict(train_x)), 'test_accuracy': metrics.accuracy_score(test_y, xgb_model_final2.predict(test_x))}, ignore_index=True)\n"
     ]
    }
   ],
   "source": [
    "# appending values from XGBoost Classifier\n",
    "df2 = df2.append({'model_name':'XGBoost Classifier', 'train_accuracy':metrics.accuracy_score(train_y, xgb_model_final2.predict(train_x)), 'test_accuracy': metrics.accuracy_score(test_y, xgb_model_final2.predict(test_x))}, ignore_index=True)"
   ]
  },
  {
   "cell_type": "code",
   "execution_count": 253,
   "id": "6744c86c",
   "metadata": {},
   "outputs": [
    {
     "data": {
      "text/html": [
       "<div>\n",
       "<style scoped>\n",
       "    .dataframe tbody tr th:only-of-type {\n",
       "        vertical-align: middle;\n",
       "    }\n",
       "\n",
       "    .dataframe tbody tr th {\n",
       "        vertical-align: top;\n",
       "    }\n",
       "\n",
       "    .dataframe thead th {\n",
       "        text-align: right;\n",
       "    }\n",
       "</style>\n",
       "<table border=\"1\" class=\"dataframe\">\n",
       "  <thead>\n",
       "    <tr style=\"text-align: right;\">\n",
       "      <th></th>\n",
       "      <th>model_name</th>\n",
       "      <th>train_accuracy</th>\n",
       "      <th>test_accuracy</th>\n",
       "    </tr>\n",
       "  </thead>\n",
       "  <tbody>\n",
       "    <tr>\n",
       "      <th>0</th>\n",
       "      <td>Logistic regression</td>\n",
       "      <td>0.643799</td>\n",
       "      <td>0.636584</td>\n",
       "    </tr>\n",
       "    <tr>\n",
       "      <th>1</th>\n",
       "      <td>Random Forest Classifier</td>\n",
       "      <td>0.792611</td>\n",
       "      <td>0.784146</td>\n",
       "    </tr>\n",
       "    <tr>\n",
       "      <th>2</th>\n",
       "      <td>XGBoost Classifier</td>\n",
       "      <td>0.947709</td>\n",
       "      <td>0.915242</td>\n",
       "    </tr>\n",
       "  </tbody>\n",
       "</table>\n",
       "</div>"
      ],
      "text/plain": [
       "                 model_name  train_accuracy  test_accuracy\n",
       "0       Logistic regression        0.643799       0.636584\n",
       "1  Random Forest Classifier        0.792611       0.784146\n",
       "2        XGBoost Classifier        0.947709       0.915242"
      ]
     },
     "execution_count": 253,
     "metadata": {},
     "output_type": "execute_result"
    }
   ],
   "source": [
    "df2"
   ]
  },
  {
   "cell_type": "code",
   "execution_count": 254,
   "id": "52e39772",
   "metadata": {},
   "outputs": [],
   "source": [
    "# based on the accuracy we can select XGBoost classifier & the model is xgb_model_final2"
   ]
  },
  {
   "cell_type": "code",
   "execution_count": null,
   "id": "d3c89ac3",
   "metadata": {},
   "outputs": [],
   "source": []
  }
 ],
 "metadata": {
  "kernelspec": {
   "display_name": "Python 3 (ipykernel)",
   "language": "python",
   "name": "python3"
  },
  "language_info": {
   "codemirror_mode": {
    "name": "ipython",
    "version": 3
   },
   "file_extension": ".py",
   "mimetype": "text/x-python",
   "name": "python",
   "nbconvert_exporter": "python",
   "pygments_lexer": "ipython3",
   "version": "3.9.13"
  }
 },
 "nbformat": 4,
 "nbformat_minor": 5
}
